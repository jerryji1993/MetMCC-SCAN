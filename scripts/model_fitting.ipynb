{
 "cells": [
  {
   "cell_type": "markdown",
   "metadata": {},
   "source": [
    "# Model fitting for MetMCC-SCAN\n",
    "## Yanrong (Jerry) Ji"
   ]
  },
  {
   "cell_type": "markdown",
   "metadata": {},
   "source": [
    "## TODO:\n",
    "- build a pipeline for preprocessing\n",
    ">- further group some levels and compare\n",
    ">- missing val: imputation/leave as it is\n",
    ">- more feature engineering?\n",
    "- bayesian optimization (done)\n",
    "- merge SEER data\n",
    "- bagged XGBoost\n",
    "\n",
    "## Major issues:\n",
    "- Categorical + Numeric\n",
    "- Missing values\n",
    "- Imbalance"
   ]
  },
  {
   "cell_type": "code",
   "execution_count": null,
   "metadata": {},
   "outputs": [],
   "source": [
    "# !pip install xgboost\n",
    "# !pip install lightgbm\n",
    "# !pip install catboost\n",
    "# !pip install scikit-optimize\n",
    "# !pip install imblearn"
   ]
  },
  {
   "cell_type": "code",
   "execution_count": 1,
   "metadata": {},
   "outputs": [],
   "source": [
    "# general modules\n",
    "import os\n",
    "from copy import deepcopy\n",
    "import pickle as pkl\n",
    "import pandas as pd\n",
    "import numpy as np\n",
    "from scipy import stats\n",
    "import matplotlib.pyplot as plt\n",
    "import seaborn as sns\n",
    "\n",
    "# sklearn modules\n",
    "from sklearn.model_selection import train_test_split, RepeatedStratifiedKFold\n",
    "from sklearn.model_selection import RandomizedSearchCV, GridSearchCV\n",
    "from sklearn.linear_model import LogisticRegression\n",
    "from sklearn.ensemble import RandomForestClassifier\n",
    "from sklearn.inspection import plot_partial_dependence\n",
    "from sklearn.metrics import accuracy_score,confusion_matrix, auc, roc_auc_score\n",
    "from sklearn.metrics import roc_curve, f1_score, average_precision_score\n",
    "from sklearn.metrics import precision_score, recall_score\n",
    "\n",
    "# xgboost,lightgbm,catboost\n",
    "from xgboost import XGBClassifier\n",
    "from lightgbm import LGBMClassifier\n",
    "from catboost import CatBoostClassifier\n",
    "\n",
    "# Bayesian optimization\n",
    "from skopt import BayesSearchCV\n",
    "from skopt import callbacks\n",
    "from skopt.space import Real, Integer\n",
    "\n",
    "# Class imbalance\n",
    "from imblearn.over_sampling import SMOTENC\n",
    "from imblearn.ensemble import BalancedRandomForestClassifier\n",
    "\n",
    "# set seaborn style\n",
    "sns.set(style='white')\n",
    "sns.set(style='whitegrid', color_codes=True)\n",
    "sns.set(font_scale=1.5)"
   ]
  },
  {
   "cell_type": "code",
   "execution_count": 2,
   "metadata": {},
   "outputs": [],
   "source": [
    "BASE_DIR = os.path.dirname(os.path.realpath('model_fitting')) + '/'"
   ]
  },
  {
   "cell_type": "code",
   "execution_count": 3,
   "metadata": {},
   "outputs": [],
   "source": [
    "# read in data\n",
    "mcc_ncdb = pd.read_pickle(BASE_DIR + '../data/Merkel_NCDB_clean.pkl')"
   ]
  },
  {
   "cell_type": "code",
   "execution_count": 4,
   "metadata": {},
   "outputs": [
    {
     "data": {
      "text/html": [
       "<div>\n",
       "<style scoped>\n",
       "    .dataframe tbody tr th:only-of-type {\n",
       "        vertical-align: middle;\n",
       "    }\n",
       "\n",
       "    .dataframe tbody tr th {\n",
       "        vertical-align: top;\n",
       "    }\n",
       "\n",
       "    .dataframe thead th {\n",
       "        text-align: right;\n",
       "    }\n",
       "</style>\n",
       "<table border=\"1\" class=\"dataframe\">\n",
       "  <thead>\n",
       "    <tr style=\"text-align: right;\">\n",
       "      <th></th>\n",
       "      <th>DEPTH</th>\n",
       "      <th>TUMOR_SIZE</th>\n",
       "      <th>PRIMARY_SITE</th>\n",
       "      <th>AGE</th>\n",
       "      <th>SEX</th>\n",
       "      <th>GROWTH_PATTERN</th>\n",
       "      <th>HISTOLOGY</th>\n",
       "      <th>LATERALITY</th>\n",
       "      <th>LYMPH_VASCULAR_INVASION</th>\n",
       "      <th>TUMOR_INFILTRATING_LYMPHOCYTES</th>\n",
       "      <th>IMMUNE_SUPPRESSION</th>\n",
       "      <th>TUMOR_BASE_TRANSFECTION</th>\n",
       "      <th>SLNB</th>\n",
       "      <th>YEAR_SINCE_DIAGNOSIS</th>\n",
       "    </tr>\n",
       "  </thead>\n",
       "  <tbody>\n",
       "    <tr>\n",
       "      <th>3</th>\n",
       "      <td>999.0</td>\n",
       "      <td>999</td>\n",
       "      <td>C441</td>\n",
       "      <td>82</td>\n",
       "      <td>1</td>\n",
       "      <td>999</td>\n",
       "      <td>8140</td>\n",
       "      <td>2</td>\n",
       "      <td>9</td>\n",
       "      <td>999</td>\n",
       "      <td>999</td>\n",
       "      <td>999</td>\n",
       "      <td>0.0</td>\n",
       "      <td>5</td>\n",
       "    </tr>\n",
       "    <tr>\n",
       "      <th>8</th>\n",
       "      <td>999.0</td>\n",
       "      <td>1</td>\n",
       "      <td>C444</td>\n",
       "      <td>71</td>\n",
       "      <td>1</td>\n",
       "      <td>999</td>\n",
       "      <td>8247</td>\n",
       "      <td>0</td>\n",
       "      <td>0</td>\n",
       "      <td>999</td>\n",
       "      <td>999</td>\n",
       "      <td>999</td>\n",
       "      <td>0.0</td>\n",
       "      <td>5</td>\n",
       "    </tr>\n",
       "    <tr>\n",
       "      <th>9</th>\n",
       "      <td>999.0</td>\n",
       "      <td>20</td>\n",
       "      <td>C441</td>\n",
       "      <td>49</td>\n",
       "      <td>2</td>\n",
       "      <td>999</td>\n",
       "      <td>8480</td>\n",
       "      <td>2</td>\n",
       "      <td>9</td>\n",
       "      <td>999</td>\n",
       "      <td>999</td>\n",
       "      <td>999</td>\n",
       "      <td>0.0</td>\n",
       "      <td>3</td>\n",
       "    </tr>\n",
       "    <tr>\n",
       "      <th>14</th>\n",
       "      <td>1.0</td>\n",
       "      <td>2</td>\n",
       "      <td>C443</td>\n",
       "      <td>43</td>\n",
       "      <td>1</td>\n",
       "      <td>999</td>\n",
       "      <td>8247</td>\n",
       "      <td>2</td>\n",
       "      <td>9</td>\n",
       "      <td>0</td>\n",
       "      <td>0</td>\n",
       "      <td>20</td>\n",
       "      <td>0.0</td>\n",
       "      <td>2</td>\n",
       "    </tr>\n",
       "    <tr>\n",
       "      <th>19</th>\n",
       "      <td>50.0</td>\n",
       "      <td>25</td>\n",
       "      <td>C447</td>\n",
       "      <td>59</td>\n",
       "      <td>2</td>\n",
       "      <td>999</td>\n",
       "      <td>8247</td>\n",
       "      <td>1</td>\n",
       "      <td>0</td>\n",
       "      <td>999</td>\n",
       "      <td>999</td>\n",
       "      <td>999</td>\n",
       "      <td>0.0</td>\n",
       "      <td>2</td>\n",
       "    </tr>\n",
       "  </tbody>\n",
       "</table>\n",
       "</div>"
      ],
      "text/plain": [
       "    DEPTH  TUMOR_SIZE PRIMARY_SITE  AGE  SEX GROWTH_PATTERN HISTOLOGY  \\\n",
       "3   999.0         999         C441   82    1            999      8140   \n",
       "8   999.0           1         C444   71    1            999      8247   \n",
       "9   999.0          20         C441   49    2            999      8480   \n",
       "14    1.0           2         C443   43    1            999      8247   \n",
       "19   50.0          25         C447   59    2            999      8247   \n",
       "\n",
       "   LATERALITY LYMPH_VASCULAR_INVASION TUMOR_INFILTRATING_LYMPHOCYTES  \\\n",
       "3           2                       9                            999   \n",
       "8           0                       0                            999   \n",
       "9           2                       9                            999   \n",
       "14          2                       9                              0   \n",
       "19          1                       0                            999   \n",
       "\n",
       "   IMMUNE_SUPPRESSION TUMOR_BASE_TRANSFECTION  SLNB  YEAR_SINCE_DIAGNOSIS  \n",
       "3                 999                     999   0.0                     5  \n",
       "8                 999                     999   0.0                     5  \n",
       "9                 999                     999   0.0                     3  \n",
       "14                  0                      20   0.0                     2  \n",
       "19                999                     999   0.0                     2  "
      ]
     },
     "execution_count": 4,
     "metadata": {},
     "output_type": "execute_result"
    }
   ],
   "source": [
    "mcc_ncdb.head()"
   ]
  },
  {
   "cell_type": "markdown",
   "metadata": {},
   "source": [
    "## Split data"
   ]
  },
  {
   "cell_type": "code",
   "execution_count": 5,
   "metadata": {},
   "outputs": [],
   "source": [
    "# subset of features only\n",
    "mcc_ncdb_sel = mcc_ncdb[['AGE','SEX','PRIMARY_SITE','LYMPH_VASCULAR_INVASION',\n",
    "                        'TUMOR_SIZE', 'DEPTH', 'TUMOR_INFILTRATING_LYMPHOCYTES',\n",
    "                        'IMMUNE_SUPPRESSION', 'SLNB'\n",
    "                       ]]\n",
    "mcc_ncdb_sel = pd.get_dummies(mcc_ncdb_sel)\n",
    "X_sel = np.array(mcc_ncdb_sel.loc[:, mcc_ncdb_sel.columns != 'SLNB'])\n",
    "y_sel = np.array(mcc_ncdb_sel.loc[:, mcc_ncdb_sel.columns == 'SLNB'])\n",
    "X_train_sel, X_test_sel, y_train_sel, y_test_sel = train_test_split(X_sel, y_sel, \n",
    "                                                                test_size = 0.1, \n",
    "                                                                random_state = 123) # set seed to ensure reproducibility"
   ]
  },
  {
   "cell_type": "code",
   "execution_count": 6,
   "metadata": {},
   "outputs": [],
   "source": [
    "# all features\n",
    "mcc_ncdb = pd.get_dummies(mcc_ncdb)\n",
    "X = np.array(mcc_ncdb.loc[:, mcc_ncdb.columns != 'SLNB'])\n",
    "y = np.array(mcc_ncdb.loc[:, mcc_ncdb.columns == 'SLNB'])\n",
    "X_train, X_test, y_train, y_test = train_test_split(X, y, \n",
    "                                                    test_size = 0.1, \n",
    "                                                    random_state = 123) # set seed to ensure reproducibility"
   ]
  },
  {
   "cell_type": "code",
   "execution_count": 7,
   "metadata": {},
   "outputs": [
    {
     "data": {
      "text/plain": [
       "(6048, 75)"
      ]
     },
     "execution_count": 7,
     "metadata": {},
     "output_type": "execute_result"
    }
   ],
   "source": [
    "X_train.shape"
   ]
  },
  {
   "cell_type": "code",
   "execution_count": 8,
   "metadata": {},
   "outputs": [
    {
     "data": {
      "text/plain": [
       "(6048, 32)"
      ]
     },
     "execution_count": 8,
     "metadata": {},
     "output_type": "execute_result"
    }
   ],
   "source": [
    "X_train_sel.shape"
   ]
  },
  {
   "cell_type": "code",
   "execution_count": 9,
   "metadata": {},
   "outputs": [
    {
     "data": {
      "text/plain": [
       "Index(['DEPTH', 'TUMOR_SIZE', 'AGE', 'SEX', 'SLNB', 'YEAR_SINCE_DIAGNOSIS',\n",
       "       'PRIMARY_SITE_C440', 'PRIMARY_SITE_C441', 'PRIMARY_SITE_C442',\n",
       "       'PRIMARY_SITE_C443', 'PRIMARY_SITE_C444', 'PRIMARY_SITE_C445',\n",
       "       'PRIMARY_SITE_C446', 'PRIMARY_SITE_C447', 'PRIMARY_SITE_C448',\n",
       "       'PRIMARY_SITE_C449', 'GROWTH_PATTERN_1.0', 'GROWTH_PATTERN_20.0',\n",
       "       'GROWTH_PATTERN_999.0', 'HISTOLOGY_8140', 'HISTOLOGY_8143',\n",
       "       'HISTOLOGY_8147', 'HISTOLOGY_8200', 'HISTOLOGY_8240', 'HISTOLOGY_8246',\n",
       "       'HISTOLOGY_8247', 'HISTOLOGY_8260', 'HISTOLOGY_8310', 'HISTOLOGY_8323',\n",
       "       'HISTOLOGY_8347', 'HISTOLOGY_8390', 'HISTOLOGY_8400', 'HISTOLOGY_8401',\n",
       "       'HISTOLOGY_8402', 'HISTOLOGY_8407', 'HISTOLOGY_8409', 'HISTOLOGY_8410',\n",
       "       'HISTOLOGY_8413', 'HISTOLOGY_8430', 'HISTOLOGY_8480', 'HISTOLOGY_8481',\n",
       "       'HISTOLOGY_8490', 'HISTOLOGY_8500', 'HISTOLOGY_8573', 'HISTOLOGY_8832',\n",
       "       'HISTOLOGY_8833', 'HISTOLOGY_8891', 'HISTOLOGY_9120', 'LATERALITY_0',\n",
       "       'LATERALITY_1', 'LATERALITY_2', 'LATERALITY_3', 'LATERALITY_4',\n",
       "       'LATERALITY_9', 'LYMPH_VASCULAR_INVASION_0.0',\n",
       "       'LYMPH_VASCULAR_INVASION_1.0', 'LYMPH_VASCULAR_INVASION_8.0',\n",
       "       'LYMPH_VASCULAR_INVASION_9.0', 'TUMOR_INFILTRATING_LYMPHOCYTES_0.0',\n",
       "       'TUMOR_INFILTRATING_LYMPHOCYTES_1.0',\n",
       "       'TUMOR_INFILTRATING_LYMPHOCYTES_20.0',\n",
       "       'TUMOR_INFILTRATING_LYMPHOCYTES_30.0',\n",
       "       'TUMOR_INFILTRATING_LYMPHOCYTES_999.0', 'IMMUNE_SUPPRESSION_0.0',\n",
       "       'IMMUNE_SUPPRESSION_1.0', 'IMMUNE_SUPPRESSION_20.0',\n",
       "       'IMMUNE_SUPPRESSION_30.0', 'IMMUNE_SUPPRESSION_40.0',\n",
       "       'IMMUNE_SUPPRESSION_50.0', 'IMMUNE_SUPPRESSION_60.0',\n",
       "       'IMMUNE_SUPPRESSION_70.0', 'IMMUNE_SUPPRESSION_999.0',\n",
       "       'TUMOR_BASE_TRANSFECTION_0.0', 'TUMOR_BASE_TRANSFECTION_1.0',\n",
       "       'TUMOR_BASE_TRANSFECTION_20.0', 'TUMOR_BASE_TRANSFECTION_999.0'],\n",
       "      dtype='object')"
      ]
     },
     "execution_count": 9,
     "metadata": {},
     "output_type": "execute_result"
    }
   ],
   "source": [
    "mcc_ncdb.columns"
   ]
  },
  {
   "cell_type": "code",
   "execution_count": 10,
   "metadata": {},
   "outputs": [
    {
     "data": {
      "text/plain": [
       "Index(['AGE', 'SEX', 'TUMOR_SIZE', 'DEPTH', 'SLNB', 'PRIMARY_SITE_C440',\n",
       "       'PRIMARY_SITE_C441', 'PRIMARY_SITE_C442', 'PRIMARY_SITE_C443',\n",
       "       'PRIMARY_SITE_C444', 'PRIMARY_SITE_C445', 'PRIMARY_SITE_C446',\n",
       "       'PRIMARY_SITE_C447', 'PRIMARY_SITE_C448', 'PRIMARY_SITE_C449',\n",
       "       'LYMPH_VASCULAR_INVASION_0.0', 'LYMPH_VASCULAR_INVASION_1.0',\n",
       "       'LYMPH_VASCULAR_INVASION_8.0', 'LYMPH_VASCULAR_INVASION_9.0',\n",
       "       'TUMOR_INFILTRATING_LYMPHOCYTES_0.0',\n",
       "       'TUMOR_INFILTRATING_LYMPHOCYTES_1.0',\n",
       "       'TUMOR_INFILTRATING_LYMPHOCYTES_20.0',\n",
       "       'TUMOR_INFILTRATING_LYMPHOCYTES_30.0',\n",
       "       'TUMOR_INFILTRATING_LYMPHOCYTES_999.0', 'IMMUNE_SUPPRESSION_0.0',\n",
       "       'IMMUNE_SUPPRESSION_1.0', 'IMMUNE_SUPPRESSION_20.0',\n",
       "       'IMMUNE_SUPPRESSION_30.0', 'IMMUNE_SUPPRESSION_40.0',\n",
       "       'IMMUNE_SUPPRESSION_50.0', 'IMMUNE_SUPPRESSION_60.0',\n",
       "       'IMMUNE_SUPPRESSION_70.0', 'IMMUNE_SUPPRESSION_999.0'],\n",
       "      dtype='object')"
      ]
     },
     "execution_count": 10,
     "metadata": {},
     "output_type": "execute_result"
    }
   ],
   "source": [
    "mcc_ncdb_sel.columns"
   ]
  },
  {
   "cell_type": "markdown",
   "metadata": {},
   "source": [
    "## Balance dataset by SMOTE"
   ]
  },
  {
   "cell_type": "code",
   "execution_count": 11,
   "metadata": {},
   "outputs": [],
   "source": [
    "cat_features_idx = list(range(4,74,1))\n",
    "cat_features_idx.append(3)\n",
    "sm = SMOTENC(random_state=123, categorical_features = cat_features_idx) # set seed to ensure reproducibility\n",
    "X_train_balanced, y_train_balanced = sm.fit_sample(X_train, y_train.ravel())\n",
    "\n",
    "cat_features_idx_sel = list(range(5,31,1))\n",
    "cat_features_idx_sel.append(1)\n",
    "sm_sel = SMOTENC(random_state=123, categorical_features = cat_features_idx_sel) \n",
    "X_train_sel_balanced, y_train_sel_balanced = sm_sel.fit_sample(X_train_sel, y_train_sel.ravel())"
   ]
  },
  {
   "cell_type": "code",
   "execution_count": 12,
   "metadata": {},
   "outputs": [
    {
     "data": {
      "text/plain": [
       "(10494, 75)"
      ]
     },
     "execution_count": 12,
     "metadata": {},
     "output_type": "execute_result"
    }
   ],
   "source": [
    "X_train_balanced.shape"
   ]
  },
  {
   "cell_type": "code",
   "execution_count": 13,
   "metadata": {},
   "outputs": [
    {
     "data": {
      "text/plain": [
       "(10494, 32)"
      ]
     },
     "execution_count": 13,
     "metadata": {},
     "output_type": "execute_result"
    }
   ],
   "source": [
    "X_train_sel_balanced.shape"
   ]
  },
  {
   "cell_type": "code",
   "execution_count": 31,
   "metadata": {},
   "outputs": [],
   "source": [
    "def negative_pred_value(y_true, y_pred):\n",
    "    cm = confusion_matrix(y_true, y_pred)\n",
    "    TN = cm[0][0]\n",
    "    FN = cm[1][0]\n",
    "    return TN/(TN+FN)"
   ]
  },
  {
   "cell_type": "markdown",
   "metadata": {},
   "source": [
    "## Baseline: logistic regression (selected vars, not binned)"
   ]
  },
  {
   "cell_type": "code",
   "execution_count": 32,
   "metadata": {},
   "outputs": [
    {
     "name": "stdout",
     "output_type": "stream",
     "text": [
      "[[527  74]\n",
      " [ 51  21]]\n",
      "test accuracy: 0.8142644873699851\n",
      "test NPV: 0.9117647058823529\n",
      "test Precision: 0.22105263157894736\n",
      "test Recall: 0.2916666666666667\n",
      "test AUC: 0.7141107413569976\n",
      "test F1: 0.251497005988024\n",
      "test AUPR: 0.20422642744811098\n"
     ]
    }
   ],
   "source": [
    "log_clf_sel = LogisticRegression(penalty='none', max_iter=10000)\n",
    "log_clf_sel.fit(X_train_sel_balanced,y_train_sel_balanced.ravel())\n",
    "y_prob_sel = np.asarray(log_clf_sel.predict_proba(X_test_sel))\n",
    "y_pred_sel = np.asarray(log_clf_sel.predict(X_test_sel))\n",
    "y_test_sel = np.asarray(y_test_sel)\n",
    "print(confusion_matrix(y_test_sel, y_pred_sel))\n",
    "print(\"test accuracy: %s\" % log_clf_sel.score(X_test_sel, y_test_sel))\n",
    "print(\"test NPV: %s\" % negative_pred_value(y_test_sel, y_pred_sel))\n",
    "print(\"test Precision: %s\" % precision_score(y_test_sel, y_pred_sel))\n",
    "print(\"test Recall: %s\" % recall_score(y_test_sel, y_pred_sel))\n",
    "print(\"test AUC: %s\" % roc_auc_score(y_test_sel, y_prob_sel[:,1]))\n",
    "print(\"test F1: %s\" % f1_score(y_test_sel, y_pred_sel))\n",
    "print(\"test AUPR: %s\" % average_precision_score(y_test_sel, y_prob_sel[:,1]))"
   ]
  },
  {
   "cell_type": "markdown",
   "metadata": {},
   "source": [
    "## logistic regression (all vars, not binned)"
   ]
  },
  {
   "cell_type": "code",
   "execution_count": 33,
   "metadata": {},
   "outputs": [
    {
     "name": "stdout",
     "output_type": "stream",
     "text": [
      "[[466 135]\n",
      " [ 33  39]]\n",
      "test accuracy: 0.75037147102526\n",
      "test NPV: 0.9338677354709419\n",
      "test Precision: 0.22413793103448276\n",
      "test Recall: 0.5416666666666666\n",
      "test AUC: 0.6898225180255131\n",
      "test F1: 0.3170731707317073\n",
      "test AUPR: 0.20015532598976626\n"
     ]
    }
   ],
   "source": [
    "log_clf = LogisticRegression(penalty='none', max_iter=10000)\n",
    "log_clf.fit(X_train_balanced,y_train_balanced.ravel())\n",
    "y_prob = np.asarray(log_clf.predict_proba(X_test))\n",
    "y_pred = np.asarray(log_clf.predict(X_test))\n",
    "y_test = np.asarray(y_test)\n",
    "print(confusion_matrix(y_test, y_pred))\n",
    "print(\"test accuracy: %s\" % log_clf.score(X_test, y_test))\n",
    "print(\"test NPV: %s\" % negative_pred_value(y_test, y_pred))\n",
    "print(\"test Precision: %s\" % precision_score(y_test, y_pred))\n",
    "print(\"test Recall: %s\" % recall_score(y_test, y_pred))\n",
    "print(\"test AUC: %s\" % roc_auc_score(y_test, y_prob[:,1]))\n",
    "print(\"test F1: %s\" % f1_score(y_test, y_pred))\n",
    "print(\"test AUPR: %s\" % average_precision_score(y_test, y_prob[:,1]))"
   ]
  },
  {
   "cell_type": "markdown",
   "metadata": {},
   "source": [
    "## Random forest (selected vars, not binned)"
   ]
  },
  {
   "cell_type": "code",
   "execution_count": 34,
   "metadata": {},
   "outputs": [
    {
     "name": "stdout",
     "output_type": "stream",
     "text": [
      "test accuracy: 0.8231797919762258\n",
      "test NPV: 0.8950819672131147\n",
      "test Precision: 0.12698412698412698\n",
      "test Recall: 0.1111111111111111\n",
      "test AUC: 0.6111804400073951\n",
      "test F1: 0.11851851851851852\n",
      "test AUPR: 0.13667237539548904\n"
     ]
    }
   ],
   "source": [
    "# train a random forest classifier\n",
    "rf_sel = RandomForestClassifier(oob_score=True, \n",
    "                                 random_state=123) # set seed to ensure reproducibility\n",
    "rf_sel.fit(X_train_sel_balanced,y_train_sel_balanced.ravel())\n",
    "y_prob_sel = np.asarray(rf_sel.predict_proba(X_test_sel))\n",
    "y_pred_sel = np.asarray(rf_sel.predict(X_test_sel))\n",
    "y_test_sel = np.asarray(y_test_sel)\n",
    "print(\"test accuracy: %s\" % rf_sel.score(X_test_sel, y_test_sel))\n",
    "print(\"test NPV: %s\" % negative_pred_value(y_test_sel, y_pred_sel))\n",
    "print(\"test Precision: %s\" % precision_score(y_test_sel, y_pred_sel))\n",
    "print(\"test Recall: %s\" % recall_score(y_test_sel, y_pred_sel))\n",
    "print(\"test AUC: %s\" % roc_auc_score(y_test_sel, y_prob_sel[:,1]))\n",
    "print(\"test F1: %s\" % f1_score(y_test_sel, y_pred_sel))\n",
    "print(\"test AUPR: %s\" % average_precision_score(y_test_sel, y_prob_sel[:,1]))"
   ]
  },
  {
   "cell_type": "markdown",
   "metadata": {},
   "source": [
    "## Random forest (all vars, not binned)"
   ]
  },
  {
   "cell_type": "code",
   "execution_count": 35,
   "metadata": {},
   "outputs": [
    {
     "name": "stdout",
     "output_type": "stream",
     "text": [
      "test accuracy: 0.8306092124814265\n",
      "test NPV: 0.9051580698835274\n",
      "test Precision: 0.20833333333333334\n",
      "test Recall: 0.20833333333333334\n",
      "test AUC: 0.6627842484747642\n",
      "test F1: 0.20833333333333334\n",
      "test AUPR: 0.17954013958163836\n"
     ]
    }
   ],
   "source": [
    "# train a random forest classifier\n",
    "rf = RandomForestClassifier(oob_score=True, \n",
    "                                 random_state=123) # set seed to ensure reproducibility\n",
    "rf.fit(X_train_balanced,y_train_balanced.ravel())\n",
    "y_prob = np.asarray(rf.predict_proba(X_test))\n",
    "y_pred = np.asarray(rf.predict(X_test))\n",
    "y_test = np.asarray(y_test)\n",
    "print(\"test accuracy: %s\" % rf.score(X_test, y_test))\n",
    "print(\"test NPV: %s\" % negative_pred_value(y_test, y_pred))\n",
    "print(\"test Precision: %s\" % precision_score(y_test, y_pred))\n",
    "print(\"test Recall: %s\" % recall_score(y_test, y_pred))\n",
    "print(\"test AUC: %s\" % roc_auc_score(y_test, y_prob[:,1]))\n",
    "print(\"test F1: %s\" % f1_score(y_test, y_pred))\n",
    "print(\"test AUPR: %s\" % average_precision_score(y_test, y_prob[:,1]))"
   ]
  },
  {
   "cell_type": "markdown",
   "metadata": {},
   "source": [
    "## Random forest (cost-sensitive, all vars, not binned)"
   ]
  },
  {
   "cell_type": "code",
   "execution_count": 37,
   "metadata": {},
   "outputs": [
    {
     "name": "stdout",
     "output_type": "stream",
     "text": [
      "test accuracy: 0.7890044576523031\n",
      "test NPV: 0.9135135135135135\n",
      "test Precision: 0.2033898305084746\n",
      "test Recall: 0.3333333333333333\n",
      "test AUC: 0.660877703826955\n",
      "test F1: 0.2526315789473684\n",
      "test AUPR: 0.1649256411839471\n"
     ]
    }
   ],
   "source": [
    "# train a random forest classifier\n",
    "rf = RandomForestClassifier(oob_score=True, \n",
    "                            class_weight={0:1,1:1.121e13},\n",
    "                            random_state=42) # set seed to ensure reproducibility\n",
    "rf.fit(X_train,y_train.ravel())\n",
    "y_prob = np.asarray(rf.predict_proba(X_test))\n",
    "y_pred = np.asarray(rf.predict(X_test))\n",
    "y_test = np.asarray(y_test)\n",
    "print(\"test accuracy: %s\" % rf.score(X_test, y_test))\n",
    "print(\"test NPV: %s\" % negative_pred_value(y_test, y_pred))\n",
    "print(\"test Precision: %s\" % precision_score(y_test, y_pred))\n",
    "print(\"test Recall: %s\" % recall_score(y_test, y_pred))\n",
    "print(\"test AUC: %s\" % roc_auc_score(y_test, y_prob[:,1]))\n",
    "print(\"test F1: %s\" % f1_score(y_test, y_pred))\n",
    "print(\"test AUPR: %s\" % average_precision_score(y_test, y_prob[:,1]))"
   ]
  },
  {
   "cell_type": "markdown",
   "metadata": {},
   "source": [
    "## Balanced Random Forest"
   ]
  },
  {
   "cell_type": "code",
   "execution_count": 43,
   "metadata": {},
   "outputs": [
    {
     "name": "stdout",
     "output_type": "stream",
     "text": [
      "test accuracy: 0.6419019316493314\n",
      "test NPV: 0.9368932038834952\n",
      "test Precision: 0.17624521072796934\n",
      "test Recall: 0.6388888888888888\n",
      "test AUC: 0.6944791088925865\n",
      "test F1: 0.27627627627627627\n",
      "test AUPR: 0.2063799588235088\n"
     ]
    }
   ],
   "source": [
    "# train a random forest classifier\n",
    "rf = BalancedRandomForestClassifier(\n",
    "                            n_estimators=1000,\n",
    "                            max_depth=50,\n",
    "                            max_features = 7,\n",
    "                            oob_score=True, \n",
    "                            random_state=123) # set seed to ensure reproducibility\n",
    "rf.fit(X_train,y_train.ravel())\n",
    "y_prob = np.asarray(rf.predict_proba(X_test))\n",
    "y_pred = np.asarray(rf.predict(X_test))\n",
    "y_test = np.asarray(y_test)\n",
    "print(\"test accuracy: %s\" % rf.score(X_test, y_test))\n",
    "print(\"test NPV: %s\" % negative_pred_value(y_test, y_pred))\n",
    "print(\"test Precision: %s\" % precision_score(y_test, y_pred))\n",
    "print(\"test Recall: %s\" % recall_score(y_test, y_pred))\n",
    "print(\"test AUC: %s\" % roc_auc_score(y_test, y_prob[:,1]))\n",
    "print(\"test F1: %s\" % f1_score(y_test, y_pred))\n",
    "print(\"test AUPR: %s\" % average_precision_score(y_test, y_prob[:,1]))"
   ]
  },
  {
   "cell_type": "markdown",
   "metadata": {},
   "source": [
    "## Bayesian optimization: RF (all vars, not binned)"
   ]
  },
  {
   "cell_type": "code",
   "execution_count": 46,
   "metadata": {},
   "outputs": [
    {
     "name": "stdout",
     "output_type": "stream",
     "text": [
      "Fitting 5 folds for each of 1 candidates, totalling 5 fits\n"
     ]
    },
    {
     "name": "stderr",
     "output_type": "stream",
     "text": [
      "[Parallel(n_jobs=6)]: Using backend LokyBackend with 6 concurrent workers.\n",
      "[Parallel(n_jobs=6)]: Done   2 out of   5 | elapsed:    5.9s remaining:    8.8s\n",
      "[Parallel(n_jobs=6)]: Done   5 out of   5 | elapsed:    6.0s finished\n",
      "[Parallel(n_jobs=6)]: Using backend LokyBackend with 6 concurrent workers.\n"
     ]
    },
    {
     "name": "stdout",
     "output_type": "stream",
     "text": [
      "best score: 0.615244708994709\n",
      "Fitting 5 folds for each of 1 candidates, totalling 5 fits\n"
     ]
    },
    {
     "name": "stderr",
     "output_type": "stream",
     "text": [
      "[Parallel(n_jobs=6)]: Done   2 out of   5 | elapsed:   15.2s remaining:   22.8s\n",
      "[Parallel(n_jobs=6)]: Done   5 out of   5 | elapsed:   15.3s finished\n"
     ]
    },
    {
     "name": "stdout",
     "output_type": "stream",
     "text": [
      "best score: 0.6228505291005291\n",
      "Fitting 5 folds for each of 1 candidates, totalling 5 fits\n"
     ]
    },
    {
     "name": "stderr",
     "output_type": "stream",
     "text": [
      "[Parallel(n_jobs=6)]: Using backend LokyBackend with 6 concurrent workers.\n",
      "[Parallel(n_jobs=6)]: Done   2 out of   5 | elapsed:    9.2s remaining:   13.8s\n",
      "[Parallel(n_jobs=6)]: Done   5 out of   5 | elapsed:    9.3s finished\n",
      "[Parallel(n_jobs=6)]: Using backend LokyBackend with 6 concurrent workers.\n"
     ]
    },
    {
     "name": "stdout",
     "output_type": "stream",
     "text": [
      "best score: 0.6228505291005291\n",
      "Fitting 5 folds for each of 1 candidates, totalling 5 fits\n"
     ]
    },
    {
     "name": "stderr",
     "output_type": "stream",
     "text": [
      "[Parallel(n_jobs=6)]: Done   2 out of   5 | elapsed:    6.3s remaining:    9.4s\n",
      "[Parallel(n_jobs=6)]: Done   5 out of   5 | elapsed:    6.5s finished\n"
     ]
    },
    {
     "name": "stdout",
     "output_type": "stream",
     "text": [
      "best score: 0.6228505291005291\n",
      "Fitting 5 folds for each of 1 candidates, totalling 5 fits\n"
     ]
    },
    {
     "name": "stderr",
     "output_type": "stream",
     "text": [
      "[Parallel(n_jobs=6)]: Using backend LokyBackend with 6 concurrent workers.\n",
      "[Parallel(n_jobs=6)]: Done   2 out of   5 | elapsed:    7.2s remaining:   10.8s\n",
      "[Parallel(n_jobs=6)]: Done   5 out of   5 | elapsed:    7.2s finished\n",
      "[Parallel(n_jobs=6)]: Using backend LokyBackend with 6 concurrent workers.\n"
     ]
    },
    {
     "name": "stdout",
     "output_type": "stream",
     "text": [
      "best score: 0.6228505291005291\n",
      "Fitting 5 folds for each of 1 candidates, totalling 5 fits\n"
     ]
    },
    {
     "name": "stderr",
     "output_type": "stream",
     "text": [
      "[Parallel(n_jobs=6)]: Done   2 out of   5 | elapsed:    5.0s remaining:    7.6s\n",
      "[Parallel(n_jobs=6)]: Done   5 out of   5 | elapsed:    5.1s finished\n",
      "[Parallel(n_jobs=6)]: Using backend LokyBackend with 6 concurrent workers.\n"
     ]
    },
    {
     "name": "stdout",
     "output_type": "stream",
     "text": [
      "best score: 0.6246693121693122\n",
      "Fitting 5 folds for each of 1 candidates, totalling 5 fits\n"
     ]
    },
    {
     "name": "stderr",
     "output_type": "stream",
     "text": [
      "[Parallel(n_jobs=6)]: Done   2 out of   5 | elapsed:    3.9s remaining:    5.9s\n",
      "[Parallel(n_jobs=6)]: Done   5 out of   5 | elapsed:    4.0s finished\n"
     ]
    },
    {
     "name": "stdout",
     "output_type": "stream",
     "text": [
      "best score: 0.6246693121693122\n",
      "Fitting 5 folds for each of 1 candidates, totalling 5 fits\n"
     ]
    },
    {
     "name": "stderr",
     "output_type": "stream",
     "text": [
      "[Parallel(n_jobs=6)]: Using backend LokyBackend with 6 concurrent workers.\n",
      "[Parallel(n_jobs=6)]: Done   2 out of   5 | elapsed:    7.5s remaining:   11.3s\n",
      "[Parallel(n_jobs=6)]: Done   5 out of   5 | elapsed:    7.6s finished\n",
      "[Parallel(n_jobs=6)]: Using backend LokyBackend with 6 concurrent workers.\n"
     ]
    },
    {
     "name": "stdout",
     "output_type": "stream",
     "text": [
      "best score: 0.6246693121693122\n",
      "Fitting 5 folds for each of 1 candidates, totalling 5 fits\n"
     ]
    },
    {
     "name": "stderr",
     "output_type": "stream",
     "text": [
      "[Parallel(n_jobs=6)]: Done   2 out of   5 | elapsed:   13.9s remaining:   20.9s\n",
      "[Parallel(n_jobs=6)]: Done   5 out of   5 | elapsed:   14.0s finished\n"
     ]
    },
    {
     "name": "stdout",
     "output_type": "stream",
     "text": [
      "best score: 0.6246693121693122\n",
      "Fitting 5 folds for each of 1 candidates, totalling 5 fits\n"
     ]
    },
    {
     "name": "stderr",
     "output_type": "stream",
     "text": [
      "[Parallel(n_jobs=6)]: Using backend LokyBackend with 6 concurrent workers.\n",
      "[Parallel(n_jobs=6)]: Done   2 out of   5 | elapsed:    2.0s remaining:    3.0s\n",
      "[Parallel(n_jobs=6)]: Done   5 out of   5 | elapsed:    2.1s finished\n"
     ]
    },
    {
     "name": "stdout",
     "output_type": "stream",
     "text": [
      "best score: 0.6246693121693122\n",
      "Fitting 5 folds for each of 1 candidates, totalling 5 fits\n"
     ]
    },
    {
     "name": "stderr",
     "output_type": "stream",
     "text": [
      "[Parallel(n_jobs=6)]: Using backend LokyBackend with 6 concurrent workers.\n",
      "[Parallel(n_jobs=6)]: Done   2 out of   5 | elapsed:   11.0s remaining:   16.5s\n",
      "[Parallel(n_jobs=6)]: Done   5 out of   5 | elapsed:   11.2s finished\n"
     ]
    },
    {
     "name": "stdout",
     "output_type": "stream",
     "text": [
      "best score: 0.6246693121693122\n",
      "Fitting 5 folds for each of 1 candidates, totalling 5 fits\n"
     ]
    },
    {
     "name": "stderr",
     "output_type": "stream",
     "text": [
      "[Parallel(n_jobs=6)]: Using backend LokyBackend with 6 concurrent workers.\n",
      "[Parallel(n_jobs=6)]: Done   2 out of   5 | elapsed:   12.0s remaining:   18.0s\n",
      "[Parallel(n_jobs=6)]: Done   5 out of   5 | elapsed:   12.2s finished\n"
     ]
    },
    {
     "name": "stdout",
     "output_type": "stream",
     "text": [
      "best score: 0.6246693121693122\n",
      "Fitting 5 folds for each of 1 candidates, totalling 5 fits\n"
     ]
    },
    {
     "name": "stderr",
     "output_type": "stream",
     "text": [
      "[Parallel(n_jobs=6)]: Using backend LokyBackend with 6 concurrent workers.\n",
      "[Parallel(n_jobs=6)]: Done   2 out of   5 | elapsed:    0.8s remaining:    1.3s\n",
      "[Parallel(n_jobs=6)]: Done   5 out of   5 | elapsed:    0.9s finished\n"
     ]
    },
    {
     "name": "stdout",
     "output_type": "stream",
     "text": [
      "best score: 0.6335978835978836\n",
      "Fitting 5 folds for each of 1 candidates, totalling 5 fits\n"
     ]
    },
    {
     "name": "stderr",
     "output_type": "stream",
     "text": [
      "[Parallel(n_jobs=6)]: Using backend LokyBackend with 6 concurrent workers.\n",
      "[Parallel(n_jobs=6)]: Done   2 out of   5 | elapsed:   23.0s remaining:   34.5s\n",
      "[Parallel(n_jobs=6)]: Done   5 out of   5 | elapsed:   23.2s finished\n"
     ]
    },
    {
     "name": "stdout",
     "output_type": "stream",
     "text": [
      "best score: 0.6335978835978836\n",
      "Fitting 5 folds for each of 1 candidates, totalling 5 fits\n"
     ]
    },
    {
     "name": "stderr",
     "output_type": "stream",
     "text": [
      "[Parallel(n_jobs=6)]: Using backend LokyBackend with 6 concurrent workers.\n",
      "[Parallel(n_jobs=6)]: Done   2 out of   5 | elapsed:    0.7s remaining:    1.0s\n",
      "[Parallel(n_jobs=6)]: Done   5 out of   5 | elapsed:    0.8s finished\n"
     ]
    },
    {
     "name": "stdout",
     "output_type": "stream",
     "text": [
      "best score: 0.6335978835978836\n",
      "Fitting 5 folds for each of 1 candidates, totalling 5 fits\n"
     ]
    },
    {
     "name": "stderr",
     "output_type": "stream",
     "text": [
      "[Parallel(n_jobs=6)]: Using backend LokyBackend with 6 concurrent workers.\n",
      "[Parallel(n_jobs=6)]: Done   2 out of   5 | elapsed:    4.0s remaining:    6.0s\n",
      "[Parallel(n_jobs=6)]: Done   5 out of   5 | elapsed:    4.2s finished\n"
     ]
    },
    {
     "name": "stdout",
     "output_type": "stream",
     "text": [
      "best score: 0.6651785714285714\n",
      "Fitting 5 folds for each of 1 candidates, totalling 5 fits\n"
     ]
    },
    {
     "name": "stderr",
     "output_type": "stream",
     "text": [
      "[Parallel(n_jobs=6)]: Using backend LokyBackend with 6 concurrent workers.\n",
      "[Parallel(n_jobs=6)]: Done   2 out of   5 | elapsed:   10.9s remaining:   16.3s\n",
      "[Parallel(n_jobs=6)]: Done   5 out of   5 | elapsed:   11.0s finished\n"
     ]
    },
    {
     "name": "stdout",
     "output_type": "stream",
     "text": [
      "best score: 0.6651785714285714\n",
      "Fitting 5 folds for each of 1 candidates, totalling 5 fits\n"
     ]
    },
    {
     "name": "stderr",
     "output_type": "stream",
     "text": [
      "[Parallel(n_jobs=6)]: Using backend LokyBackend with 6 concurrent workers.\n",
      "[Parallel(n_jobs=6)]: Done   2 out of   5 | elapsed:    2.4s remaining:    3.7s\n",
      "[Parallel(n_jobs=6)]: Done   5 out of   5 | elapsed:    2.6s finished\n"
     ]
    },
    {
     "name": "stdout",
     "output_type": "stream",
     "text": [
      "best score: 0.6651785714285714\n",
      "Fitting 5 folds for each of 1 candidates, totalling 5 fits\n"
     ]
    },
    {
     "name": "stderr",
     "output_type": "stream",
     "text": [
      "[Parallel(n_jobs=6)]: Using backend LokyBackend with 6 concurrent workers.\n",
      "[Parallel(n_jobs=6)]: Done   2 out of   5 | elapsed:   15.7s remaining:   23.5s\n",
      "[Parallel(n_jobs=6)]: Done   5 out of   5 | elapsed:   15.9s finished\n"
     ]
    },
    {
     "name": "stdout",
     "output_type": "stream",
     "text": [
      "best score: 0.6651785714285714\n",
      "Fitting 5 folds for each of 1 candidates, totalling 5 fits\n"
     ]
    },
    {
     "name": "stderr",
     "output_type": "stream",
     "text": [
      "[Parallel(n_jobs=6)]: Using backend LokyBackend with 6 concurrent workers.\n",
      "[Parallel(n_jobs=6)]: Done   2 out of   5 | elapsed:    3.5s remaining:    5.2s\n",
      "[Parallel(n_jobs=6)]: Done   5 out of   5 | elapsed:    3.5s finished\n"
     ]
    },
    {
     "name": "stdout",
     "output_type": "stream",
     "text": [
      "best score: 0.6651785714285714\n",
      "best parameter set: OrderedDict([('criterion', 'entropy'), ('max_depth', 5), ('max_features', 12), ('n_estimators', 677)])\n",
      "val. score: 0.6651785714285714\n",
      "test accuracy: 0.6760772659732541\n",
      "test NPV: 0.9382151029748284\n",
      "test Precision: 0.1906779661016949\n",
      "test Recall: 0.625\n",
      "test AUC: 0.7023941578850065\n",
      "test F1: 0.2922077922077922\n",
      "test AUPR: 0.20623990892095453\n"
     ]
    }
   ],
   "source": [
    "# RandomForest + Bayesian optimization\n",
    "opt_rf = BayesSearchCV(BalancedRandomForestClassifier(oob_score=True,\n",
    "                                     random_state=123),\n",
    "                       {\n",
    "                        'n_estimators': (100,2000),\n",
    "                        'max_depth': (5, 100),  \n",
    "                        'criterion': ['gini','entropy'],\n",
    "                        'max_features': (1, 75),\n",
    "                       }, \n",
    "                        n_iter = 20, verbose = 5, n_jobs=6)\n",
    "\n",
    "# callback handler\n",
    "def on_step(optim_result):\n",
    "    score = opt_rf.best_score_\n",
    "    print(\"best score: %s\" % score)\n",
    "#     with open(\"./rf_checkpoint.pkl\", 'wb') as pickle_file:\n",
    "#         pkl.dump(opt_rf, pickle_file)\n",
    "    if score >= 0.95:\n",
    "        print('Interrupting...')\n",
    "        return True\n",
    "    \n",
    "opt_rf.fit(X_train, y_train.ravel(), callback=[on_step])\n",
    "\n",
    "print(\"best parameter set: %s\" % opt_rf.best_params_)\n",
    "print(\"val. score: %s\" % opt_rf.best_score_)\n",
    "# print(\"test score: %s\" % opt_rf.score(X_test, y_test))\n",
    "y_prob = np.asarray(opt_rf.predict_proba(X_test))\n",
    "y_pred = np.asarray(opt_rf.predict(X_test))\n",
    "y_test = np.asarray(y_test)\n",
    "print(\"test accuracy: %s\" % opt_rf.score(X_test, y_test))\n",
    "print(\"test NPV: %s\" % negative_pred_value(y_test, y_pred))\n",
    "print(\"test Precision: %s\" % precision_score(y_test, y_pred))\n",
    "print(\"test Recall: %s\" % recall_score(y_test, y_pred))\n",
    "print(\"test AUC: %s\" % roc_auc_score(y_test, y_prob[:,1]))\n",
    "print(\"test F1: %s\" % f1_score(y_test, y_pred))\n",
    "print(\"test AUPR: %s\" % average_precision_score(y_test, y_prob[:,1]))"
   ]
  },
  {
   "cell_type": "code",
   "execution_count": 47,
   "metadata": {},
   "outputs": [
    {
     "data": {
      "image/png": "[encoded data removed]",
      "text/plain": [
       "<Figure size 720x504 with 2 Axes>"
      ]
     },
     "metadata": {},
     "output_type": "display_data"
    }
   ],
   "source": [
    "cm = confusion_matrix(y_test, y_pred)\n",
    "df_cm = pd.DataFrame(cm, index = [i for i in [\"SLNB Negative\",\"SLNB Positive\"]],\n",
    "                  columns = [i for i in [\"SLNB Negative\",\"SLNB Positive\"]])\n",
    "plt.figure(figsize = (10,7))\n",
    "ax = sns.heatmap(df_cm, annot=True, cmap='Blues',square=True, fmt='d').set_title('Confusion matrix: Random Forest')\n",
    "plt.xlabel(\"Predicted\")\n",
    "plt.ylabel(\"True\")\n",
    "plt.show()"
   ]
  },
  {
   "cell_type": "code",
   "execution_count": null,
   "metadata": {},
   "outputs": [],
   "source": []
  }
 ],
 "metadata": {
  "kernelspec": {
   "display_name": "Python 3",
   "language": "python",
   "name": "python3"
  },
  "language_info": {
   "codemirror_mode": {
    "name": "ipython",
    "version": 3
   },
   "file_extension": ".py",
   "mimetype": "text/x-python",
   "name": "python",
   "nbconvert_exporter": "python",
   "pygments_lexer": "ipython3",
   "version": "3.7.9"
  }
 },
 "nbformat": 4,
 "nbformat_minor": 4
}
