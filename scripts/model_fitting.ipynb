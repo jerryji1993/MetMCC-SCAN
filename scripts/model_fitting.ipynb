{
 "cells": [
  {
   "cell_type": "markdown",
   "metadata": {},
   "source": [
    "# Model fitting for MetMCC-SCAN\n",
    "## Yanrong (Jerry) Ji"
   ]
  },
  {
   "cell_type": "markdown",
   "metadata": {},
   "source": [
    "## TODO:\n",
    "- build a pipeline for preprocessing\n",
    ">- further group some levels and compare\n",
    ">- missing val: imputation/leave as it is\n",
    ">- more feature engineering?\n",
    "- bayesian optimization (done)\n",
    "- merge SEER data\n",
    "- bagged XGBoost\n",
    "\n",
    "## Major issues:\n",
    "- Categorical + Numeric\n",
    "- Missing values\n",
    "- Imbalance"
   ]
  },
  {
   "cell_type": "code",
   "execution_count": null,
   "metadata": {},
   "outputs": [],
   "source": [
    "# !pip install xgboost\n",
    "# !pip install lightgbm\n",
    "# !pip install catboost\n",
    "# !pip install scikit-optimize\n",
    "# !pip install imblearn"
   ]
  },
  {
   "cell_type": "code",
   "execution_count": 143,
   "metadata": {},
   "outputs": [],
   "source": [
    "# general modules\n",
    "import os\n",
    "from copy import deepcopy\n",
    "import pickle as pkl\n",
    "import pandas as pd\n",
    "import numpy as np\n",
    "from scipy import stats\n",
    "import matplotlib.pyplot as plt\n",
    "import seaborn as sns\n",
    "\n",
    "# sklearn modules\n",
    "from sklearn.model_selection import train_test_split, RepeatedStratifiedKFold\n",
    "from sklearn.model_selection import RandomizedSearchCV, GridSearchCV\n",
    "from sklearn.linear_model import LogisticRegression\n",
    "from sklearn.ensemble import RandomForestClassifier\n",
    "from sklearn.inspection import plot_partial_dependence\n",
    "from sklearn.metrics import accuracy_score,confusion_matrix, auc, roc_auc_score\n",
    "from sklearn.metrics import roc_curve, f1_score, average_precision_score, precision_recall_curve\n",
    "from sklearn.metrics import precision_score, recall_score, make_scorer\n",
    "\n",
    "# xgboost,lightgbm,catboost\n",
    "from xgboost import XGBClassifier\n",
    "from lightgbm import LGBMClassifier\n",
    "from catboost import CatBoostClassifier\n",
    "\n",
    "# Bayesian optimization\n",
    "from skopt import BayesSearchCV\n",
    "from skopt import callbacks\n",
    "from skopt.space import Real, Integer\n",
    "\n",
    "# Class imbalance\n",
    "from imblearn.over_sampling import SMOTENC\n",
    "from imblearn.ensemble import BalancedRandomForestClassifier\n",
    "\n",
    "# set seaborn style\n",
    "sns.set(style='white')\n",
    "sns.set(style='whitegrid', color_codes=True)\n",
    "sns.set(font_scale=1.5)"
   ]
  },
  {
   "cell_type": "code",
   "execution_count": 53,
   "metadata": {},
   "outputs": [],
   "source": [
    "BASE_DIR = os.path.dirname(os.path.realpath('model_fitting')) + '/'"
   ]
  },
  {
   "cell_type": "code",
   "execution_count": 54,
   "metadata": {},
   "outputs": [],
   "source": [
    "# read in data\n",
    "mcc_ncdb = pd.read_pickle(BASE_DIR + '../data/Merkel_NCDB_clean.pkl')"
   ]
  },
  {
   "cell_type": "code",
   "execution_count": 55,
   "metadata": {},
   "outputs": [
    {
     "data": {
      "text/html": [
       "<div>\n",
       "<style scoped>\n",
       "    .dataframe tbody tr th:only-of-type {\n",
       "        vertical-align: middle;\n",
       "    }\n",
       "\n",
       "    .dataframe tbody tr th {\n",
       "        vertical-align: top;\n",
       "    }\n",
       "\n",
       "    .dataframe thead th {\n",
       "        text-align: right;\n",
       "    }\n",
       "</style>\n",
       "<table border=\"1\" class=\"dataframe\">\n",
       "  <thead>\n",
       "    <tr style=\"text-align: right;\">\n",
       "      <th></th>\n",
       "      <th>DEPTH</th>\n",
       "      <th>TUMOR_SIZE</th>\n",
       "      <th>PRIMARY_SITE</th>\n",
       "      <th>AGE</th>\n",
       "      <th>SEX</th>\n",
       "      <th>GROWTH_PATTERN</th>\n",
       "      <th>HISTOLOGY</th>\n",
       "      <th>LATERALITY</th>\n",
       "      <th>LYMPH_VASCULAR_INVASION</th>\n",
       "      <th>TUMOR_INFILTRATING_LYMPHOCYTES</th>\n",
       "      <th>IMMUNE_SUPPRESSION</th>\n",
       "      <th>TUMOR_BASE_TRANSFECTION</th>\n",
       "      <th>SLNB</th>\n",
       "      <th>YEAR_SINCE_DIAGNOSIS</th>\n",
       "    </tr>\n",
       "  </thead>\n",
       "  <tbody>\n",
       "    <tr>\n",
       "      <th>3</th>\n",
       "      <td>999.0</td>\n",
       "      <td>999</td>\n",
       "      <td>C441</td>\n",
       "      <td>82</td>\n",
       "      <td>1</td>\n",
       "      <td>999</td>\n",
       "      <td>8140</td>\n",
       "      <td>2</td>\n",
       "      <td>9</td>\n",
       "      <td>999</td>\n",
       "      <td>999</td>\n",
       "      <td>999</td>\n",
       "      <td>0.0</td>\n",
       "      <td>5</td>\n",
       "    </tr>\n",
       "    <tr>\n",
       "      <th>8</th>\n",
       "      <td>999.0</td>\n",
       "      <td>1</td>\n",
       "      <td>C444</td>\n",
       "      <td>71</td>\n",
       "      <td>1</td>\n",
       "      <td>999</td>\n",
       "      <td>8247</td>\n",
       "      <td>0</td>\n",
       "      <td>0</td>\n",
       "      <td>999</td>\n",
       "      <td>999</td>\n",
       "      <td>999</td>\n",
       "      <td>0.0</td>\n",
       "      <td>5</td>\n",
       "    </tr>\n",
       "    <tr>\n",
       "      <th>9</th>\n",
       "      <td>999.0</td>\n",
       "      <td>20</td>\n",
       "      <td>C441</td>\n",
       "      <td>49</td>\n",
       "      <td>2</td>\n",
       "      <td>999</td>\n",
       "      <td>8480</td>\n",
       "      <td>2</td>\n",
       "      <td>9</td>\n",
       "      <td>999</td>\n",
       "      <td>999</td>\n",
       "      <td>999</td>\n",
       "      <td>0.0</td>\n",
       "      <td>3</td>\n",
       "    </tr>\n",
       "    <tr>\n",
       "      <th>14</th>\n",
       "      <td>1.0</td>\n",
       "      <td>2</td>\n",
       "      <td>C443</td>\n",
       "      <td>43</td>\n",
       "      <td>1</td>\n",
       "      <td>999</td>\n",
       "      <td>8247</td>\n",
       "      <td>2</td>\n",
       "      <td>9</td>\n",
       "      <td>0</td>\n",
       "      <td>0</td>\n",
       "      <td>20</td>\n",
       "      <td>0.0</td>\n",
       "      <td>2</td>\n",
       "    </tr>\n",
       "    <tr>\n",
       "      <th>19</th>\n",
       "      <td>50.0</td>\n",
       "      <td>25</td>\n",
       "      <td>C447</td>\n",
       "      <td>59</td>\n",
       "      <td>2</td>\n",
       "      <td>999</td>\n",
       "      <td>8247</td>\n",
       "      <td>1</td>\n",
       "      <td>0</td>\n",
       "      <td>999</td>\n",
       "      <td>999</td>\n",
       "      <td>999</td>\n",
       "      <td>0.0</td>\n",
       "      <td>2</td>\n",
       "    </tr>\n",
       "  </tbody>\n",
       "</table>\n",
       "</div>"
      ],
      "text/plain": [
       "    DEPTH  TUMOR_SIZE PRIMARY_SITE  AGE  SEX GROWTH_PATTERN HISTOLOGY  \\\n",
       "3   999.0         999         C441   82    1            999      8140   \n",
       "8   999.0           1         C444   71    1            999      8247   \n",
       "9   999.0          20         C441   49    2            999      8480   \n",
       "14    1.0           2         C443   43    1            999      8247   \n",
       "19   50.0          25         C447   59    2            999      8247   \n",
       "\n",
       "   LATERALITY LYMPH_VASCULAR_INVASION TUMOR_INFILTRATING_LYMPHOCYTES  \\\n",
       "3           2                       9                            999   \n",
       "8           0                       0                            999   \n",
       "9           2                       9                            999   \n",
       "14          2                       9                              0   \n",
       "19          1                       0                            999   \n",
       "\n",
       "   IMMUNE_SUPPRESSION TUMOR_BASE_TRANSFECTION  SLNB  YEAR_SINCE_DIAGNOSIS  \n",
       "3                 999                     999   0.0                     5  \n",
       "8                 999                     999   0.0                     5  \n",
       "9                 999                     999   0.0                     3  \n",
       "14                  0                      20   0.0                     2  \n",
       "19                999                     999   0.0                     2  "
      ]
     },
     "execution_count": 55,
     "metadata": {},
     "output_type": "execute_result"
    }
   ],
   "source": [
    "mcc_ncdb.head()"
   ]
  },
  {
   "cell_type": "markdown",
   "metadata": {},
   "source": [
    "## Split data"
   ]
  },
  {
   "cell_type": "code",
   "execution_count": 5,
   "metadata": {},
   "outputs": [],
   "source": [
    "# subset of features only\n",
    "mcc_ncdb_sel = mcc_ncdb[['AGE','SEX','PRIMARY_SITE','LYMPH_VASCULAR_INVASION',\n",
    "                        'TUMOR_SIZE', 'DEPTH', 'TUMOR_INFILTRATING_LYMPHOCYTES',\n",
    "                        'IMMUNE_SUPPRESSION', 'SLNB'\n",
    "                       ]]\n",
    "mcc_ncdb_sel = pd.get_dummies(mcc_ncdb_sel)\n",
    "X_sel = np.array(mcc_ncdb_sel.loc[:, mcc_ncdb_sel.columns != 'SLNB'])\n",
    "y_sel = np.array(mcc_ncdb_sel.loc[:, mcc_ncdb_sel.columns == 'SLNB'])\n",
    "X_train_sel, X_test_sel, y_train_sel, y_test_sel = train_test_split(X_sel, y_sel, \n",
    "                                                                test_size = 0.1, \n",
    "                                                                random_state = 123) # set seed to ensure reproducibility"
   ]
  },
  {
   "cell_type": "code",
   "execution_count": 6,
   "metadata": {},
   "outputs": [],
   "source": [
    "# all features\n",
    "mcc_ncdb = pd.get_dummies(mcc_ncdb)\n",
    "X = np.array(mcc_ncdb.loc[:, mcc_ncdb.columns != 'SLNB'])\n",
    "y = np.array(mcc_ncdb.loc[:, mcc_ncdb.columns == 'SLNB'])\n",
    "X_train, X_test, y_train, y_test = train_test_split(X, y, \n",
    "                                                    test_size = 0.1, \n",
    "                                                    random_state = 123) # set seed to ensure reproducibility"
   ]
  },
  {
   "cell_type": "code",
   "execution_count": 7,
   "metadata": {},
   "outputs": [
    {
     "data": {
      "text/plain": [
       "(6048, 75)"
      ]
     },
     "execution_count": 7,
     "metadata": {},
     "output_type": "execute_result"
    }
   ],
   "source": [
    "X_train.shape"
   ]
  },
  {
   "cell_type": "code",
   "execution_count": 8,
   "metadata": {},
   "outputs": [
    {
     "data": {
      "text/plain": [
       "(6048, 32)"
      ]
     },
     "execution_count": 8,
     "metadata": {},
     "output_type": "execute_result"
    }
   ],
   "source": [
    "X_train_sel.shape"
   ]
  },
  {
   "cell_type": "code",
   "execution_count": 9,
   "metadata": {},
   "outputs": [
    {
     "data": {
      "text/plain": [
       "Index(['DEPTH', 'TUMOR_SIZE', 'AGE', 'SEX', 'SLNB', 'YEAR_SINCE_DIAGNOSIS',\n",
       "       'PRIMARY_SITE_C440', 'PRIMARY_SITE_C441', 'PRIMARY_SITE_C442',\n",
       "       'PRIMARY_SITE_C443', 'PRIMARY_SITE_C444', 'PRIMARY_SITE_C445',\n",
       "       'PRIMARY_SITE_C446', 'PRIMARY_SITE_C447', 'PRIMARY_SITE_C448',\n",
       "       'PRIMARY_SITE_C449', 'GROWTH_PATTERN_1.0', 'GROWTH_PATTERN_20.0',\n",
       "       'GROWTH_PATTERN_999.0', 'HISTOLOGY_8140', 'HISTOLOGY_8143',\n",
       "       'HISTOLOGY_8147', 'HISTOLOGY_8200', 'HISTOLOGY_8240', 'HISTOLOGY_8246',\n",
       "       'HISTOLOGY_8247', 'HISTOLOGY_8260', 'HISTOLOGY_8310', 'HISTOLOGY_8323',\n",
       "       'HISTOLOGY_8347', 'HISTOLOGY_8390', 'HISTOLOGY_8400', 'HISTOLOGY_8401',\n",
       "       'HISTOLOGY_8402', 'HISTOLOGY_8407', 'HISTOLOGY_8409', 'HISTOLOGY_8410',\n",
       "       'HISTOLOGY_8413', 'HISTOLOGY_8430', 'HISTOLOGY_8480', 'HISTOLOGY_8481',\n",
       "       'HISTOLOGY_8490', 'HISTOLOGY_8500', 'HISTOLOGY_8573', 'HISTOLOGY_8832',\n",
       "       'HISTOLOGY_8833', 'HISTOLOGY_8891', 'HISTOLOGY_9120', 'LATERALITY_0',\n",
       "       'LATERALITY_1', 'LATERALITY_2', 'LATERALITY_3', 'LATERALITY_4',\n",
       "       'LATERALITY_9', 'LYMPH_VASCULAR_INVASION_0.0',\n",
       "       'LYMPH_VASCULAR_INVASION_1.0', 'LYMPH_VASCULAR_INVASION_8.0',\n",
       "       'LYMPH_VASCULAR_INVASION_9.0', 'TUMOR_INFILTRATING_LYMPHOCYTES_0.0',\n",
       "       'TUMOR_INFILTRATING_LYMPHOCYTES_1.0',\n",
       "       'TUMOR_INFILTRATING_LYMPHOCYTES_20.0',\n",
       "       'TUMOR_INFILTRATING_LYMPHOCYTES_30.0',\n",
       "       'TUMOR_INFILTRATING_LYMPHOCYTES_999.0', 'IMMUNE_SUPPRESSION_0.0',\n",
       "       'IMMUNE_SUPPRESSION_1.0', 'IMMUNE_SUPPRESSION_20.0',\n",
       "       'IMMUNE_SUPPRESSION_30.0', 'IMMUNE_SUPPRESSION_40.0',\n",
       "       'IMMUNE_SUPPRESSION_50.0', 'IMMUNE_SUPPRESSION_60.0',\n",
       "       'IMMUNE_SUPPRESSION_70.0', 'IMMUNE_SUPPRESSION_999.0',\n",
       "       'TUMOR_BASE_TRANSFECTION_0.0', 'TUMOR_BASE_TRANSFECTION_1.0',\n",
       "       'TUMOR_BASE_TRANSFECTION_20.0', 'TUMOR_BASE_TRANSFECTION_999.0'],\n",
       "      dtype='object')"
      ]
     },
     "execution_count": 9,
     "metadata": {},
     "output_type": "execute_result"
    }
   ],
   "source": [
    "mcc_ncdb.columns"
   ]
  },
  {
   "cell_type": "code",
   "execution_count": 10,
   "metadata": {},
   "outputs": [
    {
     "data": {
      "text/plain": [
       "Index(['AGE', 'SEX', 'TUMOR_SIZE', 'DEPTH', 'SLNB', 'PRIMARY_SITE_C440',\n",
       "       'PRIMARY_SITE_C441', 'PRIMARY_SITE_C442', 'PRIMARY_SITE_C443',\n",
       "       'PRIMARY_SITE_C444', 'PRIMARY_SITE_C445', 'PRIMARY_SITE_C446',\n",
       "       'PRIMARY_SITE_C447', 'PRIMARY_SITE_C448', 'PRIMARY_SITE_C449',\n",
       "       'LYMPH_VASCULAR_INVASION_0.0', 'LYMPH_VASCULAR_INVASION_1.0',\n",
       "       'LYMPH_VASCULAR_INVASION_8.0', 'LYMPH_VASCULAR_INVASION_9.0',\n",
       "       'TUMOR_INFILTRATING_LYMPHOCYTES_0.0',\n",
       "       'TUMOR_INFILTRATING_LYMPHOCYTES_1.0',\n",
       "       'TUMOR_INFILTRATING_LYMPHOCYTES_20.0',\n",
       "       'TUMOR_INFILTRATING_LYMPHOCYTES_30.0',\n",
       "       'TUMOR_INFILTRATING_LYMPHOCYTES_999.0', 'IMMUNE_SUPPRESSION_0.0',\n",
       "       'IMMUNE_SUPPRESSION_1.0', 'IMMUNE_SUPPRESSION_20.0',\n",
       "       'IMMUNE_SUPPRESSION_30.0', 'IMMUNE_SUPPRESSION_40.0',\n",
       "       'IMMUNE_SUPPRESSION_50.0', 'IMMUNE_SUPPRESSION_60.0',\n",
       "       'IMMUNE_SUPPRESSION_70.0', 'IMMUNE_SUPPRESSION_999.0'],\n",
       "      dtype='object')"
      ]
     },
     "execution_count": 10,
     "metadata": {},
     "output_type": "execute_result"
    }
   ],
   "source": [
    "mcc_ncdb_sel.columns"
   ]
  },
  {
   "cell_type": "markdown",
   "metadata": {},
   "source": [
    "## Balance dataset by SMOTE"
   ]
  },
  {
   "cell_type": "code",
   "execution_count": 11,
   "metadata": {},
   "outputs": [],
   "source": [
    "cat_features_idx = list(range(4,74,1))\n",
    "cat_features_idx.append(3)\n",
    "sm = SMOTENC(random_state=123, categorical_features = cat_features_idx) # set seed to ensure reproducibility\n",
    "X_train_balanced, y_train_balanced = sm.fit_sample(X_train, y_train.ravel())\n",
    "\n",
    "cat_features_idx_sel = list(range(5,31,1))\n",
    "cat_features_idx_sel.append(1)\n",
    "sm_sel = SMOTENC(random_state=123, categorical_features = cat_features_idx_sel) \n",
    "X_train_sel_balanced, y_train_sel_balanced = sm_sel.fit_sample(X_train_sel, y_train_sel.ravel())"
   ]
  },
  {
   "cell_type": "code",
   "execution_count": 12,
   "metadata": {},
   "outputs": [
    {
     "data": {
      "text/plain": [
       "(10494, 75)"
      ]
     },
     "execution_count": 12,
     "metadata": {},
     "output_type": "execute_result"
    }
   ],
   "source": [
    "X_train_balanced.shape"
   ]
  },
  {
   "cell_type": "code",
   "execution_count": 13,
   "metadata": {},
   "outputs": [
    {
     "data": {
      "text/plain": [
       "(10494, 32)"
      ]
     },
     "execution_count": 13,
     "metadata": {},
     "output_type": "execute_result"
    }
   ],
   "source": [
    "X_train_sel_balanced.shape"
   ]
  },
  {
   "cell_type": "code",
   "execution_count": 31,
   "metadata": {},
   "outputs": [],
   "source": [
    "def negative_pred_value(y_true, y_pred):\n",
    "    cm = confusion_matrix(y_true, y_pred)\n",
    "    TN = cm[0][0]\n",
    "    FN = cm[1][0]\n",
    "    return TN/(TN+FN)"
   ]
  },
  {
   "cell_type": "markdown",
   "metadata": {},
   "source": [
    "## Baseline: logistic regression (selected vars, not binned)"
   ]
  },
  {
   "cell_type": "code",
   "execution_count": 32,
   "metadata": {},
   "outputs": [
    {
     "name": "stdout",
     "output_type": "stream",
     "text": [
      "[[527  74]\n",
      " [ 51  21]]\n",
      "test accuracy: 0.8142644873699851\n",
      "test NPV: 0.9117647058823529\n",
      "test Precision: 0.22105263157894736\n",
      "test Recall: 0.2916666666666667\n",
      "test AUC: 0.7141107413569976\n",
      "test F1: 0.251497005988024\n",
      "test AUPR: 0.20422642744811098\n"
     ]
    }
   ],
   "source": [
    "log_clf_sel = LogisticRegression(penalty='none', max_iter=10000)\n",
    "log_clf_sel.fit(X_train_sel_balanced,y_train_sel_balanced.ravel())\n",
    "y_prob_sel = np.asarray(log_clf_sel.predict_proba(X_test_sel))\n",
    "y_pred_sel = np.asarray(log_clf_sel.predict(X_test_sel))\n",
    "y_test_sel = np.asarray(y_test_sel)\n",
    "print(confusion_matrix(y_test_sel, y_pred_sel))\n",
    "print(\"test accuracy: %s\" % log_clf_sel.score(X_test_sel, y_test_sel))\n",
    "print(\"test NPV: %s\" % negative_pred_value(y_test_sel, y_pred_sel))\n",
    "print(\"test Precision: %s\" % precision_score(y_test_sel, y_pred_sel))\n",
    "print(\"test Recall: %s\" % recall_score(y_test_sel, y_pred_sel))\n",
    "print(\"test AUC: %s\" % roc_auc_score(y_test_sel, y_prob_sel[:,1]))\n",
    "print(\"test F1: %s\" % f1_score(y_test_sel, y_pred_sel))\n",
    "print(\"test AUPR: %s\" % average_precision_score(y_test_sel, y_prob_sel[:,1]))"
   ]
  },
  {
   "cell_type": "markdown",
   "metadata": {},
   "source": [
    "## logistic regression (all vars, not binned)"
   ]
  },
  {
   "cell_type": "code",
   "execution_count": 33,
   "metadata": {},
   "outputs": [
    {
     "name": "stdout",
     "output_type": "stream",
     "text": [
      "[[466 135]\n",
      " [ 33  39]]\n",
      "test accuracy: 0.75037147102526\n",
      "test NPV: 0.9338677354709419\n",
      "test Precision: 0.22413793103448276\n",
      "test Recall: 0.5416666666666666\n",
      "test AUC: 0.6898225180255131\n",
      "test F1: 0.3170731707317073\n",
      "test AUPR: 0.20015532598976626\n"
     ]
    }
   ],
   "source": [
    "log_clf = LogisticRegression(penalty='none', max_iter=10000)\n",
    "log_clf.fit(X_train_balanced,y_train_balanced.ravel())\n",
    "y_prob = np.asarray(log_clf.predict_proba(X_test))\n",
    "y_pred = np.asarray(log_clf.predict(X_test))\n",
    "y_test = np.asarray(y_test)\n",
    "print(confusion_matrix(y_test, y_pred))\n",
    "print(\"test accuracy: %s\" % log_clf.score(X_test, y_test))\n",
    "print(\"test NPV: %s\" % negative_pred_value(y_test, y_pred))\n",
    "print(\"test Precision: %s\" % precision_score(y_test, y_pred))\n",
    "print(\"test Recall: %s\" % recall_score(y_test, y_pred))\n",
    "print(\"test AUC: %s\" % roc_auc_score(y_test, y_prob[:,1]))\n",
    "print(\"test F1: %s\" % f1_score(y_test, y_pred))\n",
    "print(\"test AUPR: %s\" % average_precision_score(y_test, y_prob[:,1]))"
   ]
  },
  {
   "cell_type": "markdown",
   "metadata": {},
   "source": [
    "## Random forest (selected vars, not binned)"
   ]
  },
  {
   "cell_type": "code",
   "execution_count": 34,
   "metadata": {},
   "outputs": [
    {
     "name": "stdout",
     "output_type": "stream",
     "text": [
      "test accuracy: 0.8231797919762258\n",
      "test NPV: 0.8950819672131147\n",
      "test Precision: 0.12698412698412698\n",
      "test Recall: 0.1111111111111111\n",
      "test AUC: 0.6111804400073951\n",
      "test F1: 0.11851851851851852\n",
      "test AUPR: 0.13667237539548904\n"
     ]
    }
   ],
   "source": [
    "# train a random forest classifier\n",
    "rf_sel = RandomForestClassifier(oob_score=True, \n",
    "                                 random_state=123) # set seed to ensure reproducibility\n",
    "rf_sel.fit(X_train_sel_balanced,y_train_sel_balanced.ravel())\n",
    "y_prob_sel = np.asarray(rf_sel.predict_proba(X_test_sel))\n",
    "y_pred_sel = np.asarray(rf_sel.predict(X_test_sel))\n",
    "y_test_sel = np.asarray(y_test_sel)\n",
    "print(\"test accuracy: %s\" % rf_sel.score(X_test_sel, y_test_sel))\n",
    "print(\"test NPV: %s\" % negative_pred_value(y_test_sel, y_pred_sel))\n",
    "print(\"test Precision: %s\" % precision_score(y_test_sel, y_pred_sel))\n",
    "print(\"test Recall: %s\" % recall_score(y_test_sel, y_pred_sel))\n",
    "print(\"test AUC: %s\" % roc_auc_score(y_test_sel, y_prob_sel[:,1]))\n",
    "print(\"test F1: %s\" % f1_score(y_test_sel, y_pred_sel))\n",
    "print(\"test AUPR: %s\" % average_precision_score(y_test_sel, y_prob_sel[:,1]))"
   ]
  },
  {
   "cell_type": "markdown",
   "metadata": {},
   "source": [
    "## Random forest (all vars, not binned)"
   ]
  },
  {
   "cell_type": "code",
   "execution_count": 35,
   "metadata": {},
   "outputs": [
    {
     "name": "stdout",
     "output_type": "stream",
     "text": [
      "test accuracy: 0.8306092124814265\n",
      "test NPV: 0.9051580698835274\n",
      "test Precision: 0.20833333333333334\n",
      "test Recall: 0.20833333333333334\n",
      "test AUC: 0.6627842484747642\n",
      "test F1: 0.20833333333333334\n",
      "test AUPR: 0.17954013958163836\n"
     ]
    }
   ],
   "source": [
    "# train a random forest classifier\n",
    "rf = RandomForestClassifier(oob_score=True, \n",
    "                                 random_state=123) # set seed to ensure reproducibility\n",
    "rf.fit(X_train_balanced,y_train_balanced.ravel())\n",
    "y_prob = np.asarray(rf.predict_proba(X_test))\n",
    "y_pred = np.asarray(rf.predict(X_test))\n",
    "y_test = np.asarray(y_test)\n",
    "print(\"test accuracy: %s\" % rf.score(X_test, y_test))\n",
    "print(\"test NPV: %s\" % negative_pred_value(y_test, y_pred))\n",
    "print(\"test Precision: %s\" % precision_score(y_test, y_pred))\n",
    "print(\"test Recall: %s\" % recall_score(y_test, y_pred))\n",
    "print(\"test AUC: %s\" % roc_auc_score(y_test, y_prob[:,1]))\n",
    "print(\"test F1: %s\" % f1_score(y_test, y_pred))\n",
    "print(\"test AUPR: %s\" % average_precision_score(y_test, y_prob[:,1]))"
   ]
  },
  {
   "cell_type": "markdown",
   "metadata": {},
   "source": [
    "## Random forest (cost-sensitive, all vars, not binned)"
   ]
  },
  {
   "cell_type": "code",
   "execution_count": 37,
   "metadata": {},
   "outputs": [
    {
     "name": "stdout",
     "output_type": "stream",
     "text": [
      "test accuracy: 0.7890044576523031\n",
      "test NPV: 0.9135135135135135\n",
      "test Precision: 0.2033898305084746\n",
      "test Recall: 0.3333333333333333\n",
      "test AUC: 0.660877703826955\n",
      "test F1: 0.2526315789473684\n",
      "test AUPR: 0.1649256411839471\n"
     ]
    }
   ],
   "source": [
    "# train a random forest classifier\n",
    "rf = RandomForestClassifier(oob_score=True, \n",
    "                            class_weight={0:1,1:1.121e13},\n",
    "                            random_state=42) # set seed to ensure reproducibility\n",
    "rf.fit(X_train,y_train.ravel())\n",
    "y_prob = np.asarray(rf.predict_proba(X_test))\n",
    "y_pred = np.asarray(rf.predict(X_test))\n",
    "y_test = np.asarray(y_test)\n",
    "print(\"test accuracy: %s\" % rf.score(X_test, y_test))\n",
    "print(\"test NPV: %s\" % negative_pred_value(y_test, y_pred))\n",
    "print(\"test Precision: %s\" % precision_score(y_test, y_pred))\n",
    "print(\"test Recall: %s\" % recall_score(y_test, y_pred))\n",
    "print(\"test AUC: %s\" % roc_auc_score(y_test, y_prob[:,1]))\n",
    "print(\"test F1: %s\" % f1_score(y_test, y_pred))\n",
    "print(\"test AUPR: %s\" % average_precision_score(y_test, y_prob[:,1]))"
   ]
  },
  {
   "cell_type": "markdown",
   "metadata": {},
   "source": [
    "## Balanced Random Forest"
   ]
  },
  {
   "cell_type": "code",
   "execution_count": 43,
   "metadata": {},
   "outputs": [
    {
     "name": "stdout",
     "output_type": "stream",
     "text": [
      "test accuracy: 0.6419019316493314\n",
      "test NPV: 0.9368932038834952\n",
      "test Precision: 0.17624521072796934\n",
      "test Recall: 0.6388888888888888\n",
      "test AUC: 0.6944791088925865\n",
      "test F1: 0.27627627627627627\n",
      "test AUPR: 0.2063799588235088\n"
     ]
    }
   ],
   "source": [
    "# train a random forest classifier\n",
    "rf = BalancedRandomForestClassifier(\n",
    "                            n_estimators=1000,\n",
    "                            max_depth=50,\n",
    "                            max_features = 7,\n",
    "                            oob_score=True, \n",
    "                            random_state=123) # set seed to ensure reproducibility\n",
    "rf.fit(X_train,y_train.ravel())\n",
    "y_prob = np.asarray(rf.predict_proba(X_test))\n",
    "y_pred = np.asarray(rf.predict(X_test))\n",
    "y_test = np.asarray(y_test)\n",
    "print(\"test accuracy: %s\" % rf.score(X_test, y_test))\n",
    "print(\"test NPV: %s\" % negative_pred_value(y_test, y_pred))\n",
    "print(\"test Precision: %s\" % precision_score(y_test, y_pred))\n",
    "print(\"test Recall: %s\" % recall_score(y_test, y_pred))\n",
    "print(\"test AUC: %s\" % roc_auc_score(y_test, y_prob[:,1]))\n",
    "print(\"test F1: %s\" % f1_score(y_test, y_pred))\n",
    "print(\"test AUPR: %s\" % average_precision_score(y_test, y_prob[:,1]))"
   ]
  },
  {
   "cell_type": "markdown",
   "metadata": {},
   "source": [
    "## Bayesian optimization: RF (all vars, not binned)"
   ]
  },
  {
   "cell_type": "code",
   "execution_count": 46,
   "metadata": {},
   "outputs": [
    {
     "name": "stdout",
     "output_type": "stream",
     "text": [
      "Fitting 5 folds for each of 1 candidates, totalling 5 fits\n"
     ]
    },
    {
     "name": "stderr",
     "output_type": "stream",
     "text": [
      "[Parallel(n_jobs=6)]: Using backend LokyBackend with 6 concurrent workers.\n",
      "[Parallel(n_jobs=6)]: Done   2 out of   5 | elapsed:    5.9s remaining:    8.8s\n",
      "[Parallel(n_jobs=6)]: Done   5 out of   5 | elapsed:    6.0s finished\n",
      "[Parallel(n_jobs=6)]: Using backend LokyBackend with 6 concurrent workers.\n"
     ]
    },
    {
     "name": "stdout",
     "output_type": "stream",
     "text": [
      "best score: 0.615244708994709\n",
      "Fitting 5 folds for each of 1 candidates, totalling 5 fits\n"
     ]
    },
    {
     "name": "stderr",
     "output_type": "stream",
     "text": [
      "[Parallel(n_jobs=6)]: Done   2 out of   5 | elapsed:   15.2s remaining:   22.8s\n",
      "[Parallel(n_jobs=6)]: Done   5 out of   5 | elapsed:   15.3s finished\n"
     ]
    },
    {
     "name": "stdout",
     "output_type": "stream",
     "text": [
      "best score: 0.6228505291005291\n",
      "Fitting 5 folds for each of 1 candidates, totalling 5 fits\n"
     ]
    },
    {
     "name": "stderr",
     "output_type": "stream",
     "text": [
      "[Parallel(n_jobs=6)]: Using backend LokyBackend with 6 concurrent workers.\n",
      "[Parallel(n_jobs=6)]: Done   2 out of   5 | elapsed:    9.2s remaining:   13.8s\n",
      "[Parallel(n_jobs=6)]: Done   5 out of   5 | elapsed:    9.3s finished\n",
      "[Parallel(n_jobs=6)]: Using backend LokyBackend with 6 concurrent workers.\n"
     ]
    },
    {
     "name": "stdout",
     "output_type": "stream",
     "text": [
      "best score: 0.6228505291005291\n",
      "Fitting 5 folds for each of 1 candidates, totalling 5 fits\n"
     ]
    },
    {
     "name": "stderr",
     "output_type": "stream",
     "text": [
      "[Parallel(n_jobs=6)]: Done   2 out of   5 | elapsed:    6.3s remaining:    9.4s\n",
      "[Parallel(n_jobs=6)]: Done   5 out of   5 | elapsed:    6.5s finished\n"
     ]
    },
    {
     "name": "stdout",
     "output_type": "stream",
     "text": [
      "best score: 0.6228505291005291\n",
      "Fitting 5 folds for each of 1 candidates, totalling 5 fits\n"
     ]
    },
    {
     "name": "stderr",
     "output_type": "stream",
     "text": [
      "[Parallel(n_jobs=6)]: Using backend LokyBackend with 6 concurrent workers.\n",
      "[Parallel(n_jobs=6)]: Done   2 out of   5 | elapsed:    7.2s remaining:   10.8s\n",
      "[Parallel(n_jobs=6)]: Done   5 out of   5 | elapsed:    7.2s finished\n",
      "[Parallel(n_jobs=6)]: Using backend LokyBackend with 6 concurrent workers.\n"
     ]
    },
    {
     "name": "stdout",
     "output_type": "stream",
     "text": [
      "best score: 0.6228505291005291\n",
      "Fitting 5 folds for each of 1 candidates, totalling 5 fits\n"
     ]
    },
    {
     "name": "stderr",
     "output_type": "stream",
     "text": [
      "[Parallel(n_jobs=6)]: Done   2 out of   5 | elapsed:    5.0s remaining:    7.6s\n",
      "[Parallel(n_jobs=6)]: Done   5 out of   5 | elapsed:    5.1s finished\n",
      "[Parallel(n_jobs=6)]: Using backend LokyBackend with 6 concurrent workers.\n"
     ]
    },
    {
     "name": "stdout",
     "output_type": "stream",
     "text": [
      "best score: 0.6246693121693122\n",
      "Fitting 5 folds for each of 1 candidates, totalling 5 fits\n"
     ]
    },
    {
     "name": "stderr",
     "output_type": "stream",
     "text": [
      "[Parallel(n_jobs=6)]: Done   2 out of   5 | elapsed:    3.9s remaining:    5.9s\n",
      "[Parallel(n_jobs=6)]: Done   5 out of   5 | elapsed:    4.0s finished\n"
     ]
    },
    {
     "name": "stdout",
     "output_type": "stream",
     "text": [
      "best score: 0.6246693121693122\n",
      "Fitting 5 folds for each of 1 candidates, totalling 5 fits\n"
     ]
    },
    {
     "name": "stderr",
     "output_type": "stream",
     "text": [
      "[Parallel(n_jobs=6)]: Using backend LokyBackend with 6 concurrent workers.\n",
      "[Parallel(n_jobs=6)]: Done   2 out of   5 | elapsed:    7.5s remaining:   11.3s\n",
      "[Parallel(n_jobs=6)]: Done   5 out of   5 | elapsed:    7.6s finished\n",
      "[Parallel(n_jobs=6)]: Using backend LokyBackend with 6 concurrent workers.\n"
     ]
    },
    {
     "name": "stdout",
     "output_type": "stream",
     "text": [
      "best score: 0.6246693121693122\n",
      "Fitting 5 folds for each of 1 candidates, totalling 5 fits\n"
     ]
    },
    {
     "name": "stderr",
     "output_type": "stream",
     "text": [
      "[Parallel(n_jobs=6)]: Done   2 out of   5 | elapsed:   13.9s remaining:   20.9s\n",
      "[Parallel(n_jobs=6)]: Done   5 out of   5 | elapsed:   14.0s finished\n"
     ]
    },
    {
     "name": "stdout",
     "output_type": "stream",
     "text": [
      "best score: 0.6246693121693122\n",
      "Fitting 5 folds for each of 1 candidates, totalling 5 fits\n"
     ]
    },
    {
     "name": "stderr",
     "output_type": "stream",
     "text": [
      "[Parallel(n_jobs=6)]: Using backend LokyBackend with 6 concurrent workers.\n",
      "[Parallel(n_jobs=6)]: Done   2 out of   5 | elapsed:    2.0s remaining:    3.0s\n",
      "[Parallel(n_jobs=6)]: Done   5 out of   5 | elapsed:    2.1s finished\n"
     ]
    },
    {
     "name": "stdout",
     "output_type": "stream",
     "text": [
      "best score: 0.6246693121693122\n",
      "Fitting 5 folds for each of 1 candidates, totalling 5 fits\n"
     ]
    },
    {
     "name": "stderr",
     "output_type": "stream",
     "text": [
      "[Parallel(n_jobs=6)]: Using backend LokyBackend with 6 concurrent workers.\n",
      "[Parallel(n_jobs=6)]: Done   2 out of   5 | elapsed:   11.0s remaining:   16.5s\n",
      "[Parallel(n_jobs=6)]: Done   5 out of   5 | elapsed:   11.2s finished\n"
     ]
    },
    {
     "name": "stdout",
     "output_type": "stream",
     "text": [
      "best score: 0.6246693121693122\n",
      "Fitting 5 folds for each of 1 candidates, totalling 5 fits\n"
     ]
    },
    {
     "name": "stderr",
     "output_type": "stream",
     "text": [
      "[Parallel(n_jobs=6)]: Using backend LokyBackend with 6 concurrent workers.\n",
      "[Parallel(n_jobs=6)]: Done   2 out of   5 | elapsed:   12.0s remaining:   18.0s\n",
      "[Parallel(n_jobs=6)]: Done   5 out of   5 | elapsed:   12.2s finished\n"
     ]
    },
    {
     "name": "stdout",
     "output_type": "stream",
     "text": [
      "best score: 0.6246693121693122\n",
      "Fitting 5 folds for each of 1 candidates, totalling 5 fits\n"
     ]
    },
    {
     "name": "stderr",
     "output_type": "stream",
     "text": [
      "[Parallel(n_jobs=6)]: Using backend LokyBackend with 6 concurrent workers.\n",
      "[Parallel(n_jobs=6)]: Done   2 out of   5 | elapsed:    0.8s remaining:    1.3s\n",
      "[Parallel(n_jobs=6)]: Done   5 out of   5 | elapsed:    0.9s finished\n"
     ]
    },
    {
     "name": "stdout",
     "output_type": "stream",
     "text": [
      "best score: 0.6335978835978836\n",
      "Fitting 5 folds for each of 1 candidates, totalling 5 fits\n"
     ]
    },
    {
     "name": "stderr",
     "output_type": "stream",
     "text": [
      "[Parallel(n_jobs=6)]: Using backend LokyBackend with 6 concurrent workers.\n",
      "[Parallel(n_jobs=6)]: Done   2 out of   5 | elapsed:   23.0s remaining:   34.5s\n",
      "[Parallel(n_jobs=6)]: Done   5 out of   5 | elapsed:   23.2s finished\n"
     ]
    },
    {
     "name": "stdout",
     "output_type": "stream",
     "text": [
      "best score: 0.6335978835978836\n",
      "Fitting 5 folds for each of 1 candidates, totalling 5 fits\n"
     ]
    },
    {
     "name": "stderr",
     "output_type": "stream",
     "text": [
      "[Parallel(n_jobs=6)]: Using backend LokyBackend with 6 concurrent workers.\n",
      "[Parallel(n_jobs=6)]: Done   2 out of   5 | elapsed:    0.7s remaining:    1.0s\n",
      "[Parallel(n_jobs=6)]: Done   5 out of   5 | elapsed:    0.8s finished\n"
     ]
    },
    {
     "name": "stdout",
     "output_type": "stream",
     "text": [
      "best score: 0.6335978835978836\n",
      "Fitting 5 folds for each of 1 candidates, totalling 5 fits\n"
     ]
    },
    {
     "name": "stderr",
     "output_type": "stream",
     "text": [
      "[Parallel(n_jobs=6)]: Using backend LokyBackend with 6 concurrent workers.\n",
      "[Parallel(n_jobs=6)]: Done   2 out of   5 | elapsed:    4.0s remaining:    6.0s\n",
      "[Parallel(n_jobs=6)]: Done   5 out of   5 | elapsed:    4.2s finished\n"
     ]
    },
    {
     "name": "stdout",
     "output_type": "stream",
     "text": [
      "best score: 0.6651785714285714\n",
      "Fitting 5 folds for each of 1 candidates, totalling 5 fits\n"
     ]
    },
    {
     "name": "stderr",
     "output_type": "stream",
     "text": [
      "[Parallel(n_jobs=6)]: Using backend LokyBackend with 6 concurrent workers.\n",
      "[Parallel(n_jobs=6)]: Done   2 out of   5 | elapsed:   10.9s remaining:   16.3s\n",
      "[Parallel(n_jobs=6)]: Done   5 out of   5 | elapsed:   11.0s finished\n"
     ]
    },
    {
     "name": "stdout",
     "output_type": "stream",
     "text": [
      "best score: 0.6651785714285714\n",
      "Fitting 5 folds for each of 1 candidates, totalling 5 fits\n"
     ]
    },
    {
     "name": "stderr",
     "output_type": "stream",
     "text": [
      "[Parallel(n_jobs=6)]: Using backend LokyBackend with 6 concurrent workers.\n",
      "[Parallel(n_jobs=6)]: Done   2 out of   5 | elapsed:    2.4s remaining:    3.7s\n",
      "[Parallel(n_jobs=6)]: Done   5 out of   5 | elapsed:    2.6s finished\n"
     ]
    },
    {
     "name": "stdout",
     "output_type": "stream",
     "text": [
      "best score: 0.6651785714285714\n",
      "Fitting 5 folds for each of 1 candidates, totalling 5 fits\n"
     ]
    },
    {
     "name": "stderr",
     "output_type": "stream",
     "text": [
      "[Parallel(n_jobs=6)]: Using backend LokyBackend with 6 concurrent workers.\n",
      "[Parallel(n_jobs=6)]: Done   2 out of   5 | elapsed:   15.7s remaining:   23.5s\n",
      "[Parallel(n_jobs=6)]: Done   5 out of   5 | elapsed:   15.9s finished\n"
     ]
    },
    {
     "name": "stdout",
     "output_type": "stream",
     "text": [
      "best score: 0.6651785714285714\n",
      "Fitting 5 folds for each of 1 candidates, totalling 5 fits\n"
     ]
    },
    {
     "name": "stderr",
     "output_type": "stream",
     "text": [
      "[Parallel(n_jobs=6)]: Using backend LokyBackend with 6 concurrent workers.\n",
      "[Parallel(n_jobs=6)]: Done   2 out of   5 | elapsed:    3.5s remaining:    5.2s\n",
      "[Parallel(n_jobs=6)]: Done   5 out of   5 | elapsed:    3.5s finished\n"
     ]
    },
    {
     "name": "stdout",
     "output_type": "stream",
     "text": [
      "best score: 0.6651785714285714\n",
      "best parameter set: OrderedDict([('criterion', 'entropy'), ('max_depth', 5), ('max_features', 12), ('n_estimators', 677)])\n",
      "val. score: 0.6651785714285714\n",
      "test accuracy: 0.6760772659732541\n",
      "test NPV: 0.9382151029748284\n",
      "test Precision: 0.1906779661016949\n",
      "test Recall: 0.625\n",
      "test AUC: 0.7023941578850065\n",
      "test F1: 0.2922077922077922\n",
      "test AUPR: 0.20623990892095453\n"
     ]
    }
   ],
   "source": [
    "# RandomForest + Bayesian optimization\n",
    "opt_rf = BayesSearchCV(BalancedRandomForestClassifier(oob_score=True,\n",
    "                                     random_state=123),\n",
    "                       {\n",
    "                        'n_estimators': (100,2000),\n",
    "                        'max_depth': (5, 100),  \n",
    "                        'criterion': ['gini','entropy'],\n",
    "                        'max_features': (1, 75),\n",
    "                       }, \n",
    "                        n_iter = 20, verbose = 5, n_jobs=6)\n",
    "\n",
    "# callback handler\n",
    "def on_step(optim_result):\n",
    "    score = opt_rf.best_score_\n",
    "    print(\"best score: %s\" % score)\n",
    "#     with open(\"./rf_checkpoint.pkl\", 'wb') as pickle_file:\n",
    "#         pkl.dump(opt_rf, pickle_file)\n",
    "    if score >= 0.95:\n",
    "        print('Interrupting...')\n",
    "        return True\n",
    "    \n",
    "opt_rf.fit(X_train, y_train.ravel(), callback=[on_step])\n",
    "\n",
    "print(\"best parameter set: %s\" % opt_rf.best_params_)\n",
    "print(\"val. score: %s\" % opt_rf.best_score_)\n",
    "# print(\"test score: %s\" % opt_rf.score(X_test, y_test))\n",
    "y_prob = np.asarray(opt_rf.predict_proba(X_test))\n",
    "y_pred = np.asarray(opt_rf.predict(X_test))\n",
    "y_test = np.asarray(y_test)\n",
    "print(\"test accuracy: %s\" % opt_rf.score(X_test, y_test))\n",
    "print(\"test NPV: %s\" % negative_pred_value(y_test, y_pred))\n",
    "print(\"test Precision: %s\" % precision_score(y_test, y_pred))\n",
    "print(\"test Recall: %s\" % recall_score(y_test, y_pred))\n",
    "print(\"test AUC: %s\" % roc_auc_score(y_test, y_prob[:,1]))\n",
    "print(\"test F1: %s\" % f1_score(y_test, y_pred))\n",
    "print(\"test AUPR: %s\" % average_precision_score(y_test, y_prob[:,1]))"
   ]
  },
  {
   "cell_type": "code",
   "execution_count": 49,
   "metadata": {},
   "outputs": [
    {
     "name": "stdout",
     "output_type": "stream",
     "text": [
      "test accuracy: 0.6760772659732541\n",
      "test NPV: 0.9382151029748284\n",
      "test Precision: 0.1906779661016949\n",
      "test Recall: 0.625\n",
      "test AUC: 0.7023941578850065\n",
      "test F1: 0.2922077922077922\n",
      "test AUPR: 0.20623990892095453\n"
     ]
    }
   ],
   "source": [
    "# train a random forest classifier\n",
    "rf = BalancedRandomForestClassifier(\n",
    "                            n_estimators=677,\n",
    "                            max_depth=5,\n",
    "                            max_features = 12,\n",
    "                            criterion = 'entropy',\n",
    "                            oob_score=True, \n",
    "                            random_state=123) # set seed to ensure reproducibility\n",
    "rf.fit(X_train,y_train.ravel())\n",
    "y_prob = np.asarray(rf.predict_proba(X_test))\n",
    "y_pred = np.asarray(rf.predict(X_test))\n",
    "y_test = np.asarray(y_test)\n",
    "print(\"test accuracy: %s\" % rf.score(X_test, y_test))\n",
    "print(\"test NPV: %s\" % negative_pred_value(y_test, y_pred))\n",
    "print(\"test Precision: %s\" % precision_score(y_test, y_pred))\n",
    "print(\"test Recall: %s\" % recall_score(y_test, y_pred))\n",
    "print(\"test AUC: %s\" % roc_auc_score(y_test, y_prob[:,1]))\n",
    "print(\"test F1: %s\" % f1_score(y_test, y_pred))\n",
    "print(\"test AUPR: %s\" % average_precision_score(y_test, y_prob[:,1]))"
   ]
  },
  {
   "cell_type": "code",
   "execution_count": 47,
   "metadata": {},
   "outputs": [
    {
     "data": {
      "image/png": "[encoded data removed]",
      "text/plain": [
       "<Figure size 720x504 with 2 Axes>"
      ]
     },
     "metadata": {},
     "output_type": "display_data"
    }
   ],
   "source": [
    "cm = confusion_matrix(y_test, y_pred)\n",
    "df_cm = pd.DataFrame(cm, index = [i for i in [\"SLNB Negative\",\"SLNB Positive\"]],\n",
    "                  columns = [i for i in [\"SLNB Negative\",\"SLNB Positive\"]])\n",
    "plt.figure(figsize = (10,7))\n",
    "ax = sns.heatmap(df_cm, annot=True, cmap='Blues',square=True, fmt='d').set_title('Confusion matrix: Random Forest')\n",
    "plt.xlabel(\"Predicted\")\n",
    "plt.ylabel(\"True\")\n",
    "plt.show()"
   ]
  },
  {
   "cell_type": "code",
   "execution_count": 51,
   "metadata": {},
   "outputs": [],
   "source": [
    "with open(BASE_DIR+'../model/balanced_rf.pkl', 'wb') as f:\n",
    "    pkl.dump(rf, f)"
   ]
  },
  {
   "cell_type": "code",
   "execution_count": null,
   "metadata": {},
   "outputs": [],
   "source": []
  },
  {
   "cell_type": "code",
   "execution_count": null,
   "metadata": {},
   "outputs": [],
   "source": []
  },
  {
   "cell_type": "markdown",
   "metadata": {},
   "source": [
    "## Binning the columns"
   ]
  },
  {
   "cell_type": "code",
   "execution_count": 102,
   "metadata": {},
   "outputs": [],
   "source": [
    "# read in data\n",
    "mcc_ncdb = pd.read_pickle(BASE_DIR + '../data/Merkel_NCDB_clean.pkl')\n",
    "# subset of features only\n",
    "mcc_ncdb_sel = mcc_ncdb[['AGE','SEX','PRIMARY_SITE',\n",
    "                        'TUMOR_SIZE', 'DEPTH', \n",
    "                        'LYMPH_VASCULAR_INVASION', \n",
    "                        'TUMOR_INFILTRATING_LYMPHOCYTES',\n",
    "                        'IMMUNE_SUPPRESSION', \n",
    "                        'GROWTH_PATTERN',\n",
    "                        'TUMOR_BASE_TRANSECTION',\n",
    "                        'SLNB'\n",
    "                       ]]\n"
   ]
  },
  {
   "cell_type": "code",
   "execution_count": 103,
   "metadata": {},
   "outputs": [
    {
     "data": {
      "text/html": [
       "<div>\n",
       "<style scoped>\n",
       "    .dataframe tbody tr th:only-of-type {\n",
       "        vertical-align: middle;\n",
       "    }\n",
       "\n",
       "    .dataframe tbody tr th {\n",
       "        vertical-align: top;\n",
       "    }\n",
       "\n",
       "    .dataframe thead th {\n",
       "        text-align: right;\n",
       "    }\n",
       "</style>\n",
       "<table border=\"1\" class=\"dataframe\">\n",
       "  <thead>\n",
       "    <tr style=\"text-align: right;\">\n",
       "      <th></th>\n",
       "      <th>AGE</th>\n",
       "      <th>SEX</th>\n",
       "      <th>PRIMARY_SITE</th>\n",
       "      <th>TUMOR_SIZE</th>\n",
       "      <th>DEPTH</th>\n",
       "      <th>LYMPH_VASCULAR_INVASION</th>\n",
       "      <th>TUMOR_INFILTRATING_LYMPHOCYTES</th>\n",
       "      <th>IMMUNE_SUPPRESSION</th>\n",
       "      <th>GROWTH_PATTERN</th>\n",
       "      <th>TUMOR_BASE_TRANSECTION</th>\n",
       "      <th>SLNB</th>\n",
       "    </tr>\n",
       "  </thead>\n",
       "  <tbody>\n",
       "    <tr>\n",
       "      <th>3</th>\n",
       "      <td>82</td>\n",
       "      <td>1</td>\n",
       "      <td>C441</td>\n",
       "      <td>999</td>\n",
       "      <td>999.0</td>\n",
       "      <td>9</td>\n",
       "      <td>999</td>\n",
       "      <td>999</td>\n",
       "      <td>999</td>\n",
       "      <td>999</td>\n",
       "      <td>0.0</td>\n",
       "    </tr>\n",
       "    <tr>\n",
       "      <th>8</th>\n",
       "      <td>71</td>\n",
       "      <td>1</td>\n",
       "      <td>C444</td>\n",
       "      <td>1</td>\n",
       "      <td>999.0</td>\n",
       "      <td>0</td>\n",
       "      <td>999</td>\n",
       "      <td>999</td>\n",
       "      <td>999</td>\n",
       "      <td>999</td>\n",
       "      <td>0.0</td>\n",
       "    </tr>\n",
       "    <tr>\n",
       "      <th>9</th>\n",
       "      <td>49</td>\n",
       "      <td>2</td>\n",
       "      <td>C441</td>\n",
       "      <td>20</td>\n",
       "      <td>999.0</td>\n",
       "      <td>9</td>\n",
       "      <td>999</td>\n",
       "      <td>999</td>\n",
       "      <td>999</td>\n",
       "      <td>999</td>\n",
       "      <td>0.0</td>\n",
       "    </tr>\n",
       "    <tr>\n",
       "      <th>14</th>\n",
       "      <td>43</td>\n",
       "      <td>1</td>\n",
       "      <td>C443</td>\n",
       "      <td>2</td>\n",
       "      <td>1.0</td>\n",
       "      <td>9</td>\n",
       "      <td>0</td>\n",
       "      <td>0</td>\n",
       "      <td>999</td>\n",
       "      <td>20</td>\n",
       "      <td>0.0</td>\n",
       "    </tr>\n",
       "    <tr>\n",
       "      <th>19</th>\n",
       "      <td>59</td>\n",
       "      <td>2</td>\n",
       "      <td>C447</td>\n",
       "      <td>25</td>\n",
       "      <td>50.0</td>\n",
       "      <td>0</td>\n",
       "      <td>999</td>\n",
       "      <td>999</td>\n",
       "      <td>999</td>\n",
       "      <td>999</td>\n",
       "      <td>0.0</td>\n",
       "    </tr>\n",
       "  </tbody>\n",
       "</table>\n",
       "</div>"
      ],
      "text/plain": [
       "    AGE  SEX PRIMARY_SITE  TUMOR_SIZE  DEPTH LYMPH_VASCULAR_INVASION  \\\n",
       "3    82    1         C441         999  999.0                       9   \n",
       "8    71    1         C444           1  999.0                       0   \n",
       "9    49    2         C441          20  999.0                       9   \n",
       "14   43    1         C443           2    1.0                       9   \n",
       "19   59    2         C447          25   50.0                       0   \n",
       "\n",
       "   TUMOR_INFILTRATING_LYMPHOCYTES IMMUNE_SUPPRESSION GROWTH_PATTERN  \\\n",
       "3                             999                999            999   \n",
       "8                             999                999            999   \n",
       "9                             999                999            999   \n",
       "14                              0                  0            999   \n",
       "19                            999                999            999   \n",
       "\n",
       "   TUMOR_BASE_TRANSECTION  SLNB  \n",
       "3                     999   0.0  \n",
       "8                     999   0.0  \n",
       "9                     999   0.0  \n",
       "14                     20   0.0  \n",
       "19                    999   0.0  "
      ]
     },
     "execution_count": 103,
     "metadata": {},
     "output_type": "execute_result"
    }
   ],
   "source": [
    "mcc_ncdb_sel.head()"
   ]
  },
  {
   "cell_type": "code",
   "execution_count": 104,
   "metadata": {},
   "outputs": [
    {
     "data": {
      "text/plain": [
       "999.0    4266\n",
       "1.0      1063\n",
       "20.0      923\n",
       "0.0       469\n",
       "Name: TUMOR_BASE_TRANSECTION, dtype: int64"
      ]
     },
     "execution_count": 104,
     "metadata": {},
     "output_type": "execute_result"
    }
   ],
   "source": [
    "mcc_ncdb_sel['TUMOR_BASE_TRANSECTION'].value_counts()"
   ]
  },
  {
   "cell_type": "code",
   "execution_count": 105,
   "metadata": {},
   "outputs": [
    {
     "name": "stderr",
     "output_type": "stream",
     "text": [
      "/Users/yanrongji/anaconda3/envs/insight/lib/python3.7/site-packages/ipykernel_launcher.py:3: SettingWithCopyWarning: \n",
      "A value is trying to be set on a copy of a slice from a DataFrame.\n",
      "Try using .loc[row_indexer,col_indexer] = value instead\n",
      "\n",
      "See the caveats in the documentation: https://pandas.pydata.org/pandas-docs/stable/user_guide/indexing.html#returning-a-view-versus-a-copy\n",
      "  This is separate from the ipykernel package so we can avoid doing imports until\n",
      "/Users/yanrongji/anaconda3/envs/insight/lib/python3.7/site-packages/ipykernel_launcher.py:17: SettingWithCopyWarning: \n",
      "A value is trying to be set on a copy of a slice from a DataFrame.\n",
      "Try using .loc[row_indexer,col_indexer] = value instead\n",
      "\n",
      "See the caveats in the documentation: https://pandas.pydata.org/pandas-docs/stable/user_guide/indexing.html#returning-a-view-versus-a-copy\n",
      "/Users/yanrongji/anaconda3/envs/insight/lib/python3.7/site-packages/ipykernel_launcher.py:23: SettingWithCopyWarning: \n",
      "A value is trying to be set on a copy of a slice from a DataFrame.\n",
      "Try using .loc[row_indexer,col_indexer] = value instead\n",
      "\n",
      "See the caveats in the documentation: https://pandas.pydata.org/pandas-docs/stable/user_guide/indexing.html#returning-a-view-versus-a-copy\n",
      "/Users/yanrongji/anaconda3/envs/insight/lib/python3.7/site-packages/ipykernel_launcher.py:31: SettingWithCopyWarning: \n",
      "A value is trying to be set on a copy of a slice from a DataFrame.\n",
      "Try using .loc[row_indexer,col_indexer] = value instead\n",
      "\n",
      "See the caveats in the documentation: https://pandas.pydata.org/pandas-docs/stable/user_guide/indexing.html#returning-a-view-versus-a-copy\n",
      "/Users/yanrongji/anaconda3/envs/insight/lib/python3.7/site-packages/ipykernel_launcher.py:44: SettingWithCopyWarning: \n",
      "A value is trying to be set on a copy of a slice from a DataFrame.\n",
      "Try using .loc[row_indexer,col_indexer] = value instead\n",
      "\n",
      "See the caveats in the documentation: https://pandas.pydata.org/pandas-docs/stable/user_guide/indexing.html#returning-a-view-versus-a-copy\n",
      "/Users/yanrongji/anaconda3/envs/insight/lib/python3.7/site-packages/ipykernel_launcher.py:49: SettingWithCopyWarning: \n",
      "A value is trying to be set on a copy of a slice from a DataFrame.\n",
      "Try using .loc[row_indexer,col_indexer] = value instead\n",
      "\n",
      "See the caveats in the documentation: https://pandas.pydata.org/pandas-docs/stable/user_guide/indexing.html#returning-a-view-versus-a-copy\n",
      "/Users/yanrongji/anaconda3/envs/insight/lib/python3.7/site-packages/ipykernel_launcher.py:55: SettingWithCopyWarning: \n",
      "A value is trying to be set on a copy of a slice from a DataFrame.\n",
      "Try using .loc[row_indexer,col_indexer] = value instead\n",
      "\n",
      "See the caveats in the documentation: https://pandas.pydata.org/pandas-docs/stable/user_guide/indexing.html#returning-a-view-versus-a-copy\n"
     ]
    }
   ],
   "source": [
    "# binning the categories\n",
    "mcc_ncdb_sel['SEX'] = mcc_ncdb_sel['SEX'].replace([1, 2],\n",
    "                                                ['Male', 'Female']\n",
    "                                               )\n",
    "mcc_ncdb_sel['PRIMARY_SITE'] = mcc_ncdb_sel['PRIMARY_SITE'].replace(['C440','C441','C442','C443',\n",
    "                                                                     'C444','C445','C446','C447',\n",
    "                                                                     'C448','C449'],\n",
    "                                                                    ['Head_and_Neck',\n",
    "                                                                     'Head_and_Neck',\n",
    "                                                                     'Head_and_Neck',\n",
    "                                                                     'Other',\n",
    "                                                                     'Head_and_Neck',\n",
    "                                                                     'Trunk',\n",
    "                                                                     'Extremity',\n",
    "                                                                     'Extremity',\n",
    "                                                                     'Other',\n",
    "                                                                     'Other']\n",
    "                                                                   )\n",
    "mcc_ncdb_sel['LYMPH_VASCULAR_INVASION'] = mcc_ncdb_sel['LYMPH_VASCULAR_INVASION'].replace([0, 1, 8, 9],\n",
    "                                                                                          ['No',\n",
    "                                                                                           'Yes',\n",
    "                                                                                           'Unknown',\n",
    "                                                                                           'Unknown'\n",
    "                                                                                          ])\n",
    "mcc_ncdb_sel['TUMOR_INFILTRATING_LYMPHOCYTES'] = mcc_ncdb_sel['TUMOR_INFILTRATING_LYMPHOCYTES'].replace(\n",
    "                                                                                          [0, 1, 20, 30, 999],\n",
    "                                                                                          ['Negative',\n",
    "                                                                                           'Weak',\n",
    "                                                                                           'Strong',\n",
    "                                                                                           'Present',\n",
    "                                                                                           'Unknown'\n",
    "                                                                                          ])\n",
    "mcc_ncdb_sel['IMMUNE_SUPPRESSION'] = mcc_ncdb_sel['IMMUNE_SUPPRESSION'].replace(\n",
    "                                                                              [0, 1, 20, 30, 40,\n",
    "                                                                               50, 60, 70, 999],\n",
    "                                                                              ['Negative',\n",
    "                                                                               'Positive',\n",
    "                                                                               'Positive',\n",
    "                                                                               'Positive',\n",
    "                                                                               'Positive',\n",
    "                                                                               'Positive',\n",
    "                                                                               'Positive',\n",
    "                                                                               'Positive',\n",
    "                                                                               'Unknown'\n",
    "                                                                              ])\n",
    "mcc_ncdb_sel['GROWTH_PATTERN'] = mcc_ncdb_sel['GROWTH_PATTERN'].replace([1, 20, 999],\n",
    "                                                                          ['Circumscribed_nodular',\n",
    "                                                                           'Diffusely_infiltrative',\n",
    "                                                                           'Unknown'])\n",
    "\n",
    "mcc_ncdb_sel['TUMOR_BASE_TRANSECTION'] = mcc_ncdb_sel['TUMOR_BASE_TRANSECTION'].replace([0, 1, 20, 999],\n",
    "                                                                                          ['Not_found',\n",
    "                                                                                           'Transected',\n",
    "                                                                                           'Not_transected',\n",
    "                                                                                           'Unknown'\n",
    "                                                                                          ])"
   ]
  },
  {
   "cell_type": "markdown",
   "metadata": {},
   "source": [
    "## Imputing DEPTH and TUMOR_SIZE to be zero"
   ]
  },
  {
   "cell_type": "code",
   "execution_count": 106,
   "metadata": {},
   "outputs": [
    {
     "name": "stderr",
     "output_type": "stream",
     "text": [
      "/Users/yanrongji/anaconda3/envs/insight/lib/python3.7/site-packages/ipykernel_launcher.py:1: SettingWithCopyWarning: \n",
      "A value is trying to be set on a copy of a slice from a DataFrame.\n",
      "Try using .loc[row_indexer,col_indexer] = value instead\n",
      "\n",
      "See the caveats in the documentation: https://pandas.pydata.org/pandas-docs/stable/user_guide/indexing.html#returning-a-view-versus-a-copy\n",
      "  \"\"\"Entry point for launching an IPython kernel.\n",
      "/Users/yanrongji/anaconda3/envs/insight/lib/python3.7/site-packages/ipykernel_launcher.py:2: SettingWithCopyWarning: \n",
      "A value is trying to be set on a copy of a slice from a DataFrame.\n",
      "Try using .loc[row_indexer,col_indexer] = value instead\n",
      "\n",
      "See the caveats in the documentation: https://pandas.pydata.org/pandas-docs/stable/user_guide/indexing.html#returning-a-view-versus-a-copy\n",
      "  \n"
     ]
    }
   ],
   "source": [
    "mcc_ncdb_sel['DEPTH'] = mcc_ncdb_sel['DEPTH'].replace([999],[0])\n",
    "mcc_ncdb_sel['TUMOR_SIZE'] = mcc_ncdb_sel['TUMOR_SIZE'].replace([999],[0])"
   ]
  },
  {
   "cell_type": "code",
   "execution_count": 107,
   "metadata": {},
   "outputs": [
    {
     "data": {
      "text/html": [
       "<div>\n",
       "<style scoped>\n",
       "    .dataframe tbody tr th:only-of-type {\n",
       "        vertical-align: middle;\n",
       "    }\n",
       "\n",
       "    .dataframe tbody tr th {\n",
       "        vertical-align: top;\n",
       "    }\n",
       "\n",
       "    .dataframe thead th {\n",
       "        text-align: right;\n",
       "    }\n",
       "</style>\n",
       "<table border=\"1\" class=\"dataframe\">\n",
       "  <thead>\n",
       "    <tr style=\"text-align: right;\">\n",
       "      <th></th>\n",
       "      <th>AGE</th>\n",
       "      <th>SEX</th>\n",
       "      <th>PRIMARY_SITE</th>\n",
       "      <th>TUMOR_SIZE</th>\n",
       "      <th>DEPTH</th>\n",
       "      <th>LYMPH_VASCULAR_INVASION</th>\n",
       "      <th>TUMOR_INFILTRATING_LYMPHOCYTES</th>\n",
       "      <th>IMMUNE_SUPPRESSION</th>\n",
       "      <th>GROWTH_PATTERN</th>\n",
       "      <th>TUMOR_BASE_TRANSECTION</th>\n",
       "      <th>SLNB</th>\n",
       "    </tr>\n",
       "  </thead>\n",
       "  <tbody>\n",
       "    <tr>\n",
       "      <th>3</th>\n",
       "      <td>82</td>\n",
       "      <td>Male</td>\n",
       "      <td>Head_and_Neck</td>\n",
       "      <td>0</td>\n",
       "      <td>0.0</td>\n",
       "      <td>Unknown</td>\n",
       "      <td>Unknown</td>\n",
       "      <td>Unknown</td>\n",
       "      <td>Unknown</td>\n",
       "      <td>Unknown</td>\n",
       "      <td>0.0</td>\n",
       "    </tr>\n",
       "    <tr>\n",
       "      <th>8</th>\n",
       "      <td>71</td>\n",
       "      <td>Male</td>\n",
       "      <td>Head_and_Neck</td>\n",
       "      <td>1</td>\n",
       "      <td>0.0</td>\n",
       "      <td>No</td>\n",
       "      <td>Unknown</td>\n",
       "      <td>Unknown</td>\n",
       "      <td>Unknown</td>\n",
       "      <td>Unknown</td>\n",
       "      <td>0.0</td>\n",
       "    </tr>\n",
       "    <tr>\n",
       "      <th>9</th>\n",
       "      <td>49</td>\n",
       "      <td>Female</td>\n",
       "      <td>Head_and_Neck</td>\n",
       "      <td>20</td>\n",
       "      <td>0.0</td>\n",
       "      <td>Unknown</td>\n",
       "      <td>Unknown</td>\n",
       "      <td>Unknown</td>\n",
       "      <td>Unknown</td>\n",
       "      <td>Unknown</td>\n",
       "      <td>0.0</td>\n",
       "    </tr>\n",
       "    <tr>\n",
       "      <th>14</th>\n",
       "      <td>43</td>\n",
       "      <td>Male</td>\n",
       "      <td>Other</td>\n",
       "      <td>2</td>\n",
       "      <td>1.0</td>\n",
       "      <td>Unknown</td>\n",
       "      <td>Negative</td>\n",
       "      <td>Negative</td>\n",
       "      <td>Unknown</td>\n",
       "      <td>Not_transected</td>\n",
       "      <td>0.0</td>\n",
       "    </tr>\n",
       "    <tr>\n",
       "      <th>19</th>\n",
       "      <td>59</td>\n",
       "      <td>Female</td>\n",
       "      <td>Extremity</td>\n",
       "      <td>25</td>\n",
       "      <td>50.0</td>\n",
       "      <td>No</td>\n",
       "      <td>Unknown</td>\n",
       "      <td>Unknown</td>\n",
       "      <td>Unknown</td>\n",
       "      <td>Unknown</td>\n",
       "      <td>0.0</td>\n",
       "    </tr>\n",
       "  </tbody>\n",
       "</table>\n",
       "</div>"
      ],
      "text/plain": [
       "    AGE     SEX   PRIMARY_SITE  TUMOR_SIZE  DEPTH LYMPH_VASCULAR_INVASION  \\\n",
       "3    82    Male  Head_and_Neck           0    0.0                 Unknown   \n",
       "8    71    Male  Head_and_Neck           1    0.0                      No   \n",
       "9    49  Female  Head_and_Neck          20    0.0                 Unknown   \n",
       "14   43    Male          Other           2    1.0                 Unknown   \n",
       "19   59  Female      Extremity          25   50.0                      No   \n",
       "\n",
       "   TUMOR_INFILTRATING_LYMPHOCYTES IMMUNE_SUPPRESSION GROWTH_PATTERN  \\\n",
       "3                         Unknown            Unknown        Unknown   \n",
       "8                         Unknown            Unknown        Unknown   \n",
       "9                         Unknown            Unknown        Unknown   \n",
       "14                       Negative           Negative        Unknown   \n",
       "19                        Unknown            Unknown        Unknown   \n",
       "\n",
       "   TUMOR_BASE_TRANSECTION  SLNB  \n",
       "3                 Unknown   0.0  \n",
       "8                 Unknown   0.0  \n",
       "9                 Unknown   0.0  \n",
       "14         Not_transected   0.0  \n",
       "19                Unknown   0.0  "
      ]
     },
     "execution_count": 107,
     "metadata": {},
     "output_type": "execute_result"
    }
   ],
   "source": [
    "mcc_ncdb_sel.head()"
   ]
  },
  {
   "cell_type": "code",
   "execution_count": 157,
   "metadata": {},
   "outputs": [
    {
     "data": {
      "text/plain": [
       "0      1524\n",
       "1       451\n",
       "992     323\n",
       "15      314\n",
       "20      272\n",
       "       ... \n",
       "320       1\n",
       "280       1\n",
       "160       1\n",
       "148       1\n",
       "153       1\n",
       "Name: TUMOR_SIZE, Length: 112, dtype: int64"
      ]
     },
     "execution_count": 157,
     "metadata": {},
     "output_type": "execute_result"
    }
   ],
   "source": [
    "mcc_ncdb_sel.TUMOR_SIZE.value_counts()"
   ]
  },
  {
   "cell_type": "code",
   "execution_count": 109,
   "metadata": {},
   "outputs": [],
   "source": [
    "# save cleaned data\n",
    "mcc_ncdb_sel.to_csv(BASE_DIR+\"../data/Merkel_NCDB_clean_selectedVars.csv\")\n",
    "mcc_ncdb_sel.to_pickle(BASE_DIR+\"../data/Merkel_NCDB_clean_selectedVars.pkl\")"
   ]
  },
  {
   "cell_type": "code",
   "execution_count": 92,
   "metadata": {},
   "outputs": [],
   "source": [
    "mcc_ncdb_sel = pd.get_dummies(mcc_ncdb_sel)\n",
    "X_sel = np.array(mcc_ncdb_sel.loc[:, mcc_ncdb_sel.columns != 'SLNB'])\n",
    "y_sel = np.array(mcc_ncdb_sel.loc[:, mcc_ncdb_sel.columns == 'SLNB'])\n",
    "X_train_sel, X_test_sel, y_train_sel, y_test_sel = train_test_split(X_sel, y_sel, \n",
    "                                                                test_size = 0.1, \n",
    "                                                                random_state = 123) # set seed to ensure reproducibility"
   ]
  },
  {
   "cell_type": "code",
   "execution_count": 93,
   "metadata": {},
   "outputs": [
    {
     "data": {
      "text/plain": [
       "(6048, 27)"
      ]
     },
     "execution_count": 93,
     "metadata": {},
     "output_type": "execute_result"
    }
   ],
   "source": [
    "X_train_sel.shape"
   ]
  },
  {
   "cell_type": "code",
   "execution_count": 94,
   "metadata": {},
   "outputs": [
    {
     "data": {
      "text/plain": [
       "Index(['AGE', 'TUMOR_SIZE', 'DEPTH', 'SLNB', 'SEX_Female', 'SEX_Male',\n",
       "       'PRIMARY_SITE_Extremity', 'PRIMARY_SITE_Head_and_Neck',\n",
       "       'PRIMARY_SITE_Other', 'PRIMARY_SITE_Trunk',\n",
       "       'LYMPH_VASCULAR_INVASION_No', 'LYMPH_VASCULAR_INVASION_Unknown',\n",
       "       'LYMPH_VASCULAR_INVASION_Yes',\n",
       "       'TUMOR_INFILTRATING_LYMPHOCYTES_Negative',\n",
       "       'TUMOR_INFILTRATING_LYMPHOCYTES_Present',\n",
       "       'TUMOR_INFILTRATING_LYMPHOCYTES_Strong',\n",
       "       'TUMOR_INFILTRATING_LYMPHOCYTES_Unknown',\n",
       "       'TUMOR_INFILTRATING_LYMPHOCYTES_Weak', 'IMMUNE_SUPPRESSION_Negative',\n",
       "       'IMMUNE_SUPPRESSION_Positive', 'IMMUNE_SUPPRESSION_Unknown',\n",
       "       'GROWTH_PATTERN_Circumscribed_nodular',\n",
       "       'GROWTH_PATTERN_Diffusely_infiltrative', 'GROWTH_PATTERN_Unknown',\n",
       "       'TUMOR_BASE_TRANSECTION_Not_found',\n",
       "       'TUMOR_BASE_TRANSECTION_Not_transected',\n",
       "       'TUMOR_BASE_TRANSECTION_Transected', 'TUMOR_BASE_TRANSECTION_Unknown'],\n",
       "      dtype='object')"
      ]
     },
     "execution_count": 94,
     "metadata": {},
     "output_type": "execute_result"
    }
   ],
   "source": [
    "mcc_ncdb_sel.columns"
   ]
  },
  {
   "cell_type": "code",
   "execution_count": 95,
   "metadata": {},
   "outputs": [
    {
     "name": "stdout",
     "output_type": "stream",
     "text": [
      "test accuracy: 0.6136701337295691\n",
      "test NPV: 0.9316455696202531\n",
      "test Precision: 0.1618705035971223\n",
      "test Recall: 0.625\n",
      "test AUC: 0.6387502310963209\n",
      "test F1: 0.2571428571428571\n",
      "test AUPR: 0.18029567014891917\n"
     ]
    }
   ],
   "source": [
    "# train a random forest classifier\n",
    "rf = BalancedRandomForestClassifier(\n",
    "                            n_estimators=1000,\n",
    "                            max_depth=50,\n",
    "                            max_features = 7,\n",
    "                            oob_score=True, \n",
    "                            random_state=123) # set seed to ensure reproducibility\n",
    "rf.fit(X_train_sel,y_train_sel.ravel())\n",
    "y_prob_sel = np.asarray(rf.predict_proba(X_test_sel))\n",
    "y_pred_sel = np.asarray(rf.predict(X_test_sel))\n",
    "y_test_sel = np.asarray(y_test_sel)\n",
    "print(\"test accuracy: %s\" % accuracy_score(y_test_sel, y_pred_sel))\n",
    "print(\"test NPV: %s\" % negative_pred_value(y_test_sel, y_pred_sel))\n",
    "print(\"test Precision: %s\" % precision_score(y_test_sel, y_pred_sel))\n",
    "print(\"test Recall: %s\" % recall_score(y_test_sel, y_pred_sel))\n",
    "print(\"test AUC: %s\" % roc_auc_score(y_test_sel, y_prob_sel[:,1]))\n",
    "print(\"test F1: %s\" % f1_score(y_test_sel, y_pred_sel))\n",
    "print(\"test AUPR: %s\" % average_precision_score(y_test_sel, y_prob_sel[:,1]))"
   ]
  },
  {
   "cell_type": "code",
   "execution_count": 96,
   "metadata": {},
   "outputs": [
    {
     "name": "stdout",
     "output_type": "stream",
     "text": [
      "Fitting 5 folds for each of 1 candidates, totalling 5 fits\n"
     ]
    },
    {
     "name": "stderr",
     "output_type": "stream",
     "text": [
      "[Parallel(n_jobs=6)]: Using backend LokyBackend with 6 concurrent workers.\n",
      "[Parallel(n_jobs=6)]: Done   2 out of   5 | elapsed:   15.8s remaining:   23.7s\n",
      "[Parallel(n_jobs=6)]: Done   5 out of   5 | elapsed:   15.9s finished\n",
      "[Parallel(n_jobs=6)]: Using backend LokyBackend with 6 concurrent workers.\n"
     ]
    },
    {
     "name": "stdout",
     "output_type": "stream",
     "text": [
      "best score: 0.3028664322722658\n",
      "Fitting 5 folds for each of 1 candidates, totalling 5 fits\n"
     ]
    },
    {
     "name": "stderr",
     "output_type": "stream",
     "text": [
      "[Parallel(n_jobs=6)]: Done   2 out of   5 | elapsed:    1.8s remaining:    2.7s\n",
      "[Parallel(n_jobs=6)]: Done   5 out of   5 | elapsed:    2.4s finished\n",
      "[Parallel(n_jobs=6)]: Using backend LokyBackend with 6 concurrent workers.\n"
     ]
    },
    {
     "name": "stdout",
     "output_type": "stream",
     "text": [
      "best score: 0.3028664322722658\n",
      "Fitting 5 folds for each of 1 candidates, totalling 5 fits\n"
     ]
    },
    {
     "name": "stderr",
     "output_type": "stream",
     "text": [
      "[Parallel(n_jobs=6)]: Done   2 out of   5 | elapsed:    3.0s remaining:    4.5s\n",
      "[Parallel(n_jobs=6)]: Done   5 out of   5 | elapsed:    3.0s finished\n",
      "[Parallel(n_jobs=6)]: Using backend LokyBackend with 6 concurrent workers.\n"
     ]
    },
    {
     "name": "stdout",
     "output_type": "stream",
     "text": [
      "best score: 0.3038104807152076\n",
      "Fitting 5 folds for each of 1 candidates, totalling 5 fits\n"
     ]
    },
    {
     "name": "stderr",
     "output_type": "stream",
     "text": [
      "[Parallel(n_jobs=6)]: Done   2 out of   5 | elapsed:    6.9s remaining:   10.4s\n",
      "[Parallel(n_jobs=6)]: Done   5 out of   5 | elapsed:    7.0s finished\n",
      "[Parallel(n_jobs=6)]: Using backend LokyBackend with 6 concurrent workers.\n"
     ]
    },
    {
     "name": "stdout",
     "output_type": "stream",
     "text": [
      "best score: 0.3038104807152076\n",
      "Fitting 5 folds for each of 1 candidates, totalling 5 fits\n"
     ]
    },
    {
     "name": "stderr",
     "output_type": "stream",
     "text": [
      "[Parallel(n_jobs=6)]: Done   2 out of   5 | elapsed:    1.0s remaining:    1.5s\n",
      "[Parallel(n_jobs=6)]: Done   5 out of   5 | elapsed:    1.1s finished\n",
      "[Parallel(n_jobs=6)]: Using backend LokyBackend with 6 concurrent workers.\n"
     ]
    },
    {
     "name": "stdout",
     "output_type": "stream",
     "text": [
      "best score: 0.3038104807152076\n",
      "Fitting 5 folds for each of 1 candidates, totalling 5 fits\n"
     ]
    },
    {
     "name": "stderr",
     "output_type": "stream",
     "text": [
      "[Parallel(n_jobs=6)]: Done   2 out of   5 | elapsed:    9.7s remaining:   14.6s\n",
      "[Parallel(n_jobs=6)]: Done   5 out of   5 | elapsed:    9.9s finished\n"
     ]
    },
    {
     "name": "stdout",
     "output_type": "stream",
     "text": [
      "best score: 0.31650363381927077\n",
      "Fitting 5 folds for each of 1 candidates, totalling 5 fits\n"
     ]
    },
    {
     "name": "stderr",
     "output_type": "stream",
     "text": [
      "[Parallel(n_jobs=6)]: Using backend LokyBackend with 6 concurrent workers.\n",
      "[Parallel(n_jobs=6)]: Done   2 out of   5 | elapsed:   13.2s remaining:   19.7s\n",
      "[Parallel(n_jobs=6)]: Done   5 out of   5 | elapsed:   13.3s finished\n"
     ]
    },
    {
     "name": "stdout",
     "output_type": "stream",
     "text": [
      "best score: 0.31650363381927077\n",
      "Fitting 5 folds for each of 1 candidates, totalling 5 fits\n"
     ]
    },
    {
     "name": "stderr",
     "output_type": "stream",
     "text": [
      "[Parallel(n_jobs=6)]: Using backend LokyBackend with 6 concurrent workers.\n",
      "[Parallel(n_jobs=6)]: Done   2 out of   5 | elapsed:    5.2s remaining:    7.8s\n",
      "[Parallel(n_jobs=6)]: Done   5 out of   5 | elapsed:    5.3s finished\n",
      "[Parallel(n_jobs=6)]: Using backend LokyBackend with 6 concurrent workers.\n"
     ]
    },
    {
     "name": "stdout",
     "output_type": "stream",
     "text": [
      "best score: 0.31650363381927077\n",
      "Fitting 5 folds for each of 1 candidates, totalling 5 fits\n"
     ]
    },
    {
     "name": "stderr",
     "output_type": "stream",
     "text": [
      "[Parallel(n_jobs=6)]: Done   2 out of   5 | elapsed:   14.3s remaining:   21.5s\n",
      "[Parallel(n_jobs=6)]: Done   5 out of   5 | elapsed:   14.4s finished\n"
     ]
    },
    {
     "name": "stdout",
     "output_type": "stream",
     "text": [
      "best score: 0.31650363381927077\n",
      "Fitting 5 folds for each of 1 candidates, totalling 5 fits\n"
     ]
    },
    {
     "name": "stderr",
     "output_type": "stream",
     "text": [
      "[Parallel(n_jobs=6)]: Using backend LokyBackend with 6 concurrent workers.\n",
      "[Parallel(n_jobs=6)]: Done   2 out of   5 | elapsed:   12.4s remaining:   18.6s\n",
      "[Parallel(n_jobs=6)]: Done   5 out of   5 | elapsed:   12.5s finished\n"
     ]
    },
    {
     "name": "stdout",
     "output_type": "stream",
     "text": [
      "best score: 0.31650363381927077\n",
      "Fitting 5 folds for each of 1 candidates, totalling 5 fits\n"
     ]
    },
    {
     "name": "stderr",
     "output_type": "stream",
     "text": [
      "[Parallel(n_jobs=6)]: Using backend LokyBackend with 6 concurrent workers.\n",
      "[Parallel(n_jobs=6)]: Done   2 out of   5 | elapsed:   11.3s remaining:   17.0s\n",
      "[Parallel(n_jobs=6)]: Done   5 out of   5 | elapsed:   11.5s finished\n"
     ]
    },
    {
     "name": "stdout",
     "output_type": "stream",
     "text": [
      "best score: 0.31650363381927077\n",
      "Fitting 5 folds for each of 1 candidates, totalling 5 fits\n"
     ]
    },
    {
     "name": "stderr",
     "output_type": "stream",
     "text": [
      "[Parallel(n_jobs=6)]: Using backend LokyBackend with 6 concurrent workers.\n",
      "[Parallel(n_jobs=6)]: Done   2 out of   5 | elapsed:    0.6s remaining:    1.0s\n",
      "[Parallel(n_jobs=6)]: Done   5 out of   5 | elapsed:    0.7s finished\n"
     ]
    },
    {
     "name": "stdout",
     "output_type": "stream",
     "text": [
      "best score: 0.31650363381927077\n",
      "Fitting 5 folds for each of 1 candidates, totalling 5 fits\n"
     ]
    },
    {
     "name": "stderr",
     "output_type": "stream",
     "text": [
      "[Parallel(n_jobs=6)]: Using backend LokyBackend with 6 concurrent workers.\n",
      "[Parallel(n_jobs=6)]: Done   2 out of   5 | elapsed:   11.3s remaining:   17.0s\n",
      "[Parallel(n_jobs=6)]: Done   5 out of   5 | elapsed:   11.4s finished\n"
     ]
    },
    {
     "name": "stdout",
     "output_type": "stream",
     "text": [
      "best score: 0.31650363381927077\n",
      "Fitting 5 folds for each of 1 candidates, totalling 5 fits\n"
     ]
    },
    {
     "name": "stderr",
     "output_type": "stream",
     "text": [
      "[Parallel(n_jobs=6)]: Using backend LokyBackend with 6 concurrent workers.\n",
      "[Parallel(n_jobs=6)]: Done   2 out of   5 | elapsed:   12.2s remaining:   18.3s\n",
      "[Parallel(n_jobs=6)]: Done   5 out of   5 | elapsed:   12.4s finished\n"
     ]
    },
    {
     "name": "stdout",
     "output_type": "stream",
     "text": [
      "best score: 0.31650363381927077\n",
      "Fitting 5 folds for each of 1 candidates, totalling 5 fits\n"
     ]
    },
    {
     "name": "stderr",
     "output_type": "stream",
     "text": [
      "[Parallel(n_jobs=6)]: Using backend LokyBackend with 6 concurrent workers.\n",
      "[Parallel(n_jobs=6)]: Done   2 out of   5 | elapsed:   15.7s remaining:   23.6s\n",
      "[Parallel(n_jobs=6)]: Done   5 out of   5 | elapsed:   15.8s finished\n"
     ]
    },
    {
     "name": "stdout",
     "output_type": "stream",
     "text": [
      "best score: 0.31650363381927077\n",
      "Fitting 5 folds for each of 1 candidates, totalling 5 fits\n"
     ]
    },
    {
     "name": "stderr",
     "output_type": "stream",
     "text": [
      "[Parallel(n_jobs=6)]: Using backend LokyBackend with 6 concurrent workers.\n",
      "[Parallel(n_jobs=6)]: Done   2 out of   5 | elapsed:   16.7s remaining:   25.1s\n",
      "[Parallel(n_jobs=6)]: Done   5 out of   5 | elapsed:   16.9s finished\n"
     ]
    },
    {
     "name": "stdout",
     "output_type": "stream",
     "text": [
      "best score: 0.31650363381927077\n",
      "Fitting 5 folds for each of 1 candidates, totalling 5 fits\n"
     ]
    },
    {
     "name": "stderr",
     "output_type": "stream",
     "text": [
      "[Parallel(n_jobs=6)]: Using backend LokyBackend with 6 concurrent workers.\n",
      "[Parallel(n_jobs=6)]: Done   2 out of   5 | elapsed:   19.3s remaining:   29.0s\n",
      "[Parallel(n_jobs=6)]: Done   5 out of   5 | elapsed:   19.7s finished\n"
     ]
    },
    {
     "name": "stdout",
     "output_type": "stream",
     "text": [
      "best score: 0.31650363381927077\n",
      "Fitting 5 folds for each of 1 candidates, totalling 5 fits\n"
     ]
    },
    {
     "name": "stderr",
     "output_type": "stream",
     "text": [
      "[Parallel(n_jobs=6)]: Using backend LokyBackend with 6 concurrent workers.\n",
      "[Parallel(n_jobs=6)]: Done   2 out of   5 | elapsed:   18.7s remaining:   28.1s\n",
      "[Parallel(n_jobs=6)]: Done   5 out of   5 | elapsed:   19.0s finished\n"
     ]
    },
    {
     "name": "stdout",
     "output_type": "stream",
     "text": [
      "best score: 0.31650363381927077\n",
      "Fitting 5 folds for each of 1 candidates, totalling 5 fits\n"
     ]
    },
    {
     "name": "stderr",
     "output_type": "stream",
     "text": [
      "[Parallel(n_jobs=6)]: Using backend LokyBackend with 6 concurrent workers.\n",
      "[Parallel(n_jobs=6)]: Done   2 out of   5 | elapsed:    0.9s remaining:    1.4s\n",
      "[Parallel(n_jobs=6)]: Done   5 out of   5 | elapsed:    1.0s finished\n"
     ]
    },
    {
     "name": "stdout",
     "output_type": "stream",
     "text": [
      "best score: 0.31650363381927077\n",
      "Fitting 5 folds for each of 1 candidates, totalling 5 fits\n"
     ]
    },
    {
     "name": "stderr",
     "output_type": "stream",
     "text": [
      "[Parallel(n_jobs=6)]: Using backend LokyBackend with 6 concurrent workers.\n",
      "[Parallel(n_jobs=6)]: Done   2 out of   5 | elapsed:    1.0s remaining:    1.5s\n",
      "[Parallel(n_jobs=6)]: Done   5 out of   5 | elapsed:    1.0s finished\n"
     ]
    },
    {
     "name": "stdout",
     "output_type": "stream",
     "text": [
      "best score: 0.31650363381927077\n",
      "best parameter set: OrderedDict([('criterion', 'gini'), ('max_depth', 9), ('max_features', 10), ('n_estimators', 1444)])\n",
      "val. score: 0.31650363381927077\n",
      "test accuracy: 0.6329866270430906\n",
      "test NPV: 0.9425\n",
      "test Precision: 0.1794871794871795\n",
      "test Recall: 0.6805555555555556\n",
      "test AUC: 0.6802782399704197\n",
      "test F1: 0.28405797101449276\n",
      "test AUPR: 0.21240750597521033\n"
     ]
    }
   ],
   "source": [
    "# RandomForest + Bayesian optimization\n",
    "opt_rf = BayesSearchCV(BalancedRandomForestClassifier(oob_score=True,\n",
    "                                     random_state=123),\n",
    "                       {\n",
    "                        'n_estimators': (100,2000),\n",
    "                        'max_depth': (5, 100),  \n",
    "                        'criterion': ['gini','entropy'],\n",
    "                        'max_features': (1, 27),\n",
    "                       }, \n",
    "                        n_iter = 20, verbose = 5, \n",
    "                       scoring=make_scorer(f1_score),\n",
    "                       n_jobs=6)\n",
    "\n",
    "# callback handler\n",
    "def on_step(optim_result):\n",
    "    score = opt_rf.best_score_\n",
    "    print(\"best score: %s\" % score)\n",
    "#     with open(\"./rf_checkpoint.pkl\", 'wb') as pickle_file:\n",
    "#         pkl.dump(opt_rf, pickle_file)\n",
    "    if score >= 0.8:\n",
    "        print('Interrupting...')\n",
    "        return True\n",
    "    \n",
    "opt_rf.fit(X_train_sel, y_train_sel.ravel(), callback=[on_step])\n",
    "\n",
    "print(\"best parameter set: %s\" % opt_rf.best_params_)\n",
    "print(\"val. score: %s\" % opt_rf.best_score_)\n",
    "# print(\"test score: %s\" % opt_rf.score(X_test, y_test))\n",
    "y_prob_sel = np.asarray(opt_rf.predict_proba(X_test_sel))\n",
    "y_pred_sel = np.asarray(opt_rf.predict(X_test_sel))\n",
    "y_test_sel = np.asarray(y_test_sel)\n",
    "print(\"test accuracy: %s\" % accuracy_score(y_test_sel, y_pred_sel))\n",
    "print(\"test NPV: %s\" % negative_pred_value(y_test_sel, y_pred_sel))\n",
    "print(\"test Precision: %s\" % precision_score(y_test_sel, y_pred_sel))\n",
    "print(\"test Recall: %s\" % recall_score(y_test_sel, y_pred_sel))\n",
    "print(\"test AUC: %s\" % roc_auc_score(y_test_sel, y_prob_sel[:,1]))\n",
    "print(\"test F1: %s\" % f1_score(y_test_sel, y_pred_sel))\n",
    "print(\"test AUPR: %s\" % average_precision_score(y_test_sel, y_prob_sel[:,1]))"
   ]
  },
  {
   "cell_type": "code",
   "execution_count": 141,
   "metadata": {},
   "outputs": [],
   "source": [
    "def adjusted_classes(y_scores, t):\n",
    "    \"\"\"\n",
    "    This function adjusts class predictions based on the prediction threshold (t).\n",
    "    Will only work for binary classification problems.\n",
    "    Credit to: https://towardsdatascience.com/fine-tuning-a-classifier-in-scikit-learn-66e048c21e65#:~:text=The%20default%20threshold%20for%20RandomForestClassifier,the%20class%20probabilites%20called%20y_scores%20.\n",
    "    \"\"\"\n",
    "    return np.asarray([1 if y >= t else 0 for y in y_scores])\n",
    "\n",
    "def precision_recall_threshold(p, r, thresholds, t=0.5):\n",
    "    \"\"\"\n",
    "    plots the precision recall curve and shows the current value for each\n",
    "    by identifying the classifier's threshold (t).\n",
    "    \"\"\"\n",
    "    \n",
    "    # generate new class predictions based on the adjusted_classes\n",
    "    # function above and view the resulting confusion matrix.\n",
    "    y_pred_adj = adjusted_classes(y_scores, t)\n",
    "    print(pd.DataFrame(confusion_matrix(y_test, y_pred_adj),\n",
    "                       columns=['pred_neg', 'pred_pos'], \n",
    "                       index=['neg', 'pos']))\n",
    "    \n",
    "    # plot the curve\n",
    "    plt.figure(figsize=(8,8))\n",
    "    plt.title(\"Precision and Recall curve ^ = current threshold\")\n",
    "    plt.step(r, p, color='b', alpha=0.2,\n",
    "             where='post')\n",
    "    plt.fill_between(r, p, step='post', alpha=0.2,\n",
    "                     color='b')\n",
    "    plt.ylim([0.5, 1.01]);\n",
    "    plt.xlim([0.5, 1.01]);\n",
    "    plt.xlabel('Recall');\n",
    "    plt.ylabel('Precision');\n",
    "    \n",
    "    # plot the current threshold on the line\n",
    "    close_default_clf = np.argmin(np.abs(thresholds - t))\n",
    "    plt.plot(r[close_default_clf], p[close_default_clf], '^', c='k',\n",
    "            markersize=15)"
   ]
  },
  {
   "cell_type": "code",
   "execution_count": 155,
   "metadata": {},
   "outputs": [],
   "source": [
    "# decision threshold\n",
    "# t = len(mcc_ncdb_sel[mcc_ncdb_sel['SLNB'] == 0])/(len(mcc_ncdb_sel[mcc_ncdb_sel['SLNB'] == 0]) + \\\n",
    "#                                                   len(mcc_ncdb_sel[mcc_ncdb_sel['SLNB'] == 1]))\n",
    "t = 0.56"
   ]
  },
  {
   "cell_type": "code",
   "execution_count": 156,
   "metadata": {},
   "outputs": [
    {
     "name": "stdout",
     "output_type": "stream",
     "text": [
      "test accuracy: 0.7310549777117384\n",
      "test NPV: 0.930327868852459\n",
      "test Precision: 0.20540540540540542\n",
      "test Recall: 0.5277777777777778\n",
      "test AUC: 0.6802782399704197\n",
      "test F1: 0.29571984435797666\n",
      "test AUPR: 0.21240750597521033\n"
     ]
    }
   ],
   "source": [
    "# train a random forest classifier\n",
    "rf = BalancedRandomForestClassifier(\n",
    "                            n_estimators=1444,\n",
    "                            max_depth=9,\n",
    "                            max_features = 10,\n",
    "                            criterion = 'gini',\n",
    "                            oob_score=True, \n",
    "                            random_state=123) # set seed to ensure reproducibility\n",
    "rf.fit(X_train_sel,y_train_sel.ravel())\n",
    "\n",
    "y_prob_sel = np.asarray(rf.predict_proba(X_test_sel))\n",
    "y_pred_sel = adjusted_classes(y_prob_sel[:,1], t)\n",
    "y_test_sel = np.asarray(y_test_sel)\n",
    "print(\"test accuracy: %s\" % accuracy_score(y_test_sel, y_pred_sel))\n",
    "print(\"test NPV: %s\" % negative_pred_value(y_test_sel, y_pred_sel))\n",
    "print(\"test Precision: %s\" % precision_score(y_test_sel, y_pred_sel))\n",
    "print(\"test Recall: %s\" % recall_score(y_test_sel, y_pred_sel))\n",
    "print(\"test AUC: %s\" % roc_auc_score(y_test_sel, y_prob_sel[:,1]))\n",
    "print(\"test F1: %s\" % f1_score(y_test_sel, y_pred_sel))\n",
    "print(\"test AUPR: %s\" % average_precision_score(y_test_sel, y_prob_sel[:,1]))"
   ]
  },
  {
   "cell_type": "code",
   "execution_count": 154,
   "metadata": {},
   "outputs": [
    {
     "name": "stdout",
     "output_type": "stream",
     "text": [
      "     pred_neg  pred_pos\n",
      "neg       454       147\n",
      "pos        34        38\n"
     ]
    },
    {
     "data": {
      "image/png": "[encoded data removed]",
      "text/plain": [
       "<Figure size 576x576 with 1 Axes>"
      ]
     },
     "metadata": {},
     "output_type": "display_data"
    }
   ],
   "source": [
    "y_scores = y_prob_sel[:,1]\n",
    "p, r, thresholds = precision_recall_curve(y_test_sel, y_scores)\n",
    "precision_recall_threshold(p, r, thresholds, 0.56)"
   ]
  },
  {
   "cell_type": "code",
   "execution_count": 131,
   "metadata": {},
   "outputs": [
    {
     "data": {
      "image/png": "[encoded data removed]",
      "text/plain": [
       "<Figure size 720x504 with 2 Axes>"
      ]
     },
     "metadata": {},
     "output_type": "display_data"
    }
   ],
   "source": [
    "cm = confusion_matrix(y_test_sel, y_pred_sel)\n",
    "df_cm = pd.DataFrame(cm, index = [i for i in [\"SLNB Negative\",\"SLNB Positive\"]],\n",
    "                  columns = [i for i in [\"SLNB Negative\",\"SLNB Positive\"]])\n",
    "plt.figure(figsize = (10,7))\n",
    "ax = sns.heatmap(df_cm, annot=True, cmap='Blues',square=True, fmt='d').set_title('Confusion matrix: Random Forest')\n",
    "plt.xlabel(\"Predicted\")\n",
    "plt.ylabel(\"True\")\n",
    "plt.show()"
   ]
  },
  {
   "cell_type": "code",
   "execution_count": 110,
   "metadata": {},
   "outputs": [],
   "source": [
    "# pickling model\n",
    "with open(BASE_DIR+'../model/balanced_rf_imputed_binned.pkl', 'wb') as f:\n",
    "    pkl.dump(rf, f)"
   ]
  },
  {
   "cell_type": "code",
   "execution_count": null,
   "metadata": {},
   "outputs": [],
   "source": []
  }
 ],
 "metadata": {
  "kernelspec": {
   "display_name": "Python 3",
   "language": "python",
   "name": "python3"
  },
  "language_info": {
   "codemirror_mode": {
    "name": "ipython",
    "version": 3
   },
   "file_extension": ".py",
   "mimetype": "text/x-python",
   "name": "python",
   "nbconvert_exporter": "python",
   "pygments_lexer": "ipython3",
   "version": "3.7.9"
  }
 },
 "nbformat": 4,
 "nbformat_minor": 4
}
