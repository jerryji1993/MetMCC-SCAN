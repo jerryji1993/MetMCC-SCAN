{
 "cells": [
  {
   "cell_type": "markdown",
   "metadata": {},
   "source": [
    "# Model fitting for MetMCC-SCAN\n",
    "## Yanrong (Jerry) Ji"
   ]
  },
  {
   "cell_type": "markdown",
   "metadata": {},
   "source": [
    "## TODO:\n",
    "- build a pipeline for preprocessing\n",
    ">- further group some levels and compare\n",
    ">- missing val: imputation/leave as it is\n",
    ">- more feature engineering?\n",
    "- bayesian optimization (done)\n",
    "- merge SEER data\n",
    "- bagged XGBoost\n",
    "\n",
    "## Major issues:\n",
    "- Categorical + Numeric\n",
    "- Missing values\n",
    "- Imbalance"
   ]
  },
  {
   "cell_type": "code",
   "execution_count": 1,
   "metadata": {},
   "outputs": [],
   "source": [
    "# !pip install xgboost\n",
    "# !pip install lightgbm\n",
    "# !pip install catboost\n",
    "# !pip install scikit-optimize\n",
    "# !pip install imblearn"
   ]
  },
  {
   "cell_type": "code",
   "execution_count": 1,
   "metadata": {},
   "outputs": [],
   "source": [
    "# general modules\n",
    "import os\n",
    "from copy import deepcopy\n",
    "import pickle as pkl\n",
    "import pandas as pd\n",
    "import numpy as np\n",
    "from scipy import stats\n",
    "import matplotlib.pyplot as plt\n",
    "import seaborn as sns\n",
    "\n",
    "# sklearn modules\n",
    "from sklearn.model_selection import train_test_split, RepeatedStratifiedKFold\n",
    "from sklearn.model_selection import RandomizedSearchCV, GridSearchCV\n",
    "from sklearn.linear_model import LogisticRegression\n",
    "from sklearn.ensemble import RandomForestClassifier\n",
    "from sklearn.inspection import plot_partial_dependence\n",
    "from sklearn.metrics import accuracy_score,confusion_matrix, auc, roc_auc_score\n",
    "from sklearn.metrics import roc_curve, f1_score, average_precision_score, precision_recall_curve\n",
    "from sklearn.metrics import precision_score, recall_score, make_scorer\n",
    "from sklearn.impute import KNNImputer\n",
    "\n",
    "# xgboost,lightgbm,catboost\n",
    "from xgboost import XGBClassifier\n",
    "from lightgbm import LGBMClassifier\n",
    "from catboost import CatBoostClassifier\n",
    "\n",
    "# Bayesian optimization\n",
    "from skopt import BayesSearchCV\n",
    "from skopt import callbacks\n",
    "from skopt.space import Real, Integer\n",
    "\n",
    "# Class imbalance\n",
    "from imblearn.over_sampling import SMOTENC\n",
    "from imblearn.ensemble import BalancedRandomForestClassifier\n",
    "\n",
    "# set seaborn style\n",
    "sns.set(style='white')\n",
    "sns.set(style='whitegrid', color_codes=True)\n",
    "sns.set(font_scale=1.5)"
   ]
  },
  {
   "cell_type": "code",
   "execution_count": 2,
   "metadata": {},
   "outputs": [],
   "source": [
    "BASE_DIR = os.path.dirname(os.path.realpath('model_fitting')) + '/'"
   ]
  },
  {
   "cell_type": "code",
   "execution_count": 3,
   "metadata": {},
   "outputs": [],
   "source": [
    "# read in data\n",
    "mcc_ncdb = pd.read_pickle(BASE_DIR + '../data/Merkel_NCDB_augmented_clean.pkl')"
   ]
  },
  {
   "cell_type": "code",
   "execution_count": 5,
   "metadata": {},
   "outputs": [
    {
     "data": {
      "text/html": [
       "<div>\n",
       "<style scoped>\n",
       "    .dataframe tbody tr th:only-of-type {\n",
       "        vertical-align: middle;\n",
       "    }\n",
       "\n",
       "    .dataframe tbody tr th {\n",
       "        vertical-align: top;\n",
       "    }\n",
       "\n",
       "    .dataframe thead th {\n",
       "        text-align: right;\n",
       "    }\n",
       "</style>\n",
       "<table border=\"1\" class=\"dataframe\">\n",
       "  <thead>\n",
       "    <tr style=\"text-align: right;\">\n",
       "      <th></th>\n",
       "      <th>DEPTH</th>\n",
       "      <th>TUMOR_SIZE</th>\n",
       "      <th>PRIMARY_SITE</th>\n",
       "      <th>AGE</th>\n",
       "      <th>SEX</th>\n",
       "      <th>GROWTH_PATTERN</th>\n",
       "      <th>HISTOLOGY</th>\n",
       "      <th>LATERALITY</th>\n",
       "      <th>LYMPH_VASCULAR_INVASION</th>\n",
       "      <th>TUMOR_INFILTRATING_LYMPHOCYTES</th>\n",
       "      <th>IMMUNE_SUPPRESSION</th>\n",
       "      <th>TUMOR_BASE_TRANSECTION</th>\n",
       "      <th>SLNB</th>\n",
       "      <th>YEAR_SINCE_DIAGNOSIS</th>\n",
       "    </tr>\n",
       "  </thead>\n",
       "  <tbody>\n",
       "    <tr>\n",
       "      <th>8</th>\n",
       "      <td>999.0</td>\n",
       "      <td>10</td>\n",
       "      <td>C444</td>\n",
       "      <td>71</td>\n",
       "      <td>1</td>\n",
       "      <td>999</td>\n",
       "      <td>8247</td>\n",
       "      <td>0</td>\n",
       "      <td>0</td>\n",
       "      <td>999</td>\n",
       "      <td>999</td>\n",
       "      <td>999</td>\n",
       "      <td>0.0</td>\n",
       "      <td>5</td>\n",
       "    </tr>\n",
       "    <tr>\n",
       "      <th>12</th>\n",
       "      <td>999.0</td>\n",
       "      <td>999</td>\n",
       "      <td>C447</td>\n",
       "      <td>87</td>\n",
       "      <td>1</td>\n",
       "      <td>999</td>\n",
       "      <td>8247</td>\n",
       "      <td>1</td>\n",
       "      <td>9</td>\n",
       "      <td>999</td>\n",
       "      <td>999</td>\n",
       "      <td>999</td>\n",
       "      <td>1.0</td>\n",
       "      <td>8</td>\n",
       "    </tr>\n",
       "    <tr>\n",
       "      <th>14</th>\n",
       "      <td>10.0</td>\n",
       "      <td>2</td>\n",
       "      <td>C443</td>\n",
       "      <td>43</td>\n",
       "      <td>1</td>\n",
       "      <td>999</td>\n",
       "      <td>8247</td>\n",
       "      <td>2</td>\n",
       "      <td>9</td>\n",
       "      <td>0</td>\n",
       "      <td>0</td>\n",
       "      <td>20</td>\n",
       "      <td>0.0</td>\n",
       "      <td>2</td>\n",
       "    </tr>\n",
       "    <tr>\n",
       "      <th>19</th>\n",
       "      <td>50.0</td>\n",
       "      <td>25</td>\n",
       "      <td>C447</td>\n",
       "      <td>59</td>\n",
       "      <td>2</td>\n",
       "      <td>999</td>\n",
       "      <td>8247</td>\n",
       "      <td>1</td>\n",
       "      <td>0</td>\n",
       "      <td>999</td>\n",
       "      <td>999</td>\n",
       "      <td>999</td>\n",
       "      <td>0.0</td>\n",
       "      <td>2</td>\n",
       "    </tr>\n",
       "    <tr>\n",
       "      <th>21</th>\n",
       "      <td>999.0</td>\n",
       "      <td>30</td>\n",
       "      <td>C446</td>\n",
       "      <td>75</td>\n",
       "      <td>2</td>\n",
       "      <td>999</td>\n",
       "      <td>8247</td>\n",
       "      <td>1</td>\n",
       "      <td>9</td>\n",
       "      <td>999</td>\n",
       "      <td>999</td>\n",
       "      <td>999</td>\n",
       "      <td>1.0</td>\n",
       "      <td>8</td>\n",
       "    </tr>\n",
       "  </tbody>\n",
       "</table>\n",
       "</div>"
      ],
      "text/plain": [
       "    DEPTH  TUMOR_SIZE PRIMARY_SITE  AGE  SEX GROWTH_PATTERN HISTOLOGY  \\\n",
       "8   999.0          10         C444   71    1            999      8247   \n",
       "12  999.0         999         C447   87    1            999      8247   \n",
       "14   10.0           2         C443   43    1            999      8247   \n",
       "19   50.0          25         C447   59    2            999      8247   \n",
       "21  999.0          30         C446   75    2            999      8247   \n",
       "\n",
       "   LATERALITY LYMPH_VASCULAR_INVASION TUMOR_INFILTRATING_LYMPHOCYTES  \\\n",
       "8           0                       0                            999   \n",
       "12          1                       9                            999   \n",
       "14          2                       9                              0   \n",
       "19          1                       0                            999   \n",
       "21          1                       9                            999   \n",
       "\n",
       "   IMMUNE_SUPPRESSION TUMOR_BASE_TRANSECTION  SLNB  YEAR_SINCE_DIAGNOSIS  \n",
       "8                 999                    999   0.0                     5  \n",
       "12                999                    999   1.0                     8  \n",
       "14                  0                     20   0.0                     2  \n",
       "19                999                    999   0.0                     2  \n",
       "21                999                    999   1.0                     8  "
      ]
     },
     "execution_count": 5,
     "metadata": {},
     "output_type": "execute_result"
    }
   ],
   "source": [
    "mcc_ncdb.head()"
   ]
  },
  {
   "cell_type": "markdown",
   "metadata": {},
   "source": [
    "## Split data"
   ]
  },
  {
   "cell_type": "code",
   "execution_count": 6,
   "metadata": {},
   "outputs": [],
   "source": [
    "# subset of features only\n",
    "mcc_ncdb_sel = mcc_ncdb[['AGE','SEX','PRIMARY_SITE','LYMPH_VASCULAR_INVASION',\n",
    "                        'TUMOR_SIZE', 'DEPTH', 'TUMOR_INFILTRATING_LYMPHOCYTES',\n",
    "                        'IMMUNE_SUPPRESSION', 'SLNB'\n",
    "                       ]]\n",
    "mcc_ncdb_sel = pd.get_dummies(mcc_ncdb_sel)\n",
    "X_sel = np.array(mcc_ncdb_sel.loc[:, mcc_ncdb_sel.columns != 'SLNB'])\n",
    "y_sel = np.array(mcc_ncdb_sel.loc[:, mcc_ncdb_sel.columns == 'SLNB'])\n",
    "X_train_sel, X_test_sel, y_train_sel, y_test_sel = train_test_split(X_sel, y_sel, \n",
    "                                                                test_size = 0.1, \n",
    "                                                                random_state = 123) # set seed to ensure reproducibility"
   ]
  },
  {
   "cell_type": "code",
   "execution_count": 7,
   "metadata": {},
   "outputs": [],
   "source": [
    "# all features\n",
    "mcc_ncdb = pd.get_dummies(mcc_ncdb)\n",
    "X = np.array(mcc_ncdb.loc[:, mcc_ncdb.columns != 'SLNB'])\n",
    "y = np.array(mcc_ncdb.loc[:, mcc_ncdb.columns == 'SLNB'])\n",
    "X_train, X_test, y_train, y_test = train_test_split(X, y, \n",
    "                                                    test_size = 0.1, \n",
    "                                                    random_state = 123) # set seed to ensure reproducibility"
   ]
  },
  {
   "cell_type": "code",
   "execution_count": 8,
   "metadata": {},
   "outputs": [
    {
     "data": {
      "text/plain": [
       "(8901, 48)"
      ]
     },
     "execution_count": 8,
     "metadata": {},
     "output_type": "execute_result"
    }
   ],
   "source": [
    "X_train.shape"
   ]
  },
  {
   "cell_type": "code",
   "execution_count": 9,
   "metadata": {},
   "outputs": [
    {
     "data": {
      "text/plain": [
       "(8901, 32)"
      ]
     },
     "execution_count": 9,
     "metadata": {},
     "output_type": "execute_result"
    }
   ],
   "source": [
    "X_train_sel.shape"
   ]
  },
  {
   "cell_type": "code",
   "execution_count": 10,
   "metadata": {},
   "outputs": [
    {
     "data": {
      "text/plain": [
       "Index(['DEPTH', 'TUMOR_SIZE', 'AGE', 'SEX', 'SLNB', 'YEAR_SINCE_DIAGNOSIS',\n",
       "       'PRIMARY_SITE_C440', 'PRIMARY_SITE_C441', 'PRIMARY_SITE_C442',\n",
       "       'PRIMARY_SITE_C443', 'PRIMARY_SITE_C444', 'PRIMARY_SITE_C445',\n",
       "       'PRIMARY_SITE_C446', 'PRIMARY_SITE_C447', 'PRIMARY_SITE_C448',\n",
       "       'PRIMARY_SITE_C449', 'GROWTH_PATTERN_10.0', 'GROWTH_PATTERN_20.0',\n",
       "       'GROWTH_PATTERN_999.0', 'HISTOLOGY_8247', 'LATERALITY_0',\n",
       "       'LATERALITY_1', 'LATERALITY_2', 'LATERALITY_3', 'LATERALITY_4',\n",
       "       'LATERALITY_5', 'LATERALITY_9', 'LYMPH_VASCULAR_INVASION_0.0',\n",
       "       'LYMPH_VASCULAR_INVASION_1.0', 'LYMPH_VASCULAR_INVASION_8.0',\n",
       "       'LYMPH_VASCULAR_INVASION_9.0', 'TUMOR_INFILTRATING_LYMPHOCYTES_0.0',\n",
       "       'TUMOR_INFILTRATING_LYMPHOCYTES_10.0',\n",
       "       'TUMOR_INFILTRATING_LYMPHOCYTES_20.0',\n",
       "       'TUMOR_INFILTRATING_LYMPHOCYTES_30.0',\n",
       "       'TUMOR_INFILTRATING_LYMPHOCYTES_999.0', 'IMMUNE_SUPPRESSION_0.0',\n",
       "       'IMMUNE_SUPPRESSION_10.0', 'IMMUNE_SUPPRESSION_20.0',\n",
       "       'IMMUNE_SUPPRESSION_30.0', 'IMMUNE_SUPPRESSION_40.0',\n",
       "       'IMMUNE_SUPPRESSION_50.0', 'IMMUNE_SUPPRESSION_60.0',\n",
       "       'IMMUNE_SUPPRESSION_70.0', 'IMMUNE_SUPPRESSION_999.0',\n",
       "       'TUMOR_BASE_TRANSECTION_0.0', 'TUMOR_BASE_TRANSECTION_10.0',\n",
       "       'TUMOR_BASE_TRANSECTION_20.0', 'TUMOR_BASE_TRANSECTION_999.0'],\n",
       "      dtype='object')"
      ]
     },
     "execution_count": 10,
     "metadata": {},
     "output_type": "execute_result"
    }
   ],
   "source": [
    "mcc_ncdb.columns"
   ]
  },
  {
   "cell_type": "code",
   "execution_count": 11,
   "metadata": {},
   "outputs": [
    {
     "data": {
      "text/plain": [
       "Index(['AGE', 'SEX', 'TUMOR_SIZE', 'DEPTH', 'SLNB', 'PRIMARY_SITE_C440',\n",
       "       'PRIMARY_SITE_C441', 'PRIMARY_SITE_C442', 'PRIMARY_SITE_C443',\n",
       "       'PRIMARY_SITE_C444', 'PRIMARY_SITE_C445', 'PRIMARY_SITE_C446',\n",
       "       'PRIMARY_SITE_C447', 'PRIMARY_SITE_C448', 'PRIMARY_SITE_C449',\n",
       "       'LYMPH_VASCULAR_INVASION_0.0', 'LYMPH_VASCULAR_INVASION_1.0',\n",
       "       'LYMPH_VASCULAR_INVASION_8.0', 'LYMPH_VASCULAR_INVASION_9.0',\n",
       "       'TUMOR_INFILTRATING_LYMPHOCYTES_0.0',\n",
       "       'TUMOR_INFILTRATING_LYMPHOCYTES_10.0',\n",
       "       'TUMOR_INFILTRATING_LYMPHOCYTES_20.0',\n",
       "       'TUMOR_INFILTRATING_LYMPHOCYTES_30.0',\n",
       "       'TUMOR_INFILTRATING_LYMPHOCYTES_999.0', 'IMMUNE_SUPPRESSION_0.0',\n",
       "       'IMMUNE_SUPPRESSION_10.0', 'IMMUNE_SUPPRESSION_20.0',\n",
       "       'IMMUNE_SUPPRESSION_30.0', 'IMMUNE_SUPPRESSION_40.0',\n",
       "       'IMMUNE_SUPPRESSION_50.0', 'IMMUNE_SUPPRESSION_60.0',\n",
       "       'IMMUNE_SUPPRESSION_70.0', 'IMMUNE_SUPPRESSION_999.0'],\n",
       "      dtype='object')"
      ]
     },
     "execution_count": 11,
     "metadata": {},
     "output_type": "execute_result"
    }
   ],
   "source": [
    "mcc_ncdb_sel.columns"
   ]
  },
  {
   "cell_type": "markdown",
   "metadata": {},
   "source": [
    "## Balance dataset by SMOTE"
   ]
  },
  {
   "cell_type": "code",
   "execution_count": 14,
   "metadata": {},
   "outputs": [],
   "source": [
    "# cat_features_idx = list(range(4,74,1))\n",
    "cat_features_idx = list(range(5,47,1))\n",
    "cat_features_idx.append(3)\n",
    "sm = SMOTENC(random_state=123, categorical_features = cat_features_idx) # set seed to ensure reproducibility\n",
    "X_train_balanced, y_train_balanced = sm.fit_sample(X_train, y_train.ravel())\n",
    "\n",
    "# cat_features_idx_sel = list(range(5,31,1))\n",
    "cat_features_idx_sel = list(range(4,31,1))\n",
    "cat_features_idx_sel.append(1)\n",
    "sm_sel = SMOTENC(random_state=123, categorical_features = cat_features_idx_sel) \n",
    "X_train_sel_balanced, y_train_sel_balanced = sm_sel.fit_sample(X_train_sel, y_train_sel.ravel())"
   ]
  },
  {
   "cell_type": "code",
   "execution_count": 15,
   "metadata": {},
   "outputs": [
    {
     "data": {
      "text/plain": [
       "(12906, 48)"
      ]
     },
     "execution_count": 15,
     "metadata": {},
     "output_type": "execute_result"
    }
   ],
   "source": [
    "X_train_balanced.shape"
   ]
  },
  {
   "cell_type": "code",
   "execution_count": 16,
   "metadata": {},
   "outputs": [
    {
     "data": {
      "text/plain": [
       "(12906, 32)"
      ]
     },
     "execution_count": 16,
     "metadata": {},
     "output_type": "execute_result"
    }
   ],
   "source": [
    "X_train_sel_balanced.shape"
   ]
  },
  {
   "cell_type": "code",
   "execution_count": 17,
   "metadata": {},
   "outputs": [],
   "source": [
    "def negative_pred_value(y_true, y_pred):\n",
    "    cm = confusion_matrix(y_true, y_pred)\n",
    "    TN = cm[0][0]\n",
    "    FN = cm[1][0]\n",
    "    return TN/(TN+FN)"
   ]
  },
  {
   "cell_type": "markdown",
   "metadata": {},
   "source": [
    "## Baseline: logistic regression (selected vars, not binned)"
   ]
  },
  {
   "cell_type": "code",
   "execution_count": 18,
   "metadata": {},
   "outputs": [
    {
     "name": "stdout",
     "output_type": "stream",
     "text": [
      "[[424 293]\n",
      " [ 81 191]]\n",
      "test accuracy: 0.621840242669363\n",
      "test NPV: 0.8396039603960396\n",
      "test Precision: 0.39462809917355374\n",
      "test Recall: 0.7022058823529411\n",
      "test AUC: 0.691955861842645\n",
      "test F1: 0.5052910052910053\n",
      "test AUPR: 0.4970586192176576\n"
     ]
    }
   ],
   "source": [
    "log_clf_sel = LogisticRegression(penalty='none', max_iter=10000)\n",
    "log_clf_sel.fit(X_train_sel_balanced,y_train_sel_balanced.ravel())\n",
    "y_prob_sel = np.asarray(log_clf_sel.predict_proba(X_test_sel))\n",
    "y_pred_sel = np.asarray(log_clf_sel.predict(X_test_sel))\n",
    "y_test_sel = np.asarray(y_test_sel)\n",
    "print(confusion_matrix(y_test_sel, y_pred_sel))\n",
    "print(\"test accuracy: %s\" % log_clf_sel.score(X_test_sel, y_test_sel))\n",
    "print(\"test NPV: %s\" % negative_pred_value(y_test_sel, y_pred_sel))\n",
    "print(\"test Precision: %s\" % precision_score(y_test_sel, y_pred_sel))\n",
    "print(\"test Recall: %s\" % recall_score(y_test_sel, y_pred_sel))\n",
    "print(\"test AUC: %s\" % roc_auc_score(y_test_sel, y_prob_sel[:,1]))\n",
    "print(\"test F1: %s\" % f1_score(y_test_sel, y_pred_sel))\n",
    "print(\"test AUPR: %s\" % average_precision_score(y_test_sel, y_prob_sel[:,1]))"
   ]
  },
  {
   "cell_type": "markdown",
   "metadata": {},
   "source": [
    "## logistic regression (all vars, not binned)"
   ]
  },
  {
   "cell_type": "code",
   "execution_count": 19,
   "metadata": {},
   "outputs": [
    {
     "name": "stdout",
     "output_type": "stream",
     "text": [
      "[[510 207]\n",
      " [110 162]]\n",
      "test accuracy: 0.679474216380182\n",
      "test NPV: 0.8225806451612904\n",
      "test Precision: 0.43902439024390244\n",
      "test Recall: 0.5955882352941176\n",
      "test AUC: 0.699139593075724\n",
      "test F1: 0.5054602184087363\n",
      "test AUPR: 0.5056718542189866\n"
     ]
    }
   ],
   "source": [
    "log_clf = LogisticRegression(penalty='none', max_iter=10000)\n",
    "log_clf.fit(X_train_balanced,y_train_balanced.ravel())\n",
    "y_prob = np.asarray(log_clf.predict_proba(X_test))\n",
    "y_pred = np.asarray(log_clf.predict(X_test))\n",
    "y_test = np.asarray(y_test)\n",
    "print(confusion_matrix(y_test, y_pred))\n",
    "print(\"test accuracy: %s\" % log_clf.score(X_test, y_test))\n",
    "print(\"test NPV: %s\" % negative_pred_value(y_test, y_pred))\n",
    "print(\"test Precision: %s\" % precision_score(y_test, y_pred))\n",
    "print(\"test Recall: %s\" % recall_score(y_test, y_pred))\n",
    "print(\"test AUC: %s\" % roc_auc_score(y_test, y_prob[:,1]))\n",
    "print(\"test F1: %s\" % f1_score(y_test, y_pred))\n",
    "print(\"test AUPR: %s\" % average_precision_score(y_test, y_prob[:,1]))"
   ]
  },
  {
   "cell_type": "markdown",
   "metadata": {},
   "source": [
    "## Random forest (selected vars, not binned)"
   ]
  },
  {
   "cell_type": "code",
   "execution_count": 20,
   "metadata": {},
   "outputs": [
    {
     "name": "stdout",
     "output_type": "stream",
     "text": [
      "test accuracy: 0.6845298281092013\n",
      "test NPV: 0.7872340425531915\n",
      "test Precision: 0.4295774647887324\n",
      "test Recall: 0.4485294117647059\n",
      "test AUC: 0.6583087209779309\n",
      "test F1: 0.43884892086330934\n",
      "test AUPR: 0.4419208475127108\n"
     ]
    }
   ],
   "source": [
    "# train a random forest classifier\n",
    "rf_sel = RandomForestClassifier(oob_score=True, \n",
    "                                 random_state=123) # set seed to ensure reproducibility\n",
    "rf_sel.fit(X_train_sel_balanced,y_train_sel_balanced.ravel())\n",
    "y_prob_sel = np.asarray(rf_sel.predict_proba(X_test_sel))\n",
    "y_pred_sel = np.asarray(rf_sel.predict(X_test_sel))\n",
    "y_test_sel = np.asarray(y_test_sel)\n",
    "print(\"test accuracy: %s\" % rf_sel.score(X_test_sel, y_test_sel))\n",
    "print(\"test NPV: %s\" % negative_pred_value(y_test_sel, y_pred_sel))\n",
    "print(\"test Precision: %s\" % precision_score(y_test_sel, y_pred_sel))\n",
    "print(\"test Recall: %s\" % recall_score(y_test_sel, y_pred_sel))\n",
    "print(\"test AUC: %s\" % roc_auc_score(y_test_sel, y_prob_sel[:,1]))\n",
    "print(\"test F1: %s\" % f1_score(y_test_sel, y_pred_sel))\n",
    "print(\"test AUPR: %s\" % average_precision_score(y_test_sel, y_prob_sel[:,1]))"
   ]
  },
  {
   "cell_type": "markdown",
   "metadata": {},
   "source": [
    "## Random forest (all vars, not binned)"
   ]
  },
  {
   "cell_type": "code",
   "execution_count": 21,
   "metadata": {},
   "outputs": [
    {
     "name": "stdout",
     "output_type": "stream",
     "text": [
      "test accuracy: 0.7350859453993933\n",
      "test NPV: 0.7958387516254877\n",
      "test Precision: 0.5227272727272727\n",
      "test Recall: 0.4227941176470588\n",
      "test AUC: 0.6835953523668882\n",
      "test F1: 0.46747967479674796\n",
      "test AUPR: 0.4915979608407029\n"
     ]
    }
   ],
   "source": [
    "# train a random forest classifier\n",
    "rf = RandomForestClassifier(oob_score=True, \n",
    "                                 random_state=123) # set seed to ensure reproducibility\n",
    "rf.fit(X_train_balanced,y_train_balanced.ravel())\n",
    "y_prob = np.asarray(rf.predict_proba(X_test))\n",
    "y_pred = np.asarray(rf.predict(X_test))\n",
    "y_test = np.asarray(y_test)\n",
    "print(\"test accuracy: %s\" % rf.score(X_test, y_test))\n",
    "print(\"test NPV: %s\" % negative_pred_value(y_test, y_pred))\n",
    "print(\"test Precision: %s\" % precision_score(y_test, y_pred))\n",
    "print(\"test Recall: %s\" % recall_score(y_test, y_pred))\n",
    "print(\"test AUC: %s\" % roc_auc_score(y_test, y_prob[:,1]))\n",
    "print(\"test F1: %s\" % f1_score(y_test, y_pred))\n",
    "print(\"test AUPR: %s\" % average_precision_score(y_test, y_prob[:,1]))"
   ]
  },
  {
   "cell_type": "markdown",
   "metadata": {},
   "source": [
    "## Random forest (cost-sensitive, all vars, not binned)"
   ]
  },
  {
   "cell_type": "code",
   "execution_count": 26,
   "metadata": {},
   "outputs": [
    {
     "name": "stdout",
     "output_type": "stream",
     "text": [
      "test accuracy: 0.7381193124368048\n",
      "test NPV: 0.7752403846153846\n",
      "test Precision: 0.5414012738853503\n",
      "test Recall: 0.3125\n",
      "test AUC: 0.6944632455492656\n",
      "test F1: 0.3962703962703963\n",
      "test AUPR: 0.5009000174810572\n"
     ]
    }
   ],
   "source": [
    "# train a random forest classifier\n",
    "rf = RandomForestClassifier(oob_score=True, \n",
    "#                             class_weight={0:1,1:1e3},\n",
    "                            class_weight='balanced',\n",
    "                            random_state=42) # set seed to ensure reproducibility\n",
    "rf.fit(X_train,y_train.ravel())\n",
    "y_prob = np.asarray(rf.predict_proba(X_test))\n",
    "y_pred = np.asarray(rf.predict(X_test))\n",
    "y_test = np.asarray(y_test)\n",
    "print(\"test accuracy: %s\" % rf.score(X_test, y_test))\n",
    "print(\"test NPV: %s\" % negative_pred_value(y_test, y_pred))\n",
    "print(\"test Precision: %s\" % precision_score(y_test, y_pred))\n",
    "print(\"test Recall: %s\" % recall_score(y_test, y_pred))\n",
    "print(\"test AUC: %s\" % roc_auc_score(y_test, y_prob[:,1]))\n",
    "print(\"test F1: %s\" % f1_score(y_test, y_pred))\n",
    "print(\"test AUPR: %s\" % average_precision_score(y_test, y_prob[:,1]))"
   ]
  },
  {
   "cell_type": "markdown",
   "metadata": {},
   "source": [
    "## Balanced Random Forest"
   ]
  },
  {
   "cell_type": "code",
   "execution_count": 27,
   "metadata": {},
   "outputs": [
    {
     "name": "stdout",
     "output_type": "stream",
     "text": [
      "test accuracy: 0.6572295247724975\n",
      "test NPV: 0.8247422680412371\n",
      "test Precision: 0.4176904176904177\n",
      "test Recall: 0.625\n",
      "test AUC: 0.7064668963819838\n",
      "test F1: 0.5007363770250368\n",
      "test AUPR: 0.5200822136231125\n"
     ]
    }
   ],
   "source": [
    "# train a random forest classifier\n",
    "rf = BalancedRandomForestClassifier(\n",
    "                            n_estimators=1000,\n",
    "                            max_depth=50,\n",
    "                            max_features = 7,\n",
    "                            oob_score=True, \n",
    "                            random_state=123) # set seed to ensure reproducibility\n",
    "rf.fit(X_train,y_train.ravel())\n",
    "y_prob = np.asarray(rf.predict_proba(X_test))\n",
    "y_pred = np.asarray(rf.predict(X_test))\n",
    "y_test = np.asarray(y_test)\n",
    "print(\"test accuracy: %s\" % rf.score(X_test, y_test))\n",
    "print(\"test NPV: %s\" % negative_pred_value(y_test, y_pred))\n",
    "print(\"test Precision: %s\" % precision_score(y_test, y_pred))\n",
    "print(\"test Recall: %s\" % recall_score(y_test, y_pred))\n",
    "print(\"test AUC: %s\" % roc_auc_score(y_test, y_prob[:,1]))\n",
    "print(\"test F1: %s\" % f1_score(y_test, y_pred))\n",
    "print(\"test AUPR: %s\" % average_precision_score(y_test, y_prob[:,1]))"
   ]
  },
  {
   "cell_type": "markdown",
   "metadata": {},
   "source": [
    "## Bayesian optimization: RF (all vars, not binned)"
   ]
  },
  {
   "cell_type": "code",
   "execution_count": 28,
   "metadata": {},
   "outputs": [],
   "source": [
    "# # RandomForest + Bayesian optimization\n",
    "# opt_rf = BayesSearchCV(BalancedRandomForestClassifier(oob_score=True,\n",
    "#                                      random_state=123),\n",
    "#                        {\n",
    "#                         'n_estimators': (100,2000),\n",
    "#                         'max_depth': (5, 100),  \n",
    "#                         'criterion': ['gini','entropy'],\n",
    "#                         'max_features': (1, 75),\n",
    "#                        }, \n",
    "#                         n_iter = 20, verbose = 5, n_jobs=6)\n",
    "\n",
    "# # callback handler\n",
    "# def on_step(optim_result):\n",
    "#     score = opt_rf.best_score_\n",
    "#     print(\"best score: %s\" % score)\n",
    "# #     with open(\"./rf_checkpoint.pkl\", 'wb') as pickle_file:\n",
    "# #         pkl.dump(opt_rf, pickle_file)\n",
    "#     if score >= 0.95:\n",
    "#         print('Interrupting...')\n",
    "#         return True\n",
    "    \n",
    "# opt_rf.fit(X_train, y_train.ravel(), callback=[on_step])\n",
    "\n",
    "# print(\"best parameter set: %s\" % opt_rf.best_params_)\n",
    "# print(\"val. score: %s\" % opt_rf.best_score_)\n",
    "# # print(\"test score: %s\" % opt_rf.score(X_test, y_test))\n",
    "# y_prob = np.asarray(opt_rf.predict_proba(X_test))\n",
    "# y_pred = np.asarray(opt_rf.predict(X_test))\n",
    "# y_test = np.asarray(y_test)\n",
    "# print(\"test accuracy: %s\" % opt_rf.score(X_test, y_test))\n",
    "# print(\"test NPV: %s\" % negative_pred_value(y_test, y_pred))\n",
    "# print(\"test Precision: %s\" % precision_score(y_test, y_pred))\n",
    "# print(\"test Recall: %s\" % recall_score(y_test, y_pred))\n",
    "# print(\"test AUC: %s\" % roc_auc_score(y_test, y_prob[:,1]))\n",
    "# print(\"test F1: %s\" % f1_score(y_test, y_pred))\n",
    "# print(\"test AUPR: %s\" % average_precision_score(y_test, y_prob[:,1]))"
   ]
  },
  {
   "cell_type": "code",
   "execution_count": 49,
   "metadata": {},
   "outputs": [
    {
     "name": "stdout",
     "output_type": "stream",
     "text": [
      "test accuracy: 0.6760772659732541\n",
      "test NPV: 0.9382151029748284\n",
      "test Precision: 0.1906779661016949\n",
      "test Recall: 0.625\n",
      "test AUC: 0.7023941578850065\n",
      "test F1: 0.2922077922077922\n",
      "test AUPR: 0.20623990892095453\n"
     ]
    }
   ],
   "source": [
    "# train a random forest classifier\n",
    "rf = BalancedRandomForestClassifier(\n",
    "                            n_estimators=677,\n",
    "                            max_depth=5,\n",
    "                            max_features = 12,\n",
    "                            criterion = 'entropy',\n",
    "                            oob_score=True, \n",
    "                            random_state=123) # set seed to ensure reproducibility\n",
    "rf.fit(X_train,y_train.ravel())\n",
    "y_prob = np.asarray(rf.predict_proba(X_test))\n",
    "y_pred = np.asarray(rf.predict(X_test))\n",
    "y_test = np.asarray(y_test)\n",
    "print(\"test accuracy: %s\" % rf.score(X_test, y_test))\n",
    "print(\"test NPV: %s\" % negative_pred_value(y_test, y_pred))\n",
    "print(\"test Precision: %s\" % precision_score(y_test, y_pred))\n",
    "print(\"test Recall: %s\" % recall_score(y_test, y_pred))\n",
    "print(\"test AUC: %s\" % roc_auc_score(y_test, y_prob[:,1]))\n",
    "print(\"test F1: %s\" % f1_score(y_test, y_pred))\n",
    "print(\"test AUPR: %s\" % average_precision_score(y_test, y_prob[:,1]))"
   ]
  },
  {
   "cell_type": "code",
   "execution_count": 47,
   "metadata": {},
   "outputs": [
    {
     "data": {
      "image/png": "[encoded data removed]",
      "text/plain": [
       "<Figure size 720x504 with 2 Axes>"
      ]
     },
     "metadata": {},
     "output_type": "display_data"
    }
   ],
   "source": [
    "cm = confusion_matrix(y_test, y_pred)\n",
    "df_cm = pd.DataFrame(cm, index = [i for i in [\"SLNB Negative\",\"SLNB Positive\"]],\n",
    "                  columns = [i for i in [\"SLNB Negative\",\"SLNB Positive\"]])\n",
    "plt.figure(figsize = (10,7))\n",
    "ax = sns.heatmap(df_cm, annot=True, cmap='Blues',square=True, fmt='d').set_title('Confusion matrix: Random Forest')\n",
    "plt.xlabel(\"Predicted\")\n",
    "plt.ylabel(\"True\")\n",
    "plt.show()"
   ]
  },
  {
   "cell_type": "code",
   "execution_count": 51,
   "metadata": {},
   "outputs": [],
   "source": [
    "with open(BASE_DIR+'../model/balanced_rf.pkl', 'wb') as f:\n",
    "    pkl.dump(rf, f)"
   ]
  },
  {
   "cell_type": "code",
   "execution_count": null,
   "metadata": {},
   "outputs": [],
   "source": []
  },
  {
   "cell_type": "code",
   "execution_count": null,
   "metadata": {},
   "outputs": [],
   "source": []
  },
  {
   "cell_type": "markdown",
   "metadata": {},
   "source": [
    "## Binning the columns"
   ]
  },
  {
   "cell_type": "code",
   "execution_count": 29,
   "metadata": {},
   "outputs": [],
   "source": [
    "# read in data\n",
    "mcc_ncdb = pd.read_pickle(BASE_DIR + '../data/Merkel_NCDB_augmented_clean.pkl')\n",
    "# subset of features only\n",
    "mcc_ncdb_sel = mcc_ncdb[['AGE','SEX','PRIMARY_SITE',\n",
    "                        'TUMOR_SIZE', 'DEPTH', \n",
    "                        'LYMPH_VASCULAR_INVASION', \n",
    "                        'TUMOR_INFILTRATING_LYMPHOCYTES',\n",
    "                        'IMMUNE_SUPPRESSION', \n",
    "                        'GROWTH_PATTERN',\n",
    "                        'TUMOR_BASE_TRANSECTION',\n",
    "                        'SLNB'\n",
    "                       ]]\n"
   ]
  },
  {
   "cell_type": "code",
   "execution_count": 30,
   "metadata": {},
   "outputs": [
    {
     "data": {
      "text/html": [
       "<div>\n",
       "<style scoped>\n",
       "    .dataframe tbody tr th:only-of-type {\n",
       "        vertical-align: middle;\n",
       "    }\n",
       "\n",
       "    .dataframe tbody tr th {\n",
       "        vertical-align: top;\n",
       "    }\n",
       "\n",
       "    .dataframe thead th {\n",
       "        text-align: right;\n",
       "    }\n",
       "</style>\n",
       "<table border=\"1\" class=\"dataframe\">\n",
       "  <thead>\n",
       "    <tr style=\"text-align: right;\">\n",
       "      <th></th>\n",
       "      <th>AGE</th>\n",
       "      <th>SEX</th>\n",
       "      <th>PRIMARY_SITE</th>\n",
       "      <th>TUMOR_SIZE</th>\n",
       "      <th>DEPTH</th>\n",
       "      <th>LYMPH_VASCULAR_INVASION</th>\n",
       "      <th>TUMOR_INFILTRATING_LYMPHOCYTES</th>\n",
       "      <th>IMMUNE_SUPPRESSION</th>\n",
       "      <th>GROWTH_PATTERN</th>\n",
       "      <th>TUMOR_BASE_TRANSECTION</th>\n",
       "      <th>SLNB</th>\n",
       "    </tr>\n",
       "  </thead>\n",
       "  <tbody>\n",
       "    <tr>\n",
       "      <th>8</th>\n",
       "      <td>71</td>\n",
       "      <td>1</td>\n",
       "      <td>C444</td>\n",
       "      <td>10</td>\n",
       "      <td>999.0</td>\n",
       "      <td>0</td>\n",
       "      <td>999</td>\n",
       "      <td>999</td>\n",
       "      <td>999</td>\n",
       "      <td>999</td>\n",
       "      <td>0.0</td>\n",
       "    </tr>\n",
       "    <tr>\n",
       "      <th>12</th>\n",
       "      <td>87</td>\n",
       "      <td>1</td>\n",
       "      <td>C447</td>\n",
       "      <td>999</td>\n",
       "      <td>999.0</td>\n",
       "      <td>9</td>\n",
       "      <td>999</td>\n",
       "      <td>999</td>\n",
       "      <td>999</td>\n",
       "      <td>999</td>\n",
       "      <td>1.0</td>\n",
       "    </tr>\n",
       "    <tr>\n",
       "      <th>14</th>\n",
       "      <td>43</td>\n",
       "      <td>1</td>\n",
       "      <td>C443</td>\n",
       "      <td>2</td>\n",
       "      <td>10.0</td>\n",
       "      <td>9</td>\n",
       "      <td>0</td>\n",
       "      <td>0</td>\n",
       "      <td>999</td>\n",
       "      <td>20</td>\n",
       "      <td>0.0</td>\n",
       "    </tr>\n",
       "    <tr>\n",
       "      <th>19</th>\n",
       "      <td>59</td>\n",
       "      <td>2</td>\n",
       "      <td>C447</td>\n",
       "      <td>25</td>\n",
       "      <td>50.0</td>\n",
       "      <td>0</td>\n",
       "      <td>999</td>\n",
       "      <td>999</td>\n",
       "      <td>999</td>\n",
       "      <td>999</td>\n",
       "      <td>0.0</td>\n",
       "    </tr>\n",
       "    <tr>\n",
       "      <th>21</th>\n",
       "      <td>75</td>\n",
       "      <td>2</td>\n",
       "      <td>C446</td>\n",
       "      <td>30</td>\n",
       "      <td>999.0</td>\n",
       "      <td>9</td>\n",
       "      <td>999</td>\n",
       "      <td>999</td>\n",
       "      <td>999</td>\n",
       "      <td>999</td>\n",
       "      <td>1.0</td>\n",
       "    </tr>\n",
       "  </tbody>\n",
       "</table>\n",
       "</div>"
      ],
      "text/plain": [
       "    AGE  SEX PRIMARY_SITE  TUMOR_SIZE  DEPTH LYMPH_VASCULAR_INVASION  \\\n",
       "8    71    1         C444          10  999.0                       0   \n",
       "12   87    1         C447         999  999.0                       9   \n",
       "14   43    1         C443           2   10.0                       9   \n",
       "19   59    2         C447          25   50.0                       0   \n",
       "21   75    2         C446          30  999.0                       9   \n",
       "\n",
       "   TUMOR_INFILTRATING_LYMPHOCYTES IMMUNE_SUPPRESSION GROWTH_PATTERN  \\\n",
       "8                             999                999            999   \n",
       "12                            999                999            999   \n",
       "14                              0                  0            999   \n",
       "19                            999                999            999   \n",
       "21                            999                999            999   \n",
       "\n",
       "   TUMOR_BASE_TRANSECTION  SLNB  \n",
       "8                     999   0.0  \n",
       "12                    999   1.0  \n",
       "14                     20   0.0  \n",
       "19                    999   0.0  \n",
       "21                    999   1.0  "
      ]
     },
     "execution_count": 30,
     "metadata": {},
     "output_type": "execute_result"
    }
   ],
   "source": [
    "mcc_ncdb_sel.head()"
   ]
  },
  {
   "cell_type": "code",
   "execution_count": 31,
   "metadata": {},
   "outputs": [
    {
     "data": {
      "text/plain": [
       "999.0    7217\n",
       "10.0     1159\n",
       "20.0      988\n",
       "0.0       526\n",
       "Name: TUMOR_BASE_TRANSECTION, dtype: int64"
      ]
     },
     "execution_count": 31,
     "metadata": {},
     "output_type": "execute_result"
    }
   ],
   "source": [
    "mcc_ncdb_sel['TUMOR_BASE_TRANSECTION'].value_counts()"
   ]
  },
  {
   "cell_type": "code",
   "execution_count": 32,
   "metadata": {},
   "outputs": [
    {
     "name": "stderr",
     "output_type": "stream",
     "text": [
      "/Users/yanrongji/anaconda3/envs/insight/lib/python3.7/site-packages/ipykernel_launcher.py:3: SettingWithCopyWarning: \n",
      "A value is trying to be set on a copy of a slice from a DataFrame.\n",
      "Try using .loc[row_indexer,col_indexer] = value instead\n",
      "\n",
      "See the caveats in the documentation: https://pandas.pydata.org/pandas-docs/stable/user_guide/indexing.html#returning-a-view-versus-a-copy\n",
      "  This is separate from the ipykernel package so we can avoid doing imports until\n",
      "/Users/yanrongji/anaconda3/envs/insight/lib/python3.7/site-packages/ipykernel_launcher.py:17: SettingWithCopyWarning: \n",
      "A value is trying to be set on a copy of a slice from a DataFrame.\n",
      "Try using .loc[row_indexer,col_indexer] = value instead\n",
      "\n",
      "See the caveats in the documentation: https://pandas.pydata.org/pandas-docs/stable/user_guide/indexing.html#returning-a-view-versus-a-copy\n",
      "/Users/yanrongji/anaconda3/envs/insight/lib/python3.7/site-packages/ipykernel_launcher.py:23: SettingWithCopyWarning: \n",
      "A value is trying to be set on a copy of a slice from a DataFrame.\n",
      "Try using .loc[row_indexer,col_indexer] = value instead\n",
      "\n",
      "See the caveats in the documentation: https://pandas.pydata.org/pandas-docs/stable/user_guide/indexing.html#returning-a-view-versus-a-copy\n",
      "/Users/yanrongji/anaconda3/envs/insight/lib/python3.7/site-packages/ipykernel_launcher.py:31: SettingWithCopyWarning: \n",
      "A value is trying to be set on a copy of a slice from a DataFrame.\n",
      "Try using .loc[row_indexer,col_indexer] = value instead\n",
      "\n",
      "See the caveats in the documentation: https://pandas.pydata.org/pandas-docs/stable/user_guide/indexing.html#returning-a-view-versus-a-copy\n",
      "/Users/yanrongji/anaconda3/envs/insight/lib/python3.7/site-packages/ipykernel_launcher.py:44: SettingWithCopyWarning: \n",
      "A value is trying to be set on a copy of a slice from a DataFrame.\n",
      "Try using .loc[row_indexer,col_indexer] = value instead\n",
      "\n",
      "See the caveats in the documentation: https://pandas.pydata.org/pandas-docs/stable/user_guide/indexing.html#returning-a-view-versus-a-copy\n",
      "/Users/yanrongji/anaconda3/envs/insight/lib/python3.7/site-packages/ipykernel_launcher.py:49: SettingWithCopyWarning: \n",
      "A value is trying to be set on a copy of a slice from a DataFrame.\n",
      "Try using .loc[row_indexer,col_indexer] = value instead\n",
      "\n",
      "See the caveats in the documentation: https://pandas.pydata.org/pandas-docs/stable/user_guide/indexing.html#returning-a-view-versus-a-copy\n",
      "/Users/yanrongji/anaconda3/envs/insight/lib/python3.7/site-packages/ipykernel_launcher.py:55: SettingWithCopyWarning: \n",
      "A value is trying to be set on a copy of a slice from a DataFrame.\n",
      "Try using .loc[row_indexer,col_indexer] = value instead\n",
      "\n",
      "See the caveats in the documentation: https://pandas.pydata.org/pandas-docs/stable/user_guide/indexing.html#returning-a-view-versus-a-copy\n"
     ]
    }
   ],
   "source": [
    "# binning the categories\n",
    "mcc_ncdb_sel['SEX'] = mcc_ncdb_sel['SEX'].replace([1, 2],\n",
    "                                                ['Male', 'Female']\n",
    "                                               )\n",
    "mcc_ncdb_sel['PRIMARY_SITE'] = mcc_ncdb_sel['PRIMARY_SITE'].replace(['C440','C441','C442','C443',\n",
    "                                                                     'C444','C445','C446','C447',\n",
    "                                                                     'C448','C449'],\n",
    "                                                                    ['Head_and_Neck',\n",
    "                                                                     'Head_and_Neck',\n",
    "                                                                     'Head_and_Neck',\n",
    "                                                                     'Other',\n",
    "                                                                     'Head_and_Neck',\n",
    "                                                                     'Trunk',\n",
    "                                                                     'Extremity',\n",
    "                                                                     'Extremity',\n",
    "                                                                     'Other',\n",
    "                                                                     'Other']\n",
    "                                                                   )\n",
    "mcc_ncdb_sel['LYMPH_VASCULAR_INVASION'] = mcc_ncdb_sel['LYMPH_VASCULAR_INVASION'].replace([0, 1, 8, 9],\n",
    "                                                                                          ['No',\n",
    "                                                                                           'Yes',\n",
    "                                                                                           'Unknown',\n",
    "                                                                                           'Unknown'\n",
    "                                                                                          ])\n",
    "mcc_ncdb_sel['TUMOR_INFILTRATING_LYMPHOCYTES'] = mcc_ncdb_sel['TUMOR_INFILTRATING_LYMPHOCYTES'].replace(\n",
    "                                                                                          [0, 1, 20, 30, 999],\n",
    "                                                                                          ['Negative',\n",
    "                                                                                           'Weak',\n",
    "                                                                                           'Strong',\n",
    "                                                                                           'Present',\n",
    "                                                                                           'Unknown'\n",
    "                                                                                          ])\n",
    "mcc_ncdb_sel['IMMUNE_SUPPRESSION'] = mcc_ncdb_sel['IMMUNE_SUPPRESSION'].replace(\n",
    "                                                                              [0, 1, 20, 30, 40,\n",
    "                                                                               50, 60, 70, 999],\n",
    "                                                                              ['Negative',\n",
    "                                                                               'Positive',\n",
    "                                                                               'Positive',\n",
    "                                                                               'Positive',\n",
    "                                                                               'Positive',\n",
    "                                                                               'Positive',\n",
    "                                                                               'Positive',\n",
    "                                                                               'Positive',\n",
    "                                                                               'Unknown'\n",
    "                                                                              ])\n",
    "mcc_ncdb_sel['GROWTH_PATTERN'] = mcc_ncdb_sel['GROWTH_PATTERN'].replace([1, 20, 999],\n",
    "                                                                          ['Circumscribed_nodular',\n",
    "                                                                           'Diffusely_infiltrative',\n",
    "                                                                           'Unknown'])\n",
    "\n",
    "mcc_ncdb_sel['TUMOR_BASE_TRANSECTION'] = mcc_ncdb_sel['TUMOR_BASE_TRANSECTION'].replace([0, 1, 20, 999],\n",
    "                                                                                          ['Not_found',\n",
    "                                                                                           'Transected',\n",
    "                                                                                           'Not_transected',\n",
    "                                                                                           'Unknown'\n",
    "                                                                                          ])"
   ]
  },
  {
   "cell_type": "markdown",
   "metadata": {},
   "source": [
    "## Imputing DEPTH and TUMOR_SIZE to be zero"
   ]
  },
  {
   "cell_type": "code",
   "execution_count": 33,
   "metadata": {},
   "outputs": [
    {
     "name": "stderr",
     "output_type": "stream",
     "text": [
      "/Users/yanrongji/anaconda3/envs/insight/lib/python3.7/site-packages/ipykernel_launcher.py:1: SettingWithCopyWarning: \n",
      "A value is trying to be set on a copy of a slice from a DataFrame.\n",
      "Try using .loc[row_indexer,col_indexer] = value instead\n",
      "\n",
      "See the caveats in the documentation: https://pandas.pydata.org/pandas-docs/stable/user_guide/indexing.html#returning-a-view-versus-a-copy\n",
      "  \"\"\"Entry point for launching an IPython kernel.\n",
      "/Users/yanrongji/anaconda3/envs/insight/lib/python3.7/site-packages/ipykernel_launcher.py:2: SettingWithCopyWarning: \n",
      "A value is trying to be set on a copy of a slice from a DataFrame.\n",
      "Try using .loc[row_indexer,col_indexer] = value instead\n",
      "\n",
      "See the caveats in the documentation: https://pandas.pydata.org/pandas-docs/stable/user_guide/indexing.html#returning-a-view-versus-a-copy\n",
      "  \n"
     ]
    }
   ],
   "source": [
    "mcc_ncdb_sel['DEPTH'] = mcc_ncdb_sel['DEPTH'].replace([999],[0])\n",
    "mcc_ncdb_sel['TUMOR_SIZE'] = mcc_ncdb_sel['TUMOR_SIZE'].replace([999],[0])"
   ]
  },
  {
   "cell_type": "code",
   "execution_count": 34,
   "metadata": {},
   "outputs": [
    {
     "data": {
      "text/html": [
       "<div>\n",
       "<style scoped>\n",
       "    .dataframe tbody tr th:only-of-type {\n",
       "        vertical-align: middle;\n",
       "    }\n",
       "\n",
       "    .dataframe tbody tr th {\n",
       "        vertical-align: top;\n",
       "    }\n",
       "\n",
       "    .dataframe thead th {\n",
       "        text-align: right;\n",
       "    }\n",
       "</style>\n",
       "<table border=\"1\" class=\"dataframe\">\n",
       "  <thead>\n",
       "    <tr style=\"text-align: right;\">\n",
       "      <th></th>\n",
       "      <th>AGE</th>\n",
       "      <th>SEX</th>\n",
       "      <th>PRIMARY_SITE</th>\n",
       "      <th>TUMOR_SIZE</th>\n",
       "      <th>DEPTH</th>\n",
       "      <th>LYMPH_VASCULAR_INVASION</th>\n",
       "      <th>TUMOR_INFILTRATING_LYMPHOCYTES</th>\n",
       "      <th>IMMUNE_SUPPRESSION</th>\n",
       "      <th>GROWTH_PATTERN</th>\n",
       "      <th>TUMOR_BASE_TRANSECTION</th>\n",
       "      <th>SLNB</th>\n",
       "    </tr>\n",
       "  </thead>\n",
       "  <tbody>\n",
       "    <tr>\n",
       "      <th>8</th>\n",
       "      <td>71</td>\n",
       "      <td>Male</td>\n",
       "      <td>Head_and_Neck</td>\n",
       "      <td>10</td>\n",
       "      <td>0.0</td>\n",
       "      <td>No</td>\n",
       "      <td>Unknown</td>\n",
       "      <td>Unknown</td>\n",
       "      <td>Unknown</td>\n",
       "      <td>Unknown</td>\n",
       "      <td>0.0</td>\n",
       "    </tr>\n",
       "    <tr>\n",
       "      <th>12</th>\n",
       "      <td>87</td>\n",
       "      <td>Male</td>\n",
       "      <td>Extremity</td>\n",
       "      <td>0</td>\n",
       "      <td>0.0</td>\n",
       "      <td>Unknown</td>\n",
       "      <td>Unknown</td>\n",
       "      <td>Unknown</td>\n",
       "      <td>Unknown</td>\n",
       "      <td>Unknown</td>\n",
       "      <td>1.0</td>\n",
       "    </tr>\n",
       "    <tr>\n",
       "      <th>14</th>\n",
       "      <td>43</td>\n",
       "      <td>Male</td>\n",
       "      <td>Other</td>\n",
       "      <td>2</td>\n",
       "      <td>10.0</td>\n",
       "      <td>Unknown</td>\n",
       "      <td>Negative</td>\n",
       "      <td>Negative</td>\n",
       "      <td>Unknown</td>\n",
       "      <td>Not_transected</td>\n",
       "      <td>0.0</td>\n",
       "    </tr>\n",
       "    <tr>\n",
       "      <th>19</th>\n",
       "      <td>59</td>\n",
       "      <td>Female</td>\n",
       "      <td>Extremity</td>\n",
       "      <td>25</td>\n",
       "      <td>50.0</td>\n",
       "      <td>No</td>\n",
       "      <td>Unknown</td>\n",
       "      <td>Unknown</td>\n",
       "      <td>Unknown</td>\n",
       "      <td>Unknown</td>\n",
       "      <td>0.0</td>\n",
       "    </tr>\n",
       "    <tr>\n",
       "      <th>21</th>\n",
       "      <td>75</td>\n",
       "      <td>Female</td>\n",
       "      <td>Extremity</td>\n",
       "      <td>30</td>\n",
       "      <td>0.0</td>\n",
       "      <td>Unknown</td>\n",
       "      <td>Unknown</td>\n",
       "      <td>Unknown</td>\n",
       "      <td>Unknown</td>\n",
       "      <td>Unknown</td>\n",
       "      <td>1.0</td>\n",
       "    </tr>\n",
       "  </tbody>\n",
       "</table>\n",
       "</div>"
      ],
      "text/plain": [
       "    AGE     SEX   PRIMARY_SITE  TUMOR_SIZE  DEPTH LYMPH_VASCULAR_INVASION  \\\n",
       "8    71    Male  Head_and_Neck          10    0.0                      No   \n",
       "12   87    Male      Extremity           0    0.0                 Unknown   \n",
       "14   43    Male          Other           2   10.0                 Unknown   \n",
       "19   59  Female      Extremity          25   50.0                      No   \n",
       "21   75  Female      Extremity          30    0.0                 Unknown   \n",
       "\n",
       "   TUMOR_INFILTRATING_LYMPHOCYTES IMMUNE_SUPPRESSION GROWTH_PATTERN  \\\n",
       "8                         Unknown            Unknown        Unknown   \n",
       "12                        Unknown            Unknown        Unknown   \n",
       "14                       Negative           Negative        Unknown   \n",
       "19                        Unknown            Unknown        Unknown   \n",
       "21                        Unknown            Unknown        Unknown   \n",
       "\n",
       "   TUMOR_BASE_TRANSECTION  SLNB  \n",
       "8                 Unknown   0.0  \n",
       "12                Unknown   1.0  \n",
       "14         Not_transected   0.0  \n",
       "19                Unknown   0.0  \n",
       "21                Unknown   1.0  "
      ]
     },
     "execution_count": 34,
     "metadata": {},
     "output_type": "execute_result"
    }
   ],
   "source": [
    "mcc_ncdb_sel.head()"
   ]
  },
  {
   "cell_type": "code",
   "execution_count": 35,
   "metadata": {},
   "outputs": [
    {
     "data": {
      "text/plain": [
       "0      2041\n",
       "10      574\n",
       "15      468\n",
       "20      424\n",
       "992     407\n",
       "       ... \n",
       "270       1\n",
       "180       1\n",
       "148       1\n",
       "108       1\n",
       "220       1\n",
       "Name: TUMOR_SIZE, Length: 132, dtype: int64"
      ]
     },
     "execution_count": 35,
     "metadata": {},
     "output_type": "execute_result"
    }
   ],
   "source": [
    "mcc_ncdb_sel.TUMOR_SIZE.value_counts()"
   ]
  },
  {
   "cell_type": "code",
   "execution_count": 36,
   "metadata": {},
   "outputs": [],
   "source": [
    "# save cleaned data\n",
    "mcc_ncdb_sel.to_csv(BASE_DIR+\"../data/Merkel_NCDB_augmented_clean_selectedVars.csv\")\n",
    "mcc_ncdb_sel.to_pickle(BASE_DIR+\"../data/Merkel_NCDB_augmented_clean_selectedVars.pkl\")"
   ]
  },
  {
   "cell_type": "code",
   "execution_count": 37,
   "metadata": {},
   "outputs": [],
   "source": [
    "mcc_ncdb_sel = pd.get_dummies(mcc_ncdb_sel)\n",
    "X_sel = np.array(mcc_ncdb_sel.loc[:, mcc_ncdb_sel.columns != 'SLNB'])\n",
    "y_sel = np.array(mcc_ncdb_sel.loc[:, mcc_ncdb_sel.columns == 'SLNB'])\n",
    "X_train_sel, X_test_sel, y_train_sel, y_test_sel = train_test_split(X_sel, y_sel, \n",
    "                                                                test_size = 0.1, \n",
    "                                                                random_state = 123) # set seed to ensure reproducibility"
   ]
  },
  {
   "cell_type": "code",
   "execution_count": 38,
   "metadata": {},
   "outputs": [
    {
     "data": {
      "text/plain": [
       "(8901, 28)"
      ]
     },
     "execution_count": 38,
     "metadata": {},
     "output_type": "execute_result"
    }
   ],
   "source": [
    "X_train_sel.shape"
   ]
  },
  {
   "cell_type": "code",
   "execution_count": 39,
   "metadata": {},
   "outputs": [
    {
     "data": {
      "text/plain": [
       "Index(['AGE', 'TUMOR_SIZE', 'DEPTH', 'SLNB', 'SEX_Female', 'SEX_Male',\n",
       "       'PRIMARY_SITE_Extremity', 'PRIMARY_SITE_Head_and_Neck',\n",
       "       'PRIMARY_SITE_Other', 'PRIMARY_SITE_Trunk',\n",
       "       'LYMPH_VASCULAR_INVASION_No', 'LYMPH_VASCULAR_INVASION_Unknown',\n",
       "       'LYMPH_VASCULAR_INVASION_Yes', 'TUMOR_INFILTRATING_LYMPHOCYTES_10.0',\n",
       "       'TUMOR_INFILTRATING_LYMPHOCYTES_Negative',\n",
       "       'TUMOR_INFILTRATING_LYMPHOCYTES_Present',\n",
       "       'TUMOR_INFILTRATING_LYMPHOCYTES_Strong',\n",
       "       'TUMOR_INFILTRATING_LYMPHOCYTES_Unknown', 'IMMUNE_SUPPRESSION_10.0',\n",
       "       'IMMUNE_SUPPRESSION_Negative', 'IMMUNE_SUPPRESSION_Positive',\n",
       "       'IMMUNE_SUPPRESSION_Unknown', 'GROWTH_PATTERN_10.0',\n",
       "       'GROWTH_PATTERN_Diffusely_infiltrative', 'GROWTH_PATTERN_Unknown',\n",
       "       'TUMOR_BASE_TRANSECTION_10.0', 'TUMOR_BASE_TRANSECTION_Not_found',\n",
       "       'TUMOR_BASE_TRANSECTION_Not_transected',\n",
       "       'TUMOR_BASE_TRANSECTION_Unknown'],\n",
       "      dtype='object')"
      ]
     },
     "execution_count": 39,
     "metadata": {},
     "output_type": "execute_result"
    }
   ],
   "source": [
    "mcc_ncdb_sel.columns"
   ]
  },
  {
   "cell_type": "code",
   "execution_count": 40,
   "metadata": {},
   "outputs": [
    {
     "name": "stdout",
     "output_type": "stream",
     "text": [
      "test accuracy: 0.6228513650151668\n",
      "test NPV: 0.8127272727272727\n",
      "test Precision: 0.38496583143507973\n",
      "test Recall: 0.6213235294117647\n",
      "test AUC: 0.6747220854869144\n",
      "test F1: 0.4753867791842476\n",
      "test AUPR: 0.42123272915015514\n"
     ]
    }
   ],
   "source": [
    "# train a random forest classifier\n",
    "rf = BalancedRandomForestClassifier(\n",
    "                            n_estimators=1000,\n",
    "                            max_depth=50,\n",
    "                            max_features = 7,\n",
    "                            oob_score=True, \n",
    "                            random_state=123) # set seed to ensure reproducibility\n",
    "rf.fit(X_train_sel,y_train_sel.ravel())\n",
    "y_prob_sel = np.asarray(rf.predict_proba(X_test_sel))\n",
    "y_pred_sel = np.asarray(rf.predict(X_test_sel))\n",
    "y_test_sel = np.asarray(y_test_sel)\n",
    "print(\"test accuracy: %s\" % accuracy_score(y_test_sel, y_pred_sel))\n",
    "print(\"test NPV: %s\" % negative_pred_value(y_test_sel, y_pred_sel))\n",
    "print(\"test Precision: %s\" % precision_score(y_test_sel, y_pred_sel))\n",
    "print(\"test Recall: %s\" % recall_score(y_test_sel, y_pred_sel))\n",
    "print(\"test AUC: %s\" % roc_auc_score(y_test_sel, y_prob_sel[:,1]))\n",
    "print(\"test F1: %s\" % f1_score(y_test_sel, y_pred_sel))\n",
    "print(\"test AUPR: %s\" % average_precision_score(y_test_sel, y_prob_sel[:,1]))"
   ]
  },
  {
   "cell_type": "code",
   "execution_count": 28,
   "metadata": {},
   "outputs": [
    {
     "name": "stdout",
     "output_type": "stream",
     "text": [
      "Fitting 5 folds for each of 1 candidates, totalling 5 fits\n"
     ]
    },
    {
     "name": "stderr",
     "output_type": "stream",
     "text": [
      "[Parallel(n_jobs=6)]: Using backend LokyBackend with 6 concurrent workers.\n",
      "[Parallel(n_jobs=6)]: Done   2 out of   5 | elapsed:    6.4s remaining:    9.6s\n",
      "[Parallel(n_jobs=6)]: Done   5 out of   5 | elapsed:    6.4s finished\n",
      "[Parallel(n_jobs=6)]: Using backend LokyBackend with 6 concurrent workers.\n"
     ]
    },
    {
     "name": "stdout",
     "output_type": "stream",
     "text": [
      "best score: 0.29357736638841975\n",
      "Fitting 5 folds for each of 1 candidates, totalling 5 fits\n"
     ]
    },
    {
     "name": "stderr",
     "output_type": "stream",
     "text": [
      "[Parallel(n_jobs=6)]: Done   2 out of   5 | elapsed:   10.5s remaining:   15.7s\n",
      "[Parallel(n_jobs=6)]: Done   5 out of   5 | elapsed:   10.6s finished\n"
     ]
    },
    {
     "name": "stdout",
     "output_type": "stream",
     "text": [
      "best score: 0.29357736638841975\n",
      "Fitting 5 folds for each of 1 candidates, totalling 5 fits\n"
     ]
    },
    {
     "name": "stderr",
     "output_type": "stream",
     "text": [
      "[Parallel(n_jobs=6)]: Using backend LokyBackend with 6 concurrent workers.\n",
      "[Parallel(n_jobs=6)]: Done   2 out of   5 | elapsed:    5.7s remaining:    8.5s\n",
      "[Parallel(n_jobs=6)]: Done   5 out of   5 | elapsed:    5.8s finished\n"
     ]
    },
    {
     "name": "stdout",
     "output_type": "stream",
     "text": [
      "best score: 0.29357736638841975\n",
      "Fitting 5 folds for each of 1 candidates, totalling 5 fits\n"
     ]
    },
    {
     "name": "stderr",
     "output_type": "stream",
     "text": [
      "[Parallel(n_jobs=6)]: Using backend LokyBackend with 6 concurrent workers.\n",
      "[Parallel(n_jobs=6)]: Done   2 out of   5 | elapsed:   17.5s remaining:   26.2s\n",
      "[Parallel(n_jobs=6)]: Done   5 out of   5 | elapsed:   17.7s finished\n",
      "[Parallel(n_jobs=6)]: Using backend LokyBackend with 6 concurrent workers.\n"
     ]
    },
    {
     "name": "stdout",
     "output_type": "stream",
     "text": [
      "best score: 0.29357736638841975\n",
      "Fitting 5 folds for each of 1 candidates, totalling 5 fits\n"
     ]
    },
    {
     "name": "stderr",
     "output_type": "stream",
     "text": [
      "[Parallel(n_jobs=6)]: Done   2 out of   5 | elapsed:    6.4s remaining:    9.6s\n",
      "[Parallel(n_jobs=6)]: Done   5 out of   5 | elapsed:    6.5s finished\n",
      "[Parallel(n_jobs=6)]: Using backend LokyBackend with 6 concurrent workers.\n"
     ]
    },
    {
     "name": "stdout",
     "output_type": "stream",
     "text": [
      "best score: 0.29749733422600366\n",
      "Fitting 5 folds for each of 1 candidates, totalling 5 fits\n"
     ]
    },
    {
     "name": "stderr",
     "output_type": "stream",
     "text": [
      "[Parallel(n_jobs=6)]: Done   2 out of   5 | elapsed:   11.9s remaining:   17.9s\n",
      "[Parallel(n_jobs=6)]: Done   5 out of   5 | elapsed:   12.1s finished\n"
     ]
    },
    {
     "name": "stdout",
     "output_type": "stream",
     "text": [
      "best score: 0.29749733422600366\n",
      "Fitting 5 folds for each of 1 candidates, totalling 5 fits\n"
     ]
    },
    {
     "name": "stderr",
     "output_type": "stream",
     "text": [
      "[Parallel(n_jobs=6)]: Using backend LokyBackend with 6 concurrent workers.\n",
      "[Parallel(n_jobs=6)]: Done   2 out of   5 | elapsed:   23.2s remaining:   34.8s\n",
      "[Parallel(n_jobs=6)]: Done   5 out of   5 | elapsed:   23.7s finished\n",
      "[Parallel(n_jobs=6)]: Using backend LokyBackend with 6 concurrent workers.\n"
     ]
    },
    {
     "name": "stdout",
     "output_type": "stream",
     "text": [
      "best score: 0.29749733422600366\n",
      "Fitting 5 folds for each of 1 candidates, totalling 5 fits\n"
     ]
    },
    {
     "name": "stderr",
     "output_type": "stream",
     "text": [
      "[Parallel(n_jobs=6)]: Done   2 out of   5 | elapsed:   18.0s remaining:   26.9s\n",
      "[Parallel(n_jobs=6)]: Done   5 out of   5 | elapsed:   18.0s finished\n",
      "[Parallel(n_jobs=6)]: Using backend LokyBackend with 6 concurrent workers.\n"
     ]
    },
    {
     "name": "stdout",
     "output_type": "stream",
     "text": [
      "best score: 0.29749733422600366\n",
      "Fitting 5 folds for each of 1 candidates, totalling 5 fits\n"
     ]
    },
    {
     "name": "stderr",
     "output_type": "stream",
     "text": [
      "[Parallel(n_jobs=6)]: Done   2 out of   5 | elapsed:   23.4s remaining:   35.1s\n",
      "[Parallel(n_jobs=6)]: Done   5 out of   5 | elapsed:   23.4s finished\n"
     ]
    },
    {
     "name": "stdout",
     "output_type": "stream",
     "text": [
      "best score: 0.2992359104983263\n",
      "Fitting 5 folds for each of 1 candidates, totalling 5 fits\n"
     ]
    },
    {
     "name": "stderr",
     "output_type": "stream",
     "text": [
      "[Parallel(n_jobs=6)]: Using backend LokyBackend with 6 concurrent workers.\n",
      "[Parallel(n_jobs=6)]: Done   2 out of   5 | elapsed:   20.5s remaining:   30.7s\n",
      "[Parallel(n_jobs=6)]: Done   5 out of   5 | elapsed:   20.6s finished\n"
     ]
    },
    {
     "name": "stdout",
     "output_type": "stream",
     "text": [
      "best score: 0.2992359104983263\n",
      "Fitting 5 folds for each of 1 candidates, totalling 5 fits\n"
     ]
    },
    {
     "name": "stderr",
     "output_type": "stream",
     "text": [
      "[Parallel(n_jobs=6)]: Using backend LokyBackend with 6 concurrent workers.\n",
      "[Parallel(n_jobs=6)]: Done   2 out of   5 | elapsed:   20.8s remaining:   31.1s\n",
      "[Parallel(n_jobs=6)]: Done   5 out of   5 | elapsed:   20.9s finished\n"
     ]
    },
    {
     "name": "stdout",
     "output_type": "stream",
     "text": [
      "best score: 0.2992359104983263\n",
      "Fitting 5 folds for each of 1 candidates, totalling 5 fits\n"
     ]
    },
    {
     "name": "stderr",
     "output_type": "stream",
     "text": [
      "[Parallel(n_jobs=6)]: Using backend LokyBackend with 6 concurrent workers.\n",
      "[Parallel(n_jobs=6)]: Done   2 out of   5 | elapsed:    6.2s remaining:    9.3s\n",
      "[Parallel(n_jobs=6)]: Done   5 out of   5 | elapsed:    6.3s finished\n"
     ]
    },
    {
     "name": "stdout",
     "output_type": "stream",
     "text": [
      "best score: 0.2992359104983263\n",
      "Fitting 5 folds for each of 1 candidates, totalling 5 fits\n"
     ]
    },
    {
     "name": "stderr",
     "output_type": "stream",
     "text": [
      "[Parallel(n_jobs=6)]: Using backend LokyBackend with 6 concurrent workers.\n",
      "[Parallel(n_jobs=6)]: Done   2 out of   5 | elapsed:    6.3s remaining:    9.5s\n",
      "[Parallel(n_jobs=6)]: Done   5 out of   5 | elapsed:    6.3s finished\n"
     ]
    },
    {
     "name": "stdout",
     "output_type": "stream",
     "text": [
      "best score: 0.2992359104983263\n",
      "Fitting 5 folds for each of 1 candidates, totalling 5 fits\n"
     ]
    },
    {
     "name": "stderr",
     "output_type": "stream",
     "text": [
      "[Parallel(n_jobs=6)]: Using backend LokyBackend with 6 concurrent workers.\n",
      "[Parallel(n_jobs=6)]: Done   2 out of   5 | elapsed:    1.0s remaining:    1.5s\n",
      "[Parallel(n_jobs=6)]: Done   5 out of   5 | elapsed:    1.1s finished\n"
     ]
    },
    {
     "name": "stdout",
     "output_type": "stream",
     "text": [
      "best score: 0.2992359104983263\n",
      "Fitting 5 folds for each of 1 candidates, totalling 5 fits\n"
     ]
    },
    {
     "name": "stderr",
     "output_type": "stream",
     "text": [
      "[Parallel(n_jobs=6)]: Using backend LokyBackend with 6 concurrent workers.\n",
      "[Parallel(n_jobs=6)]: Done   2 out of   5 | elapsed:    9.1s remaining:   13.7s\n",
      "[Parallel(n_jobs=6)]: Done   5 out of   5 | elapsed:    9.3s finished\n"
     ]
    },
    {
     "name": "stdout",
     "output_type": "stream",
     "text": [
      "best score: 0.3047739028383401\n",
      "Fitting 5 folds for each of 1 candidates, totalling 5 fits\n"
     ]
    },
    {
     "name": "stderr",
     "output_type": "stream",
     "text": [
      "[Parallel(n_jobs=6)]: Using backend LokyBackend with 6 concurrent workers.\n",
      "[Parallel(n_jobs=6)]: Done   2 out of   5 | elapsed:   16.7s remaining:   25.0s\n",
      "[Parallel(n_jobs=6)]: Done   5 out of   5 | elapsed:   16.8s finished\n"
     ]
    },
    {
     "name": "stdout",
     "output_type": "stream",
     "text": [
      "best score: 0.3064860722534881\n",
      "Fitting 5 folds for each of 1 candidates, totalling 5 fits\n"
     ]
    },
    {
     "name": "stderr",
     "output_type": "stream",
     "text": [
      "[Parallel(n_jobs=6)]: Using backend LokyBackend with 6 concurrent workers.\n",
      "[Parallel(n_jobs=6)]: Done   2 out of   5 | elapsed:    0.9s remaining:    1.4s\n",
      "[Parallel(n_jobs=6)]: Done   5 out of   5 | elapsed:    0.9s finished\n"
     ]
    },
    {
     "name": "stdout",
     "output_type": "stream",
     "text": [
      "best score: 0.3064860722534881\n",
      "Fitting 5 folds for each of 1 candidates, totalling 5 fits\n"
     ]
    },
    {
     "name": "stderr",
     "output_type": "stream",
     "text": [
      "[Parallel(n_jobs=6)]: Using backend LokyBackend with 6 concurrent workers.\n",
      "[Parallel(n_jobs=6)]: Done   2 out of   5 | elapsed:   17.3s remaining:   26.0s\n",
      "[Parallel(n_jobs=6)]: Done   5 out of   5 | elapsed:   17.5s finished\n"
     ]
    },
    {
     "name": "stdout",
     "output_type": "stream",
     "text": [
      "best score: 0.3064860722534881\n",
      "Fitting 5 folds for each of 1 candidates, totalling 5 fits\n"
     ]
    },
    {
     "name": "stderr",
     "output_type": "stream",
     "text": [
      "[Parallel(n_jobs=6)]: Using backend LokyBackend with 6 concurrent workers.\n",
      "[Parallel(n_jobs=6)]: Done   2 out of   5 | elapsed:    1.3s remaining:    1.9s\n",
      "[Parallel(n_jobs=6)]: Done   5 out of   5 | elapsed:    1.3s finished\n"
     ]
    },
    {
     "name": "stdout",
     "output_type": "stream",
     "text": [
      "best score: 0.3064860722534881\n",
      "Fitting 5 folds for each of 1 candidates, totalling 5 fits\n"
     ]
    },
    {
     "name": "stderr",
     "output_type": "stream",
     "text": [
      "[Parallel(n_jobs=6)]: Using backend LokyBackend with 6 concurrent workers.\n",
      "[Parallel(n_jobs=6)]: Done   2 out of   5 | elapsed:   21.4s remaining:   32.2s\n",
      "[Parallel(n_jobs=6)]: Done   5 out of   5 | elapsed:   21.5s finished\n"
     ]
    },
    {
     "name": "stdout",
     "output_type": "stream",
     "text": [
      "best score: 0.3064860722534881\n",
      "best parameter set: OrderedDict([('criterion', 'gini'), ('max_depth', 5), ('max_features', 24), ('n_estimators', 2250)])\n",
      "val. score: 0.3064860722534881\n",
      "test accuracy: 0.6264274061990212\n",
      "test NPV: 0.8844086021505376\n",
      "test Precision: 0.22821576763485477\n",
      "test Recall: 0.5612244897959183\n",
      "test AUC: 0.6533584307509412\n",
      "test F1: 0.3244837758112094\n",
      "test AUPR: 0.3379450087365217\n"
     ]
    }
   ],
   "source": [
    "# RandomForest + Bayesian optimization\n",
    "opt_rf = BayesSearchCV(BalancedRandomForestClassifier(oob_score=True,\n",
    "                                     random_state=123),\n",
    "                       {\n",
    "                        'n_estimators': (100,2000),\n",
    "                        'max_depth': (5, 100),  \n",
    "                        'criterion': ['gini','entropy'],\n",
    "                        'max_features': (1, 27),\n",
    "                       }, \n",
    "                        n_iter = 20, verbose = 5, \n",
    "                       scoring=make_scorer(f1_score),\n",
    "                       n_jobs=6)\n",
    "\n",
    "# callback handler\n",
    "def on_step(optim_result):\n",
    "    score = opt_rf.best_score_\n",
    "    print(\"best score: %s\" % score)\n",
    "#     with open(\"./rf_checkpoint.pkl\", 'wb') as pickle_file:\n",
    "#         pkl.dump(opt_rf, pickle_file)\n",
    "    if score >= 0.99:\n",
    "        print('Interrupting...')\n",
    "        return True\n",
    "    \n",
    "opt_rf.fit(X_train_sel, y_train_sel.ravel(), callback=[on_step])\n",
    "\n",
    "print(\"best parameter set: %s\" % opt_rf.best_params_)\n",
    "print(\"val. score: %s\" % opt_rf.best_score_)\n",
    "# print(\"test score: %s\" % opt_rf.score(X_test, y_test))\n",
    "y_prob_sel = np.asarray(opt_rf.predict_proba(X_test_sel))\n",
    "y_pred_sel = np.asarray(opt_rf.predict(X_test_sel))\n",
    "y_test_sel = np.asarray(y_test_sel)\n",
    "print(\"test accuracy: %s\" % accuracy_score(y_test_sel, y_pred_sel))\n",
    "print(\"test NPV: %s\" % negative_pred_value(y_test_sel, y_pred_sel))\n",
    "print(\"test Precision: %s\" % precision_score(y_test_sel, y_pred_sel))\n",
    "print(\"test Recall: %s\" % recall_score(y_test_sel, y_pred_sel))\n",
    "print(\"test AUC: %s\" % roc_auc_score(y_test_sel, y_prob_sel[:,1]))\n",
    "print(\"test F1: %s\" % f1_score(y_test_sel, y_pred_sel))\n",
    "print(\"test AUPR: %s\" % average_precision_score(y_test_sel, y_prob_sel[:,1]))"
   ]
  },
  {
   "cell_type": "code",
   "execution_count": 21,
   "metadata": {},
   "outputs": [],
   "source": [
    "# def adjusted_classes(y_scores, t):\n",
    "#     \"\"\"\n",
    "#     This function adjusts class predictions based on the prediction threshold (t).\n",
    "#     Will only work for binary classification problems.\n",
    "#     Credit to: https://towardsdatascience.com/fine-tuning-a-classifier-in-scikit-learn-66e048c21e65#:~:text=The%20default%20threshold%20for%20RandomForestClassifier,the%20class%20probabilites%20called%20y_scores%20.\n",
    "#     \"\"\"\n",
    "#     return np.asarray([1 if y >= t else 0 for y in y_scores])\n",
    "\n",
    "# def precision_recall_threshold(p, r, thresholds, t=0.5):\n",
    "#     \"\"\"\n",
    "#     plots the precision recall curve and shows the current value for each\n",
    "#     by identifying the classifier's threshold (t).\n",
    "#     \"\"\"\n",
    "    \n",
    "#     # generate new class predictions based on the adjusted_classes\n",
    "#     # function above and view the resulting confusion matrix.\n",
    "#     y_pred_adj = adjusted_classes(y_scores, t)\n",
    "#     print(pd.DataFrame(confusion_matrix(y_test, y_pred_adj),\n",
    "#                        columns=['pred_neg', 'pred_pos'], \n",
    "#                        index=['neg', 'pos']))\n",
    "    \n",
    "#     # plot the curve\n",
    "#     plt.figure(figsize=(8,8))\n",
    "#     plt.title(\"Precision and Recall curve ^ = current threshold\")\n",
    "#     plt.step(r, p, color='b', alpha=0.2,\n",
    "#              where='post')\n",
    "#     plt.fill_between(r, p, step='post', alpha=0.2,\n",
    "#                      color='b')\n",
    "#     plt.ylim([0.5, 1.01]);\n",
    "#     plt.xlim([0.5, 1.01]);\n",
    "#     plt.xlabel('Recall');\n",
    "#     plt.ylabel('Precision');\n",
    "    \n",
    "#     # plot the current threshold on the line\n",
    "#     close_default_clf = np.argmin(np.abs(thresholds - t))\n",
    "#     plt.plot(r[close_default_clf], p[close_default_clf], '^', c='k',\n",
    "#             markersize=15)"
   ]
  },
  {
   "cell_type": "code",
   "execution_count": 22,
   "metadata": {},
   "outputs": [],
   "source": [
    "# decision threshold\n",
    "# t = len(mcc_ncdb_sel[mcc_ncdb_sel['SLNB'] == 0])/(len(mcc_ncdb_sel[mcc_ncdb_sel['SLNB'] == 0]) + \\\n",
    "#                                                   len(mcc_ncdb_sel[mcc_ncdb_sel['SLNB'] == 1]))\n",
    "# t = 0.56"
   ]
  },
  {
   "cell_type": "code",
   "execution_count": 23,
   "metadata": {},
   "outputs": [
    {
     "name": "stdout",
     "output_type": "stream",
     "text": [
      "test accuracy: 0.6639477977161501\n",
      "test NPV: 0.8872180451127819\n",
      "test Precision: 0.24766355140186916\n",
      "test Recall: 0.5408163265306123\n",
      "test AUC: 0.664612641172974\n",
      "test F1: 0.3397435897435898\n",
      "test AUPR: 0.3353676606393452\n"
     ]
    }
   ],
   "source": [
    "# train a random forest classifier\n",
    "rf = BalancedRandomForestClassifier(\n",
    "                            n_estimators=1033,#1444\n",
    "                            max_depth=6,#9\n",
    "                            max_features = 1,#10\n",
    "                            criterion = 'gini',\n",
    "                            oob_score=True, \n",
    "                            random_state=123) # set seed to ensure reproducibility\n",
    "rf.fit(X_train_sel,y_train_sel.ravel())\n",
    "\n",
    "y_prob_sel = np.asarray(rf.predict_proba(X_test_sel))\n",
    "y_pred_sel = np.asarray(rf.predict(X_test_sel))\n",
    "y_test_sel = np.asarray(y_test_sel)\n",
    "print(\"test accuracy: %s\" % accuracy_score(y_test_sel, y_pred_sel))\n",
    "print(\"test NPV: %s\" % negative_pred_value(y_test_sel, y_pred_sel))\n",
    "print(\"test Precision: %s\" % precision_score(y_test_sel, y_pred_sel))\n",
    "print(\"test Recall: %s\" % recall_score(y_test_sel, y_pred_sel))\n",
    "print(\"test AUC: %s\" % roc_auc_score(y_test_sel, y_prob_sel[:,1]))\n",
    "print(\"test F1: %s\" % f1_score(y_test_sel, y_pred_sel))\n",
    "print(\"test AUPR: %s\" % average_precision_score(y_test_sel, y_prob_sel[:,1]))"
   ]
  },
  {
   "cell_type": "code",
   "execution_count": 24,
   "metadata": {},
   "outputs": [],
   "source": [
    "# y_scores = y_prob_sel[:,1]\n",
    "# p, r, thresholds = precision_recall_curve(y_test_sel, y_scores)\n",
    "# precision_recall_threshold(p, r, thresholds, 0.56)"
   ]
  },
  {
   "cell_type": "code",
   "execution_count": 25,
   "metadata": {},
   "outputs": [
    {
     "data": {
      "image/png": "[encoded data removed]",
      "text/plain": [
       "<Figure size 720x504 with 2 Axes>"
      ]
     },
     "metadata": {},
     "output_type": "display_data"
    }
   ],
   "source": [
    "cm = confusion_matrix(y_test_sel, y_pred_sel)\n",
    "df_cm = pd.DataFrame(cm, index = [i for i in [\"SLNB Negative\",\"SLNB Positive\"]],\n",
    "                  columns = [i for i in [\"SLNB Negative\",\"SLNB Positive\"]])\n",
    "plt.figure(figsize = (10,7))\n",
    "ax = sns.heatmap(df_cm, annot=True, cmap='Blues',square=True, fmt='d').set_title('Confusion matrix: Random Forest')\n",
    "plt.xlabel(\"Predicted\")\n",
    "plt.ylabel(\"True\")\n",
    "plt.show()"
   ]
  },
  {
   "cell_type": "code",
   "execution_count": 29,
   "metadata": {},
   "outputs": [],
   "source": [
    "# pickling model\n",
    "with open(BASE_DIR+'../model/balanced_rf_imputed_binned.pkl', 'wb') as f:\n",
    "    pkl.dump(rf, f)"
   ]
  },
  {
   "cell_type": "code",
   "execution_count": null,
   "metadata": {},
   "outputs": [],
   "source": []
  },
  {
   "cell_type": "markdown",
   "metadata": {},
   "source": [
    "## Try different imputation"
   ]
  },
  {
   "cell_type": "code",
   "execution_count": 41,
   "metadata": {},
   "outputs": [],
   "source": [
    "# read in data\n",
    "mcc_ncdb = pd.read_pickle(BASE_DIR + '../data/Merkel_NCDB_augmented_clean.pkl')\n",
    "# subset of features only\n",
    "mcc_ncdb_sel = mcc_ncdb[['AGE','SEX','PRIMARY_SITE',\n",
    "                        'TUMOR_SIZE', 'DEPTH', \n",
    "                        'LYMPH_VASCULAR_INVASION', \n",
    "                        'TUMOR_INFILTRATING_LYMPHOCYTES',\n",
    "                        'IMMUNE_SUPPRESSION', \n",
    "                        'GROWTH_PATTERN',\n",
    "                        'TUMOR_BASE_TRANSECTION',\n",
    "                        'SLNB'\n",
    "                       ]]\n"
   ]
  },
  {
   "cell_type": "code",
   "execution_count": 42,
   "metadata": {},
   "outputs": [
    {
     "data": {
      "text/html": [
       "<div>\n",
       "<style scoped>\n",
       "    .dataframe tbody tr th:only-of-type {\n",
       "        vertical-align: middle;\n",
       "    }\n",
       "\n",
       "    .dataframe tbody tr th {\n",
       "        vertical-align: top;\n",
       "    }\n",
       "\n",
       "    .dataframe thead th {\n",
       "        text-align: right;\n",
       "    }\n",
       "</style>\n",
       "<table border=\"1\" class=\"dataframe\">\n",
       "  <thead>\n",
       "    <tr style=\"text-align: right;\">\n",
       "      <th></th>\n",
       "      <th>AGE</th>\n",
       "      <th>SEX</th>\n",
       "      <th>PRIMARY_SITE</th>\n",
       "      <th>TUMOR_SIZE</th>\n",
       "      <th>DEPTH</th>\n",
       "      <th>LYMPH_VASCULAR_INVASION</th>\n",
       "      <th>TUMOR_INFILTRATING_LYMPHOCYTES</th>\n",
       "      <th>IMMUNE_SUPPRESSION</th>\n",
       "      <th>GROWTH_PATTERN</th>\n",
       "      <th>TUMOR_BASE_TRANSECTION</th>\n",
       "      <th>SLNB</th>\n",
       "    </tr>\n",
       "  </thead>\n",
       "  <tbody>\n",
       "    <tr>\n",
       "      <th>8</th>\n",
       "      <td>71</td>\n",
       "      <td>1</td>\n",
       "      <td>C444</td>\n",
       "      <td>10</td>\n",
       "      <td>999.0</td>\n",
       "      <td>0</td>\n",
       "      <td>999</td>\n",
       "      <td>999</td>\n",
       "      <td>999</td>\n",
       "      <td>999</td>\n",
       "      <td>0.0</td>\n",
       "    </tr>\n",
       "    <tr>\n",
       "      <th>12</th>\n",
       "      <td>87</td>\n",
       "      <td>1</td>\n",
       "      <td>C447</td>\n",
       "      <td>999</td>\n",
       "      <td>999.0</td>\n",
       "      <td>9</td>\n",
       "      <td>999</td>\n",
       "      <td>999</td>\n",
       "      <td>999</td>\n",
       "      <td>999</td>\n",
       "      <td>1.0</td>\n",
       "    </tr>\n",
       "    <tr>\n",
       "      <th>14</th>\n",
       "      <td>43</td>\n",
       "      <td>1</td>\n",
       "      <td>C443</td>\n",
       "      <td>2</td>\n",
       "      <td>10.0</td>\n",
       "      <td>9</td>\n",
       "      <td>0</td>\n",
       "      <td>0</td>\n",
       "      <td>999</td>\n",
       "      <td>20</td>\n",
       "      <td>0.0</td>\n",
       "    </tr>\n",
       "    <tr>\n",
       "      <th>19</th>\n",
       "      <td>59</td>\n",
       "      <td>2</td>\n",
       "      <td>C447</td>\n",
       "      <td>25</td>\n",
       "      <td>50.0</td>\n",
       "      <td>0</td>\n",
       "      <td>999</td>\n",
       "      <td>999</td>\n",
       "      <td>999</td>\n",
       "      <td>999</td>\n",
       "      <td>0.0</td>\n",
       "    </tr>\n",
       "    <tr>\n",
       "      <th>21</th>\n",
       "      <td>75</td>\n",
       "      <td>2</td>\n",
       "      <td>C446</td>\n",
       "      <td>30</td>\n",
       "      <td>999.0</td>\n",
       "      <td>9</td>\n",
       "      <td>999</td>\n",
       "      <td>999</td>\n",
       "      <td>999</td>\n",
       "      <td>999</td>\n",
       "      <td>1.0</td>\n",
       "    </tr>\n",
       "  </tbody>\n",
       "</table>\n",
       "</div>"
      ],
      "text/plain": [
       "    AGE  SEX PRIMARY_SITE  TUMOR_SIZE  DEPTH LYMPH_VASCULAR_INVASION  \\\n",
       "8    71    1         C444          10  999.0                       0   \n",
       "12   87    1         C447         999  999.0                       9   \n",
       "14   43    1         C443           2   10.0                       9   \n",
       "19   59    2         C447          25   50.0                       0   \n",
       "21   75    2         C446          30  999.0                       9   \n",
       "\n",
       "   TUMOR_INFILTRATING_LYMPHOCYTES IMMUNE_SUPPRESSION GROWTH_PATTERN  \\\n",
       "8                             999                999            999   \n",
       "12                            999                999            999   \n",
       "14                              0                  0            999   \n",
       "19                            999                999            999   \n",
       "21                            999                999            999   \n",
       "\n",
       "   TUMOR_BASE_TRANSECTION  SLNB  \n",
       "8                     999   0.0  \n",
       "12                    999   1.0  \n",
       "14                     20   0.0  \n",
       "19                    999   0.0  \n",
       "21                    999   1.0  "
      ]
     },
     "execution_count": 42,
     "metadata": {},
     "output_type": "execute_result"
    }
   ],
   "source": [
    "mcc_ncdb_sel.head()"
   ]
  },
  {
   "cell_type": "code",
   "execution_count": 43,
   "metadata": {},
   "outputs": [
    {
     "data": {
      "text/plain": [
       "999.0    7217\n",
       "10.0     1159\n",
       "20.0      988\n",
       "0.0       526\n",
       "Name: TUMOR_BASE_TRANSECTION, dtype: int64"
      ]
     },
     "execution_count": 43,
     "metadata": {},
     "output_type": "execute_result"
    }
   ],
   "source": [
    "mcc_ncdb_sel['TUMOR_BASE_TRANSECTION'].value_counts()"
   ]
  },
  {
   "cell_type": "code",
   "execution_count": 44,
   "metadata": {},
   "outputs": [
    {
     "name": "stderr",
     "output_type": "stream",
     "text": [
      "/Users/yanrongji/anaconda3/envs/insight/lib/python3.7/site-packages/ipykernel_launcher.py:3: SettingWithCopyWarning: \n",
      "A value is trying to be set on a copy of a slice from a DataFrame.\n",
      "Try using .loc[row_indexer,col_indexer] = value instead\n",
      "\n",
      "See the caveats in the documentation: https://pandas.pydata.org/pandas-docs/stable/user_guide/indexing.html#returning-a-view-versus-a-copy\n",
      "  This is separate from the ipykernel package so we can avoid doing imports until\n",
      "/Users/yanrongji/anaconda3/envs/insight/lib/python3.7/site-packages/ipykernel_launcher.py:17: SettingWithCopyWarning: \n",
      "A value is trying to be set on a copy of a slice from a DataFrame.\n",
      "Try using .loc[row_indexer,col_indexer] = value instead\n",
      "\n",
      "See the caveats in the documentation: https://pandas.pydata.org/pandas-docs/stable/user_guide/indexing.html#returning-a-view-versus-a-copy\n",
      "/Users/yanrongji/anaconda3/envs/insight/lib/python3.7/site-packages/ipykernel_launcher.py:23: SettingWithCopyWarning: \n",
      "A value is trying to be set on a copy of a slice from a DataFrame.\n",
      "Try using .loc[row_indexer,col_indexer] = value instead\n",
      "\n",
      "See the caveats in the documentation: https://pandas.pydata.org/pandas-docs/stable/user_guide/indexing.html#returning-a-view-versus-a-copy\n",
      "/Users/yanrongji/anaconda3/envs/insight/lib/python3.7/site-packages/ipykernel_launcher.py:31: SettingWithCopyWarning: \n",
      "A value is trying to be set on a copy of a slice from a DataFrame.\n",
      "Try using .loc[row_indexer,col_indexer] = value instead\n",
      "\n",
      "See the caveats in the documentation: https://pandas.pydata.org/pandas-docs/stable/user_guide/indexing.html#returning-a-view-versus-a-copy\n",
      "/Users/yanrongji/anaconda3/envs/insight/lib/python3.7/site-packages/ipykernel_launcher.py:44: SettingWithCopyWarning: \n",
      "A value is trying to be set on a copy of a slice from a DataFrame.\n",
      "Try using .loc[row_indexer,col_indexer] = value instead\n",
      "\n",
      "See the caveats in the documentation: https://pandas.pydata.org/pandas-docs/stable/user_guide/indexing.html#returning-a-view-versus-a-copy\n",
      "/Users/yanrongji/anaconda3/envs/insight/lib/python3.7/site-packages/ipykernel_launcher.py:49: SettingWithCopyWarning: \n",
      "A value is trying to be set on a copy of a slice from a DataFrame.\n",
      "Try using .loc[row_indexer,col_indexer] = value instead\n",
      "\n",
      "See the caveats in the documentation: https://pandas.pydata.org/pandas-docs/stable/user_guide/indexing.html#returning-a-view-versus-a-copy\n",
      "/Users/yanrongji/anaconda3/envs/insight/lib/python3.7/site-packages/ipykernel_launcher.py:55: SettingWithCopyWarning: \n",
      "A value is trying to be set on a copy of a slice from a DataFrame.\n",
      "Try using .loc[row_indexer,col_indexer] = value instead\n",
      "\n",
      "See the caveats in the documentation: https://pandas.pydata.org/pandas-docs/stable/user_guide/indexing.html#returning-a-view-versus-a-copy\n"
     ]
    }
   ],
   "source": [
    "# binning the categories\n",
    "mcc_ncdb_sel['SEX'] = mcc_ncdb_sel['SEX'].replace([1, 2],\n",
    "                                                ['Male', 'Female']\n",
    "                                               )\n",
    "mcc_ncdb_sel['PRIMARY_SITE'] = mcc_ncdb_sel['PRIMARY_SITE'].replace(['C440','C441','C442','C443',\n",
    "                                                                     'C444','C445','C446','C447',\n",
    "                                                                     'C448','C449'],\n",
    "                                                                    ['Head_and_Neck',\n",
    "                                                                     'Head_and_Neck',\n",
    "                                                                     'Head_and_Neck',\n",
    "                                                                     'Other',\n",
    "                                                                     'Head_and_Neck',\n",
    "                                                                     'Trunk',\n",
    "                                                                     'Extremity',\n",
    "                                                                     'Extremity',\n",
    "                                                                     'Other',\n",
    "                                                                     'Other']\n",
    "                                                                   )\n",
    "mcc_ncdb_sel['LYMPH_VASCULAR_INVASION'] = mcc_ncdb_sel['LYMPH_VASCULAR_INVASION'].replace([0, 1, 8, 9],\n",
    "                                                                                          ['No',\n",
    "                                                                                           'Yes',\n",
    "                                                                                           'Unknown',\n",
    "                                                                                           'Unknown'\n",
    "                                                                                          ])\n",
    "mcc_ncdb_sel['TUMOR_INFILTRATING_LYMPHOCYTES'] = mcc_ncdb_sel['TUMOR_INFILTRATING_LYMPHOCYTES'].replace(\n",
    "                                                                                          [0, 1, 20, 30, 999],\n",
    "                                                                                          ['Negative',\n",
    "                                                                                           'Weak',\n",
    "                                                                                           'Strong',\n",
    "                                                                                           'Present',\n",
    "                                                                                           'Unknown'\n",
    "                                                                                          ])\n",
    "mcc_ncdb_sel['IMMUNE_SUPPRESSION'] = mcc_ncdb_sel['IMMUNE_SUPPRESSION'].replace(\n",
    "                                                                              [0, 1, 20, 30, 40,\n",
    "                                                                               50, 60, 70, 999],\n",
    "                                                                              ['Negative',\n",
    "                                                                               'Positive',\n",
    "                                                                               'Positive',\n",
    "                                                                               'Positive',\n",
    "                                                                               'Positive',\n",
    "                                                                               'Positive',\n",
    "                                                                               'Positive',\n",
    "                                                                               'Positive',\n",
    "                                                                               'Unknown'\n",
    "                                                                              ])\n",
    "mcc_ncdb_sel['GROWTH_PATTERN'] = mcc_ncdb_sel['GROWTH_PATTERN'].replace([1, 20, 999],\n",
    "                                                                          ['Circumscribed_nodular',\n",
    "                                                                           'Diffusely_infiltrative',\n",
    "                                                                           'Unknown'])\n",
    "\n",
    "mcc_ncdb_sel['TUMOR_BASE_TRANSECTION'] = mcc_ncdb_sel['TUMOR_BASE_TRANSECTION'].replace([0, 1, 20, 999],\n",
    "                                                                                          ['Not_found',\n",
    "                                                                                           'Transected',\n",
    "                                                                                           'Not_transected',\n",
    "                                                                                           'Unknown'\n",
    "                                                                                          ])"
   ]
  },
  {
   "cell_type": "code",
   "execution_count": 45,
   "metadata": {},
   "outputs": [],
   "source": [
    "# store a copy\n",
    "mcc_ncdb_sel_cp = deepcopy(mcc_ncdb_sel)"
   ]
  },
  {
   "cell_type": "markdown",
   "metadata": {},
   "source": [
    "## Imputing DEPTH and TUMOR_SIZE using kNN"
   ]
  },
  {
   "cell_type": "code",
   "execution_count": 46,
   "metadata": {},
   "outputs": [
    {
     "name": "stderr",
     "output_type": "stream",
     "text": [
      "/Users/yanrongji/anaconda3/envs/insight/lib/python3.7/site-packages/ipykernel_launcher.py:1: SettingWithCopyWarning: \n",
      "A value is trying to be set on a copy of a slice from a DataFrame.\n",
      "Try using .loc[row_indexer,col_indexer] = value instead\n",
      "\n",
      "See the caveats in the documentation: https://pandas.pydata.org/pandas-docs/stable/user_guide/indexing.html#returning-a-view-versus-a-copy\n",
      "  \"\"\"Entry point for launching an IPython kernel.\n",
      "/Users/yanrongji/anaconda3/envs/insight/lib/python3.7/site-packages/ipykernel_launcher.py:2: SettingWithCopyWarning: \n",
      "A value is trying to be set on a copy of a slice from a DataFrame.\n",
      "Try using .loc[row_indexer,col_indexer] = value instead\n",
      "\n",
      "See the caveats in the documentation: https://pandas.pydata.org/pandas-docs/stable/user_guide/indexing.html#returning-a-view-versus-a-copy\n",
      "  \n"
     ]
    }
   ],
   "source": [
    "mcc_ncdb_sel['DEPTH'] = mcc_ncdb_sel['DEPTH'].replace([999],np.NaN)\n",
    "mcc_ncdb_sel['TUMOR_SIZE'] = mcc_ncdb_sel['TUMOR_SIZE'].replace([999],np.NaN)"
   ]
  },
  {
   "cell_type": "code",
   "execution_count": 47,
   "metadata": {},
   "outputs": [
    {
     "data": {
      "text/html": [
       "<div>\n",
       "<style scoped>\n",
       "    .dataframe tbody tr th:only-of-type {\n",
       "        vertical-align: middle;\n",
       "    }\n",
       "\n",
       "    .dataframe tbody tr th {\n",
       "        vertical-align: top;\n",
       "    }\n",
       "\n",
       "    .dataframe thead th {\n",
       "        text-align: right;\n",
       "    }\n",
       "</style>\n",
       "<table border=\"1\" class=\"dataframe\">\n",
       "  <thead>\n",
       "    <tr style=\"text-align: right;\">\n",
       "      <th></th>\n",
       "      <th>AGE</th>\n",
       "      <th>SEX</th>\n",
       "      <th>PRIMARY_SITE</th>\n",
       "      <th>TUMOR_SIZE</th>\n",
       "      <th>DEPTH</th>\n",
       "      <th>LYMPH_VASCULAR_INVASION</th>\n",
       "      <th>TUMOR_INFILTRATING_LYMPHOCYTES</th>\n",
       "      <th>IMMUNE_SUPPRESSION</th>\n",
       "      <th>GROWTH_PATTERN</th>\n",
       "      <th>TUMOR_BASE_TRANSECTION</th>\n",
       "      <th>SLNB</th>\n",
       "    </tr>\n",
       "  </thead>\n",
       "  <tbody>\n",
       "    <tr>\n",
       "      <th>8</th>\n",
       "      <td>71</td>\n",
       "      <td>Male</td>\n",
       "      <td>Head_and_Neck</td>\n",
       "      <td>10.0</td>\n",
       "      <td>NaN</td>\n",
       "      <td>No</td>\n",
       "      <td>Unknown</td>\n",
       "      <td>Unknown</td>\n",
       "      <td>Unknown</td>\n",
       "      <td>Unknown</td>\n",
       "      <td>0.0</td>\n",
       "    </tr>\n",
       "    <tr>\n",
       "      <th>12</th>\n",
       "      <td>87</td>\n",
       "      <td>Male</td>\n",
       "      <td>Extremity</td>\n",
       "      <td>NaN</td>\n",
       "      <td>NaN</td>\n",
       "      <td>Unknown</td>\n",
       "      <td>Unknown</td>\n",
       "      <td>Unknown</td>\n",
       "      <td>Unknown</td>\n",
       "      <td>Unknown</td>\n",
       "      <td>1.0</td>\n",
       "    </tr>\n",
       "    <tr>\n",
       "      <th>14</th>\n",
       "      <td>43</td>\n",
       "      <td>Male</td>\n",
       "      <td>Other</td>\n",
       "      <td>2.0</td>\n",
       "      <td>10.0</td>\n",
       "      <td>Unknown</td>\n",
       "      <td>Negative</td>\n",
       "      <td>Negative</td>\n",
       "      <td>Unknown</td>\n",
       "      <td>Not_transected</td>\n",
       "      <td>0.0</td>\n",
       "    </tr>\n",
       "    <tr>\n",
       "      <th>19</th>\n",
       "      <td>59</td>\n",
       "      <td>Female</td>\n",
       "      <td>Extremity</td>\n",
       "      <td>25.0</td>\n",
       "      <td>50.0</td>\n",
       "      <td>No</td>\n",
       "      <td>Unknown</td>\n",
       "      <td>Unknown</td>\n",
       "      <td>Unknown</td>\n",
       "      <td>Unknown</td>\n",
       "      <td>0.0</td>\n",
       "    </tr>\n",
       "    <tr>\n",
       "      <th>21</th>\n",
       "      <td>75</td>\n",
       "      <td>Female</td>\n",
       "      <td>Extremity</td>\n",
       "      <td>30.0</td>\n",
       "      <td>NaN</td>\n",
       "      <td>Unknown</td>\n",
       "      <td>Unknown</td>\n",
       "      <td>Unknown</td>\n",
       "      <td>Unknown</td>\n",
       "      <td>Unknown</td>\n",
       "      <td>1.0</td>\n",
       "    </tr>\n",
       "  </tbody>\n",
       "</table>\n",
       "</div>"
      ],
      "text/plain": [
       "    AGE     SEX   PRIMARY_SITE  TUMOR_SIZE  DEPTH LYMPH_VASCULAR_INVASION  \\\n",
       "8    71    Male  Head_and_Neck        10.0    NaN                      No   \n",
       "12   87    Male      Extremity         NaN    NaN                 Unknown   \n",
       "14   43    Male          Other         2.0   10.0                 Unknown   \n",
       "19   59  Female      Extremity        25.0   50.0                      No   \n",
       "21   75  Female      Extremity        30.0    NaN                 Unknown   \n",
       "\n",
       "   TUMOR_INFILTRATING_LYMPHOCYTES IMMUNE_SUPPRESSION GROWTH_PATTERN  \\\n",
       "8                         Unknown            Unknown        Unknown   \n",
       "12                        Unknown            Unknown        Unknown   \n",
       "14                       Negative           Negative        Unknown   \n",
       "19                        Unknown            Unknown        Unknown   \n",
       "21                        Unknown            Unknown        Unknown   \n",
       "\n",
       "   TUMOR_BASE_TRANSECTION  SLNB  \n",
       "8                 Unknown   0.0  \n",
       "12                Unknown   1.0  \n",
       "14         Not_transected   0.0  \n",
       "19                Unknown   0.0  \n",
       "21                Unknown   1.0  "
      ]
     },
     "execution_count": 47,
     "metadata": {},
     "output_type": "execute_result"
    }
   ],
   "source": [
    "mcc_ncdb_sel.head()"
   ]
  },
  {
   "cell_type": "code",
   "execution_count": 48,
   "metadata": {},
   "outputs": [],
   "source": [
    "mcc_ncdb_sel = pd.get_dummies(mcc_ncdb_sel)\n",
    "X_sel = np.array(mcc_ncdb_sel.loc[:, mcc_ncdb_sel.columns != 'SLNB'])\n",
    "y_sel = np.array(mcc_ncdb_sel.loc[:, mcc_ncdb_sel.columns == 'SLNB'])\n",
    "# impute by KNN\n",
    "imputer = KNNImputer()\n",
    "X_sel = imputer.fit_transform(X_sel).round()\n",
    "# split data\n",
    "X_train_sel, X_test_sel, y_train_sel, y_test_sel = train_test_split(X_sel, y_sel, \n",
    "                                                                test_size = 0.1, \n",
    "                                                                random_state = 123) # set seed to ensure reproducibility"
   ]
  },
  {
   "cell_type": "code",
   "execution_count": 49,
   "metadata": {},
   "outputs": [
    {
     "data": {
      "text/plain": [
       "Index(['AGE', 'TUMOR_SIZE', 'DEPTH', 'SLNB', 'SEX_Female', 'SEX_Male',\n",
       "       'PRIMARY_SITE_Extremity', 'PRIMARY_SITE_Head_and_Neck',\n",
       "       'PRIMARY_SITE_Other', 'PRIMARY_SITE_Trunk',\n",
       "       'LYMPH_VASCULAR_INVASION_No', 'LYMPH_VASCULAR_INVASION_Unknown',\n",
       "       'LYMPH_VASCULAR_INVASION_Yes', 'TUMOR_INFILTRATING_LYMPHOCYTES_10.0',\n",
       "       'TUMOR_INFILTRATING_LYMPHOCYTES_Negative',\n",
       "       'TUMOR_INFILTRATING_LYMPHOCYTES_Present',\n",
       "       'TUMOR_INFILTRATING_LYMPHOCYTES_Strong',\n",
       "       'TUMOR_INFILTRATING_LYMPHOCYTES_Unknown', 'IMMUNE_SUPPRESSION_10.0',\n",
       "       'IMMUNE_SUPPRESSION_Negative', 'IMMUNE_SUPPRESSION_Positive',\n",
       "       'IMMUNE_SUPPRESSION_Unknown', 'GROWTH_PATTERN_10.0',\n",
       "       'GROWTH_PATTERN_Diffusely_infiltrative', 'GROWTH_PATTERN_Unknown',\n",
       "       'TUMOR_BASE_TRANSECTION_10.0', 'TUMOR_BASE_TRANSECTION_Not_found',\n",
       "       'TUMOR_BASE_TRANSECTION_Not_transected',\n",
       "       'TUMOR_BASE_TRANSECTION_Unknown'],\n",
       "      dtype='object')"
      ]
     },
     "execution_count": 49,
     "metadata": {},
     "output_type": "execute_result"
    }
   ],
   "source": [
    "mcc_ncdb_sel.columns"
   ]
  },
  {
   "cell_type": "code",
   "execution_count": 50,
   "metadata": {},
   "outputs": [],
   "source": [
    "# save imputer\n",
    "with open(BASE_DIR+'../model/knn_imputer_augmented.pkl', 'wb') as f:\n",
    "    pkl.dump(imputer, f)"
   ]
  },
  {
   "cell_type": "code",
   "execution_count": 51,
   "metadata": {},
   "outputs": [],
   "source": [
    "mcc_ncdb_sel = pd.DataFrame(np.concatenate([X_sel[:,:3],y_sel,X_sel[:,3:]], axis=1), columns=mcc_ncdb_sel.columns)\n",
    "mcc_ncdb_sel_notencoded = mcc_ncdb_sel_cp\n",
    "mcc_ncdb_sel_notencoded['DEPTH'] = mcc_ncdb_sel['DEPTH']\n",
    "mcc_ncdb_sel_notencoded['TUMOR_SIZE'] = mcc_ncdb_sel['TUMOR_SIZE']"
   ]
  },
  {
   "cell_type": "code",
   "execution_count": 52,
   "metadata": {},
   "outputs": [],
   "source": [
    "# save cleaned data\n",
    "mcc_ncdb_sel.to_csv(BASE_DIR+\"../data/Merkel_NCDB_augmented_clean_selectedVars_encoded_imputed.csv\")\n",
    "mcc_ncdb_sel.to_pickle(BASE_DIR+\"../data/Merkel_NCDB_augmented_clean_selectedVars_encoded_imputed.pkl\")\n",
    "mcc_ncdb_sel_notencoded.to_csv(BASE_DIR+\"../data/Merkel_NCDB_augmented_clean_selectedVars_imputed.csv\")\n",
    "mcc_ncdb_sel_notencoded.to_pickle(BASE_DIR+\"../data/Merkel_NCDB_augmented_clean_selectedVars_imputed.pkl\")"
   ]
  },
  {
   "cell_type": "code",
   "execution_count": 53,
   "metadata": {},
   "outputs": [
    {
     "data": {
      "text/plain": [
       "(8901, 28)"
      ]
     },
     "execution_count": 53,
     "metadata": {},
     "output_type": "execute_result"
    }
   ],
   "source": [
    "X_train_sel.shape"
   ]
  },
  {
   "cell_type": "code",
   "execution_count": 54,
   "metadata": {},
   "outputs": [
    {
     "data": {
      "text/plain": [
       "Index(['AGE', 'TUMOR_SIZE', 'DEPTH', 'SLNB', 'SEX_Female', 'SEX_Male',\n",
       "       'PRIMARY_SITE_Extremity', 'PRIMARY_SITE_Head_and_Neck',\n",
       "       'PRIMARY_SITE_Other', 'PRIMARY_SITE_Trunk',\n",
       "       'LYMPH_VASCULAR_INVASION_No', 'LYMPH_VASCULAR_INVASION_Unknown',\n",
       "       'LYMPH_VASCULAR_INVASION_Yes', 'TUMOR_INFILTRATING_LYMPHOCYTES_10.0',\n",
       "       'TUMOR_INFILTRATING_LYMPHOCYTES_Negative',\n",
       "       'TUMOR_INFILTRATING_LYMPHOCYTES_Present',\n",
       "       'TUMOR_INFILTRATING_LYMPHOCYTES_Strong',\n",
       "       'TUMOR_INFILTRATING_LYMPHOCYTES_Unknown', 'IMMUNE_SUPPRESSION_10.0',\n",
       "       'IMMUNE_SUPPRESSION_Negative', 'IMMUNE_SUPPRESSION_Positive',\n",
       "       'IMMUNE_SUPPRESSION_Unknown', 'GROWTH_PATTERN_10.0',\n",
       "       'GROWTH_PATTERN_Diffusely_infiltrative', 'GROWTH_PATTERN_Unknown',\n",
       "       'TUMOR_BASE_TRANSECTION_10.0', 'TUMOR_BASE_TRANSECTION_Not_found',\n",
       "       'TUMOR_BASE_TRANSECTION_Not_transected',\n",
       "       'TUMOR_BASE_TRANSECTION_Unknown'],\n",
       "      dtype='object')"
      ]
     },
     "execution_count": 54,
     "metadata": {},
     "output_type": "execute_result"
    }
   ],
   "source": [
    "mcc_ncdb_sel.columns"
   ]
  },
  {
   "cell_type": "code",
   "execution_count": 55,
   "metadata": {},
   "outputs": [
    {
     "name": "stdout",
     "output_type": "stream",
     "text": [
      "test accuracy: 0.6329625884732053\n",
      "test NPV: 0.8062283737024222\n",
      "test Precision: 0.38929440389294406\n",
      "test Recall: 0.5882352941176471\n",
      "test AUC: 0.6765885224382641\n",
      "test F1: 0.4685212298682284\n",
      "test AUPR: 0.43203071532291437\n"
     ]
    }
   ],
   "source": [
    "# train a random forest classifier\n",
    "rf = BalancedRandomForestClassifier(\n",
    "                            n_estimators=1000,\n",
    "                            max_depth=50,\n",
    "                            max_features = 7,\n",
    "                            oob_score=True, \n",
    "                            random_state=123) # set seed to ensure reproducibility\n",
    "rf.fit(X_train_sel,y_train_sel.ravel())\n",
    "y_prob_sel = np.asarray(rf.predict_proba(X_test_sel))\n",
    "y_pred_sel = np.asarray(rf.predict(X_test_sel))\n",
    "y_test_sel = np.asarray(y_test_sel)\n",
    "print(\"test accuracy: %s\" % accuracy_score(y_test_sel, y_pred_sel))\n",
    "print(\"test NPV: %s\" % negative_pred_value(y_test_sel, y_pred_sel))\n",
    "print(\"test Precision: %s\" % precision_score(y_test_sel, y_pred_sel))\n",
    "print(\"test Recall: %s\" % recall_score(y_test_sel, y_pred_sel))\n",
    "print(\"test AUC: %s\" % roc_auc_score(y_test_sel, y_prob_sel[:,1]))\n",
    "print(\"test F1: %s\" % f1_score(y_test_sel, y_pred_sel))\n",
    "print(\"test AUPR: %s\" % average_precision_score(y_test_sel, y_prob_sel[:,1]))"
   ]
  },
  {
   "cell_type": "code",
   "execution_count": 56,
   "metadata": {},
   "outputs": [
    {
     "name": "stdout",
     "output_type": "stream",
     "text": [
      "Fitting 5 folds for each of 1 candidates, totalling 5 fits\n"
     ]
    },
    {
     "name": "stderr",
     "output_type": "stream",
     "text": [
      "[Parallel(n_jobs=6)]: Using backend LokyBackend with 6 concurrent workers.\n",
      "[Parallel(n_jobs=6)]: Done   2 out of   5 | elapsed:   41.7s remaining:  1.0min\n",
      "[Parallel(n_jobs=6)]: Done   5 out of   5 | elapsed:   42.2s finished\n",
      "[Parallel(n_jobs=6)]: Using backend LokyBackend with 6 concurrent workers.\n"
     ]
    },
    {
     "name": "stdout",
     "output_type": "stream",
     "text": [
      "best score: 0.4757765769348422\n",
      "Fitting 5 folds for each of 1 candidates, totalling 5 fits\n"
     ]
    },
    {
     "name": "stderr",
     "output_type": "stream",
     "text": [
      "[Parallel(n_jobs=6)]: Done   2 out of   5 | elapsed:   32.8s remaining:   49.2s\n",
      "[Parallel(n_jobs=6)]: Done   5 out of   5 | elapsed:   34.0s finished\n",
      "[Parallel(n_jobs=6)]: Using backend LokyBackend with 6 concurrent workers.\n"
     ]
    },
    {
     "name": "stdout",
     "output_type": "stream",
     "text": [
      "best score: 0.49073822526665467\n",
      "Fitting 5 folds for each of 1 candidates, totalling 5 fits\n"
     ]
    },
    {
     "name": "stderr",
     "output_type": "stream",
     "text": [
      "[Parallel(n_jobs=6)]: Done   2 out of   5 | elapsed:    6.9s remaining:   10.3s\n",
      "[Parallel(n_jobs=6)]: Done   5 out of   5 | elapsed:    6.9s finished\n",
      "[Parallel(n_jobs=6)]: Using backend LokyBackend with 6 concurrent workers.\n"
     ]
    },
    {
     "name": "stdout",
     "output_type": "stream",
     "text": [
      "best score: 0.49073822526665467\n",
      "Fitting 5 folds for each of 1 candidates, totalling 5 fits\n"
     ]
    },
    {
     "name": "stderr",
     "output_type": "stream",
     "text": [
      "[Parallel(n_jobs=6)]: Done   2 out of   5 | elapsed:   22.3s remaining:   33.5s\n",
      "[Parallel(n_jobs=6)]: Done   5 out of   5 | elapsed:   22.7s finished\n",
      "[Parallel(n_jobs=6)]: Using backend LokyBackend with 6 concurrent workers.\n"
     ]
    },
    {
     "name": "stdout",
     "output_type": "stream",
     "text": [
      "best score: 0.49073822526665467\n",
      "Fitting 5 folds for each of 1 candidates, totalling 5 fits\n"
     ]
    },
    {
     "name": "stderr",
     "output_type": "stream",
     "text": [
      "[Parallel(n_jobs=6)]: Done   2 out of   5 | elapsed:   34.1s remaining:   51.1s\n",
      "[Parallel(n_jobs=6)]: Done   5 out of   5 | elapsed:   34.5s finished\n",
      "[Parallel(n_jobs=6)]: Using backend LokyBackend with 6 concurrent workers.\n"
     ]
    },
    {
     "name": "stdout",
     "output_type": "stream",
     "text": [
      "best score: 0.49073822526665467\n",
      "Fitting 5 folds for each of 1 candidates, totalling 5 fits\n"
     ]
    },
    {
     "name": "stderr",
     "output_type": "stream",
     "text": [
      "[Parallel(n_jobs=6)]: Done   2 out of   5 | elapsed:   50.2s remaining:  1.3min\n",
      "[Parallel(n_jobs=6)]: Done   5 out of   5 | elapsed:   50.4s finished\n"
     ]
    },
    {
     "name": "stdout",
     "output_type": "stream",
     "text": [
      "best score: 0.49073822526665467\n",
      "Fitting 5 folds for each of 1 candidates, totalling 5 fits\n"
     ]
    },
    {
     "name": "stderr",
     "output_type": "stream",
     "text": [
      "[Parallel(n_jobs=6)]: Using backend LokyBackend with 6 concurrent workers.\n",
      "[Parallel(n_jobs=6)]: Done   2 out of   5 | elapsed:    5.4s remaining:    8.1s\n",
      "[Parallel(n_jobs=6)]: Done   5 out of   5 | elapsed:    5.5s finished\n"
     ]
    },
    {
     "name": "stdout",
     "output_type": "stream",
     "text": [
      "best score: 0.49073822526665467\n",
      "Fitting 5 folds for each of 1 candidates, totalling 5 fits\n"
     ]
    },
    {
     "name": "stderr",
     "output_type": "stream",
     "text": [
      "[Parallel(n_jobs=6)]: Using backend LokyBackend with 6 concurrent workers.\n",
      "[Parallel(n_jobs=6)]: Done   2 out of   5 | elapsed:   34.6s remaining:   51.9s\n",
      "[Parallel(n_jobs=6)]: Done   5 out of   5 | elapsed:   34.8s finished\n"
     ]
    },
    {
     "name": "stdout",
     "output_type": "stream",
     "text": [
      "best score: 0.49073822526665467\n",
      "Fitting 5 folds for each of 1 candidates, totalling 5 fits\n"
     ]
    },
    {
     "name": "stderr",
     "output_type": "stream",
     "text": [
      "[Parallel(n_jobs=6)]: Using backend LokyBackend with 6 concurrent workers.\n",
      "[Parallel(n_jobs=6)]: Done   2 out of   5 | elapsed:   28.9s remaining:   43.4s\n",
      "[Parallel(n_jobs=6)]: Done   5 out of   5 | elapsed:   29.1s finished\n"
     ]
    },
    {
     "name": "stdout",
     "output_type": "stream",
     "text": [
      "best score: 0.49073822526665467\n",
      "Fitting 5 folds for each of 1 candidates, totalling 5 fits\n"
     ]
    },
    {
     "name": "stderr",
     "output_type": "stream",
     "text": [
      "[Parallel(n_jobs=6)]: Using backend LokyBackend with 6 concurrent workers.\n",
      "[Parallel(n_jobs=6)]: Done   2 out of   5 | elapsed:   19.6s remaining:   29.3s\n",
      "[Parallel(n_jobs=6)]: Done   5 out of   5 | elapsed:   19.7s finished\n"
     ]
    },
    {
     "name": "stdout",
     "output_type": "stream",
     "text": [
      "best score: 0.49073822526665467\n",
      "Fitting 5 folds for each of 1 candidates, totalling 5 fits\n"
     ]
    },
    {
     "name": "stderr",
     "output_type": "stream",
     "text": [
      "[Parallel(n_jobs=6)]: Using backend LokyBackend with 6 concurrent workers.\n",
      "[Parallel(n_jobs=6)]: Done   2 out of   5 | elapsed:   13.5s remaining:   20.3s\n",
      "[Parallel(n_jobs=6)]: Done   5 out of   5 | elapsed:   13.7s finished\n"
     ]
    },
    {
     "name": "stdout",
     "output_type": "stream",
     "text": [
      "best score: 0.49073822526665467\n",
      "Fitting 5 folds for each of 1 candidates, totalling 5 fits\n"
     ]
    },
    {
     "name": "stderr",
     "output_type": "stream",
     "text": [
      "[Parallel(n_jobs=6)]: Using backend LokyBackend with 6 concurrent workers.\n",
      "[Parallel(n_jobs=6)]: Done   2 out of   5 | elapsed:    1.3s remaining:    1.9s\n",
      "[Parallel(n_jobs=6)]: Done   5 out of   5 | elapsed:    1.3s finished\n"
     ]
    },
    {
     "name": "stdout",
     "output_type": "stream",
     "text": [
      "best score: 0.49073822526665467\n",
      "Fitting 5 folds for each of 1 candidates, totalling 5 fits\n"
     ]
    },
    {
     "name": "stderr",
     "output_type": "stream",
     "text": [
      "[Parallel(n_jobs=6)]: Using backend LokyBackend with 6 concurrent workers.\n",
      "[Parallel(n_jobs=6)]: Done   2 out of   5 | elapsed:   30.6s remaining:   45.9s\n",
      "[Parallel(n_jobs=6)]: Done   5 out of   5 | elapsed:   30.8s finished\n"
     ]
    },
    {
     "name": "stdout",
     "output_type": "stream",
     "text": [
      "best score: 0.49073822526665467\n",
      "Fitting 5 folds for each of 1 candidates, totalling 5 fits\n"
     ]
    },
    {
     "name": "stderr",
     "output_type": "stream",
     "text": [
      "[Parallel(n_jobs=6)]: Using backend LokyBackend with 6 concurrent workers.\n",
      "[Parallel(n_jobs=6)]: Done   2 out of   5 | elapsed:   57.2s remaining:  1.4min\n",
      "[Parallel(n_jobs=6)]: Done   5 out of   5 | elapsed:   57.4s finished\n"
     ]
    },
    {
     "name": "stdout",
     "output_type": "stream",
     "text": [
      "best score: 0.49073822526665467\n",
      "Fitting 5 folds for each of 1 candidates, totalling 5 fits\n"
     ]
    },
    {
     "name": "stderr",
     "output_type": "stream",
     "text": [
      "[Parallel(n_jobs=6)]: Using backend LokyBackend with 6 concurrent workers.\n",
      "[Parallel(n_jobs=6)]: Done   2 out of   5 | elapsed:   35.3s remaining:   52.9s\n",
      "[Parallel(n_jobs=6)]: Done   5 out of   5 | elapsed:   35.5s finished\n"
     ]
    },
    {
     "name": "stdout",
     "output_type": "stream",
     "text": [
      "best score: 0.49073822526665467\n",
      "Fitting 5 folds for each of 1 candidates, totalling 5 fits\n"
     ]
    },
    {
     "name": "stderr",
     "output_type": "stream",
     "text": [
      "[Parallel(n_jobs=6)]: Using backend LokyBackend with 6 concurrent workers.\n",
      "[Parallel(n_jobs=6)]: Done   2 out of   5 | elapsed:   57.8s remaining:  1.4min\n",
      "[Parallel(n_jobs=6)]: Done   5 out of   5 | elapsed:   58.0s finished\n"
     ]
    },
    {
     "name": "stdout",
     "output_type": "stream",
     "text": [
      "best score: 0.49073822526665467\n",
      "Fitting 5 folds for each of 1 candidates, totalling 5 fits\n"
     ]
    },
    {
     "name": "stderr",
     "output_type": "stream",
     "text": [
      "[Parallel(n_jobs=6)]: Using backend LokyBackend with 6 concurrent workers.\n",
      "[Parallel(n_jobs=6)]: Done   2 out of   5 | elapsed:  1.1min remaining:  1.6min\n",
      "[Parallel(n_jobs=6)]: Done   5 out of   5 | elapsed:  1.1min finished\n"
     ]
    },
    {
     "name": "stdout",
     "output_type": "stream",
     "text": [
      "best score: 0.49073822526665467\n",
      "Fitting 5 folds for each of 1 candidates, totalling 5 fits\n"
     ]
    },
    {
     "name": "stderr",
     "output_type": "stream",
     "text": [
      "[Parallel(n_jobs=6)]: Using backend LokyBackend with 6 concurrent workers.\n",
      "[Parallel(n_jobs=6)]: Done   2 out of   5 | elapsed:    2.0s remaining:    3.0s\n",
      "[Parallel(n_jobs=6)]: Done   5 out of   5 | elapsed:    2.0s finished\n"
     ]
    },
    {
     "name": "stdout",
     "output_type": "stream",
     "text": [
      "best score: 0.49073822526665467\n",
      "Fitting 5 folds for each of 1 candidates, totalling 5 fits\n"
     ]
    },
    {
     "name": "stderr",
     "output_type": "stream",
     "text": [
      "[Parallel(n_jobs=6)]: Using backend LokyBackend with 6 concurrent workers.\n",
      "[Parallel(n_jobs=6)]: Done   2 out of   5 | elapsed:   44.0s remaining:  1.1min\n",
      "[Parallel(n_jobs=6)]: Done   5 out of   5 | elapsed:   45.5s finished\n"
     ]
    },
    {
     "name": "stdout",
     "output_type": "stream",
     "text": [
      "best score: 0.49073822526665467\n",
      "Fitting 5 folds for each of 1 candidates, totalling 5 fits\n"
     ]
    },
    {
     "name": "stderr",
     "output_type": "stream",
     "text": [
      "[Parallel(n_jobs=6)]: Using backend LokyBackend with 6 concurrent workers.\n",
      "[Parallel(n_jobs=6)]: Done   2 out of   5 | elapsed:   28.2s remaining:   42.3s\n",
      "[Parallel(n_jobs=6)]: Done   5 out of   5 | elapsed:   28.5s finished\n"
     ]
    },
    {
     "name": "stdout",
     "output_type": "stream",
     "text": [
      "best score: 0.4927433400189125\n",
      "best parameter set: OrderedDict([('criterion', 'entropy'), ('max_depth', 8), ('max_features', 9), ('n_estimators', 1493)])\n",
      "val. score: 0.4927433400189125\n",
      "test accuracy: 0.6208291203235592\n",
      "test NPV: 0.8379446640316206\n",
      "test Precision: 0.39337474120082816\n",
      "test Recall: 0.6985294117647058\n",
      "test AUC: 0.6984166051357782\n",
      "test F1: 0.5033112582781457\n",
      "test AUPR: 0.46643940164150344\n"
     ]
    }
   ],
   "source": [
    "# RandomForest + Bayesian optimization\n",
    "opt_rf = BayesSearchCV(BalancedRandomForestClassifier(oob_score=True,\n",
    "                                     random_state=123),\n",
    "                       {\n",
    "                        'n_estimators': (100,2000),\n",
    "                        'max_depth': (5, 100),  \n",
    "                        'criterion': ['gini','entropy'],\n",
    "                        'max_features': (1, 27),\n",
    "                       }, \n",
    "                        n_iter = 20, verbose = 5, \n",
    "                       scoring=make_scorer(f1_score),\n",
    "                       n_jobs=6)\n",
    "\n",
    "# callback handler\n",
    "def on_step(optim_result):\n",
    "    score = opt_rf.best_score_\n",
    "    print(\"best score: %s\" % score)\n",
    "#     with open(\"./rf_checkpoint.pkl\", 'wb') as pickle_file:\n",
    "#         pkl.dump(opt_rf, pickle_file)\n",
    "    if score >= 0.5:\n",
    "        print('Interrupting...')\n",
    "        return True\n",
    "    \n",
    "opt_rf.fit(X_train_sel, y_train_sel.ravel(), callback=[on_step])\n",
    "\n",
    "print(\"best parameter set: %s\" % opt_rf.best_params_)\n",
    "print(\"val. score: %s\" % opt_rf.best_score_)\n",
    "# print(\"test score: %s\" % opt_rf.score(X_test, y_test))\n",
    "y_prob_sel = np.asarray(opt_rf.predict_proba(X_test_sel))\n",
    "y_pred_sel = np.asarray(opt_rf.predict(X_test_sel))\n",
    "y_test_sel = np.asarray(y_test_sel)\n",
    "print(\"test accuracy: %s\" % accuracy_score(y_test_sel, y_pred_sel))\n",
    "print(\"test NPV: %s\" % negative_pred_value(y_test_sel, y_pred_sel))\n",
    "print(\"test Precision: %s\" % precision_score(y_test_sel, y_pred_sel))\n",
    "print(\"test Recall: %s\" % recall_score(y_test_sel, y_pred_sel))\n",
    "print(\"test AUC: %s\" % roc_auc_score(y_test_sel, y_prob_sel[:,1]))\n",
    "print(\"test F1: %s\" % f1_score(y_test_sel, y_pred_sel))\n",
    "print(\"test AUPR: %s\" % average_precision_score(y_test_sel, y_prob_sel[:,1]))"
   ]
  },
  {
   "cell_type": "code",
   "execution_count": 21,
   "metadata": {},
   "outputs": [],
   "source": [
    "# def adjusted_classes(y_scores, t):\n",
    "#     \"\"\"\n",
    "#     This function adjusts class predictions based on the prediction threshold (t).\n",
    "#     Will only work for binary classification problems.\n",
    "#     Credit to: https://towardsdatascience.com/fine-tuning-a-classifier-in-scikit-learn-66e048c21e65#:~:text=The%20default%20threshold%20for%20RandomForestClassifier,the%20class%20probabilites%20called%20y_scores%20.\n",
    "#     \"\"\"\n",
    "#     return np.asarray([1 if y >= t else 0 for y in y_scores])\n",
    "\n",
    "# def precision_recall_threshold(p, r, thresholds, t=0.5):\n",
    "#     \"\"\"\n",
    "#     plots the precision recall curve and shows the current value for each\n",
    "#     by identifying the classifier's threshold (t).\n",
    "#     \"\"\"\n",
    "    \n",
    "#     # generate new class predictions based on the adjusted_classes\n",
    "#     # function above and view the resulting confusion matrix.\n",
    "#     y_pred_adj = adjusted_classes(y_scores, t)\n",
    "#     print(pd.DataFrame(confusion_matrix(y_test, y_pred_adj),\n",
    "#                        columns=['pred_neg', 'pred_pos'], \n",
    "#                        index=['neg', 'pos']))\n",
    "    \n",
    "#     # plot the curve\n",
    "#     plt.figure(figsize=(8,8))\n",
    "#     plt.title(\"Precision and Recall curve ^ = current threshold\")\n",
    "#     plt.step(r, p, color='b', alpha=0.2,\n",
    "#              where='post')\n",
    "#     plt.fill_between(r, p, step='post', alpha=0.2,\n",
    "#                      color='b')\n",
    "#     plt.ylim([0.5, 1.01]);\n",
    "#     plt.xlim([0.5, 1.01]);\n",
    "#     plt.xlabel('Recall');\n",
    "#     plt.ylabel('Precision');\n",
    "    \n",
    "#     # plot the current threshold on the line\n",
    "#     close_default_clf = np.argmin(np.abs(thresholds - t))\n",
    "#     plt.plot(r[close_default_clf], p[close_default_clf], '^', c='k',\n",
    "#             markersize=15)"
   ]
  },
  {
   "cell_type": "code",
   "execution_count": 22,
   "metadata": {},
   "outputs": [],
   "source": [
    "# decision threshold\n",
    "# t = len(mcc_ncdb_sel[mcc_ncdb_sel['SLNB'] == 0])/(len(mcc_ncdb_sel[mcc_ncdb_sel['SLNB'] == 0]) + \\\n",
    "#                                                   len(mcc_ncdb_sel[mcc_ncdb_sel['SLNB'] == 1]))\n",
    "# t = 0.56"
   ]
  },
  {
   "cell_type": "code",
   "execution_count": 57,
   "metadata": {},
   "outputs": [
    {
     "name": "stdout",
     "output_type": "stream",
     "text": [
      "test accuracy: 0.6208291203235592\n",
      "test NPV: 0.8379446640316206\n",
      "test Precision: 0.39337474120082816\n",
      "test Recall: 0.6985294117647058\n",
      "test AUC: 0.6984166051357782\n",
      "test F1: 0.5033112582781457\n",
      "test AUPR: 0.46643940164150344\n"
     ]
    }
   ],
   "source": [
    "# train a random forest classifier\n",
    "rf = BalancedRandomForestClassifier(\n",
    "                            n_estimators=1493,#1444, 1961\n",
    "                            max_depth=8,#9, 6\n",
    "                            max_features = 9,#10, 4\n",
    "                            criterion = 'entropy',\n",
    "                            oob_score=True, \n",
    "                            random_state=123) # set seed to ensure reproducibility\n",
    "rf.fit(X_train_sel,y_train_sel.ravel())\n",
    "\n",
    "y_prob_sel = np.asarray(rf.predict_proba(X_test_sel))\n",
    "y_pred_sel = np.asarray(rf.predict(X_test_sel))\n",
    "y_test_sel = np.asarray(y_test_sel)\n",
    "print(\"test accuracy: %s\" % accuracy_score(y_test_sel, y_pred_sel))\n",
    "print(\"test NPV: %s\" % negative_pred_value(y_test_sel, y_pred_sel))\n",
    "print(\"test Precision: %s\" % precision_score(y_test_sel, y_pred_sel))\n",
    "print(\"test Recall: %s\" % recall_score(y_test_sel, y_pred_sel))\n",
    "print(\"test AUC: %s\" % roc_auc_score(y_test_sel, y_prob_sel[:,1]))\n",
    "print(\"test F1: %s\" % f1_score(y_test_sel, y_pred_sel))\n",
    "print(\"test AUPR: %s\" % average_precision_score(y_test_sel, y_prob_sel[:,1]))\n",
    "\n",
    "# 0.649, 0.8906, 0.245, 0.571, 0.668, 0.343, 0.346"
   ]
  },
  {
   "cell_type": "code",
   "execution_count": 92,
   "metadata": {},
   "outputs": [],
   "source": [
    "# y_scores = y_prob_sel[:,1]\n",
    "# p, r, thresholds = precision_recall_curve(y_test_sel, y_scores)\n",
    "# precision_recall_threshold(p, r, thresholds, 0.56)"
   ]
  },
  {
   "cell_type": "code",
   "execution_count": 58,
   "metadata": {},
   "outputs": [
    {
     "data": {
      "image/png": "[encoded data removed]",
      "text/plain": [
       "<Figure size 720x504 with 2 Axes>"
      ]
     },
     "metadata": {},
     "output_type": "display_data"
    }
   ],
   "source": [
    "cm = confusion_matrix(y_test_sel, y_pred_sel)\n",
    "df_cm = pd.DataFrame(cm, index = [i for i in [\"SLNB Negative\",\"SLNB Positive\"]],\n",
    "                  columns = [i for i in [\"SLNB Negative\",\"SLNB Positive\"]])\n",
    "plt.figure(figsize = (10,7))\n",
    "ax = sns.heatmap(df_cm, annot=True, cmap='Blues',square=True, fmt='d').set_title('Confusion matrix: Random Forest')\n",
    "plt.xlabel(\"Predicted\")\n",
    "plt.ylabel(\"True\")\n",
    "plt.savefig(BASE_DIR+'../image/confusion_matrix.pdf')"
   ]
  },
  {
   "cell_type": "code",
   "execution_count": 59,
   "metadata": {},
   "outputs": [
    {
     "data": {
      "image/png": "[encoded data removed]",
      "text/plain": [
       "<Figure size 432x864 with 1 Axes>"
      ]
     },
     "metadata": {},
     "output_type": "display_data"
    }
   ],
   "source": [
    "# feature importance\n",
    "# importances = forest.feature_importances_\n",
    "# std = np.std([tree.feature_importances_ for tree in forest.estimators_],\n",
    "#              axis=0)\n",
    "# indices = np.argsort(importances)[::-1]\n",
    "\n",
    "# # Print the feature ranking\n",
    "# print(\"Feature ranking:\")\n",
    "\n",
    "# for f in range(X.shape[1]):\n",
    "#     print(\"%d. feature %d (%f)\" % (f + 1, indices[f], importances[indices[f]]))\n",
    "\n",
    "#mcc_ncdb_sel.drop(['SLNB'], axis=1).columns\n",
    "# feature importances\n",
    "imp = rf.feature_importances_\n",
    "imp_df = pd.DataFrame(data={\"Feature name\": mcc_ncdb_sel.drop(['SLNB'], axis=1).columns,\n",
    "                      \"Importance\": imp}\n",
    "                     ).sort_values(\"Importance\", ascending=False)\n",
    "\n",
    "# Initialize the matplotlib figure\n",
    "f, ax = plt.subplots(figsize=(6, 12))\n",
    "sns.set_color_codes(\"pastel\")\n",
    "sns.barplot(x=\"Importance\", y=\"Feature name\", data=imp_df, color=\"b\")\n",
    "sns.despine(left=True, bottom=True)\n",
    "plt.savefig(BASE_DIR+'../image/feature_importance.png', bbox_inches='tight')"
   ]
  },
  {
   "cell_type": "code",
   "execution_count": 60,
   "metadata": {},
   "outputs": [],
   "source": [
    "# pickling model\n",
    "with open(BASE_DIR+'../model/balanced_rf_augmented_knnimputed_binned.pkl', 'wb') as f:\n",
    "    pkl.dump(rf, f)"
   ]
  },
  {
   "cell_type": "code",
   "execution_count": null,
   "metadata": {},
   "outputs": [],
   "source": []
  }
 ],
 "metadata": {
  "kernelspec": {
   "display_name": "Python 3",
   "language": "python",
   "name": "python3"
  },
  "language_info": {
   "codemirror_mode": {
    "name": "ipython",
    "version": 3
   },
   "file_extension": ".py",
   "mimetype": "text/x-python",
   "name": "python",
   "nbconvert_exporter": "python",
   "pygments_lexer": "ipython3",
   "version": "3.7.9"
  }
 },
 "nbformat": 4,
 "nbformat_minor": 4
}
